{
 "cells": [
  {
   "cell_type": "markdown",
   "id": "c8c6c5e6",
   "metadata": {},
   "source": [
    "# WordNet"
   ]
  },
  {
   "cell_type": "markdown",
   "id": "d4e54be9",
   "metadata": {},
   "source": [
    "WordNet is a hierarchical organization of nouns, verbs, adjectives and adverds, listings:\n",
    "\n",
    "    * Glosses: short definitions\n",
    "    * Synsets: synonym sets\n",
    "    * Use examples\n",
    "    * Relations to other words\n",
    "\n",
    "Detail explanation. [Click here](https://github.com/leonewtonz/NLP-Basic-Python/tree/master/Part_2-Words/Chapter_07_WordNet)\n",
    "\n",
    "Some definittions:\n",
    "\n",
    "- **hypernym** (higher): canine is a hypernym of dog _ Canine included the wolves, jackals, foxes, and coyote\n",
    "- **hyponym** (lower): a dog is a hyponym of canine\n",
    "- **meronym** (part of): wheel is meronym of car\n",
    "- **holonym** (whole): car is holonym of wheel\n",
    "- **troponym** (more specific action): whisper is troponym of talk\n",
    "- **homonyms** (same word form but but have different meanings): dessert (sweet food) vs dessert (dry place with a lot of sand)\n",
    "- **Homophones** (sound alike but spelled differently and have different meanings): "
   ]
  },
  {
   "cell_type": "markdown",
   "id": "17843e1b",
   "metadata": {},
   "source": [
    "## Sample and Package Requirements"
   ]
  },
  {
   "cell_type": "markdown",
   "id": "33aafc1a",
   "metadata": {},
   "source": [
    "Find the synsets of 'exercise'"
   ]
  },
  {
   "cell_type": "code",
   "execution_count": 1,
   "id": "9f2316ea",
   "metadata": {},
   "outputs": [
    {
     "data": {
      "text/plain": [
       "[Synset('exercise.n.01'),\n",
       " Synset('use.n.01'),\n",
       " Synset('exercise.n.03'),\n",
       " Synset('exercise.n.04'),\n",
       " Synset('exercise.n.05'),\n",
       " Synset('exert.v.01'),\n",
       " Synset('practice.v.01'),\n",
       " Synset('exercise.v.03'),\n",
       " Synset('exercise.v.04'),\n",
       " Synset('drill.v.03')]"
      ]
     },
     "execution_count": 1,
     "metadata": {},
     "output_type": "execute_result"
    }
   ],
   "source": [
    "from nltk.corpus import wordnet as wn\n",
    "wn.synsets('exercise')"
   ]
  },
  {
   "cell_type": "markdown",
   "id": "6ed29f0a",
   "metadata": {},
   "source": [
    "## List of common methods"
   ]
  },
  {
   "cell_type": "markdown",
   "id": "c31755d5",
   "metadata": {},
   "source": [
    "1. definition() - retrieves the gloss\n",
    "2. examples() - gives usage cases\n",
    "3. lemmas() - return a list of WordNet entries that are synonyms\n",
    "4. hypernyms()\n",
    "5. part_holonyms()"
   ]
  },
  {
   "cell_type": "markdown",
   "id": "190a6b8e",
   "metadata": {},
   "source": [
    "**Sample code**"
   ]
  },
  {
   "cell_type": "code",
   "execution_count": 2,
   "id": "3b895522",
   "metadata": {},
   "outputs": [
    {
     "data": {
      "text/plain": [
       "'give a workout to'"
      ]
     },
     "execution_count": 2,
     "metadata": {},
     "output_type": "execute_result"
    }
   ],
   "source": [
    "wn.synset('exercise.v.03').definition()"
   ]
  },
  {
   "cell_type": "code",
   "execution_count": 3,
   "id": "da6e6006",
   "metadata": {},
   "outputs": [
    {
     "data": {
      "text/plain": [
       "[Synset('work.v.12')]"
      ]
     },
     "execution_count": 3,
     "metadata": {},
     "output_type": "execute_result"
    }
   ],
   "source": [
    "wn.synset('exercise.v.03').hypernyms()"
   ]
  },
  {
   "cell_type": "code",
   "execution_count": 4,
   "id": "3347d832",
   "metadata": {
    "scrolled": true
   },
   "outputs": [
    {
     "data": {
      "text/plain": [
       "[Synset('hand.n.01')]"
      ]
     },
     "execution_count": 4,
     "metadata": {},
     "output_type": "execute_result"
    }
   ],
   "source": [
    "wn.synset('finger.n.01').part_holonyms()"
   ]
  },
  {
   "cell_type": "code",
   "execution_count": 5,
   "id": "31d32202",
   "metadata": {},
   "outputs": [
    {
     "data": {
      "text/plain": [
       "[Synset('fingernail.n.01'),\n",
       " Synset('fingertip.n.01'),\n",
       " Synset('knuckle.n.01'),\n",
       " Synset('pad.n.07')]"
      ]
     },
     "execution_count": 5,
     "metadata": {},
     "output_type": "execute_result"
    }
   ],
   "source": [
    "wn.synset('finger.n.01').part_meronyms()"
   ]
  },
  {
   "cell_type": "markdown",
   "id": "3f1cbfeb",
   "metadata": {},
   "source": [
    "### Find lemmas in a synset"
   ]
  },
  {
   "cell_type": "markdown",
   "id": "a6a70401",
   "metadata": {},
   "source": [
    "### Traversing the hierarchy"
   ]
  },
  {
   "cell_type": "code",
   "execution_count": 6,
   "id": "3d0f8f2f",
   "metadata": {
    "scrolled": false
   },
   "outputs": [
    {
     "name": "stderr",
     "output_type": "stream",
     "text": [
      "C:\\Users\\lichn\\AppData\\Local\\Programs\\Python\\Python310\\lib\\site-packages\\nltk\\corpus\\reader\\wordnet.py:599: UserWarning: Discarded redundant search for Synset('animal.n.01') at depth 7\n",
      "  for synset in acyclic_breadth_first(self, rel, depth):\n"
     ]
    },
    {
     "data": {
      "text/plain": [
       "[Synset('canine.n.02'),\n",
       " Synset('domestic_animal.n.01'),\n",
       " Synset('carnivore.n.01'),\n",
       " Synset('animal.n.01'),\n",
       " Synset('placental.n.01'),\n",
       " Synset('organism.n.01'),\n",
       " Synset('mammal.n.01'),\n",
       " Synset('living_thing.n.01'),\n",
       " Synset('vertebrate.n.01'),\n",
       " Synset('whole.n.02'),\n",
       " Synset('chordate.n.01'),\n",
       " Synset('object.n.01'),\n",
       " Synset('physical_entity.n.01'),\n",
       " Synset('entity.n.01')]"
      ]
     },
     "execution_count": 6,
     "metadata": {},
     "output_type": "execute_result"
    }
   ],
   "source": [
    "# traverse up from \"dog\" synset\n",
    "dog = wn.synset('dog.n.01')\n",
    "hyper = lambda s: s.hypernyms()\n",
    "list(dog.closure(hyper))"
   ]
  },
  {
   "cell_type": "code",
   "execution_count": 7,
   "id": "d2a7ee87",
   "metadata": {
    "scrolled": true
   },
   "outputs": [
    {
     "name": "stdout",
     "output_type": "stream",
     "text": [
      "Synset('canine.n.02')\n",
      "Synset('carnivore.n.01')\n",
      "Synset('placental.n.01')\n",
      "Synset('mammal.n.01')\n",
      "Synset('vertebrate.n.01')\n",
      "Synset('chordate.n.01')\n",
      "Synset('animal.n.01')\n",
      "Synset('organism.n.01')\n",
      "Synset('living_thing.n.01')\n",
      "Synset('whole.n.02')\n",
      "Synset('object.n.01')\n",
      "Synset('physical_entity.n.01')\n",
      "Synset('entity.n.01')\n"
     ]
    }
   ],
   "source": [
    "hyp = dog.hypernyms()[0]\n",
    "top = wn.synset('entity.n.01')\n",
    "while hyp:\n",
    "    print(hyp)\n",
    "    if hyp == top:\n",
    "        break\n",
    "    if hyp.hypernyms():\n",
    "        hyp = hyp.hypernyms()[0]"
   ]
  },
  {
   "cell_type": "markdown",
   "id": "45618398",
   "metadata": {},
   "source": [
    "### Word Similarity"
   ]
  },
  {
   "cell_type": "markdown",
   "id": "e6858bf1",
   "metadata": {},
   "source": [
    "Similarity ranges from 0 (little similarity) to 1 (identity)\n",
    "\n",
    "    path_similarity()"
   ]
  },
  {
   "cell_type": "code",
   "execution_count": 8,
   "id": "5612c8a6",
   "metadata": {},
   "outputs": [
    {
     "name": "stdout",
     "output_type": "stream",
     "text": [
      "0.2\n"
     ]
    }
   ],
   "source": [
    "dog = wn.synset('dog.n.01')\n",
    "cat = wn.synset('cat.n.01')\n",
    "print(dog.path_similarity(cat))"
   ]
  },
  {
   "cell_type": "code",
   "execution_count": 9,
   "id": "66d7471e",
   "metadata": {
    "scrolled": true
   },
   "outputs": [
    {
     "name": "stdout",
     "output_type": "stream",
     "text": [
      "0.14285714285714285\n"
     ]
    }
   ],
   "source": [
    "hit = wn.synset('hit.v.01')\n",
    "slap = wn.synset('slap.v.01')\n",
    "print(wn.path_similarity(hit, slap))"
   ]
  },
  {
   "cell_type": "markdown",
   "id": "a0b783ee",
   "metadata": {},
   "source": [
    "**Compare to Wu_Palmer**"
   ]
  },
  {
   "cell_type": "code",
   "execution_count": 10,
   "id": "e83a6d5e",
   "metadata": {},
   "outputs": [
    {
     "data": {
      "text/plain": [
       "0.8571428571428571"
      ]
     },
     "execution_count": 10,
     "metadata": {},
     "output_type": "execute_result"
    }
   ],
   "source": [
    "wn.wup_similarity(dog,cat)"
   ]
  },
  {
   "cell_type": "code",
   "execution_count": 11,
   "id": "f7a3e159",
   "metadata": {},
   "outputs": [
    {
     "data": {
      "text/plain": [
       "0.25"
      ]
     },
     "execution_count": 11,
     "metadata": {},
     "output_type": "execute_result"
    }
   ],
   "source": [
    "wn.wup_similarity(hit,slap)"
   ]
  },
  {
   "cell_type": "markdown",
   "id": "8b59fda5",
   "metadata": {},
   "source": [
    "# WSD Word Sense Disambiguation"
   ]
  },
  {
   "cell_type": "markdown",
   "id": "e7fd5d8b",
   "metadata": {},
   "source": [
    "Homonyms\n",
    "\n",
    "Homophones\n",
    "\n",
    "Polysemous\n",
    "\n",
    "Metonymy\n",
    "\n",
    "Synecdoche"
   ]
  },
  {
   "cell_type": "markdown",
   "id": "f5fab86f",
   "metadata": {},
   "source": [
    "### Lesk Algorithm"
   ]
  },
  {
   "cell_type": "code",
   "execution_count": 12,
   "id": "26f4ba14",
   "metadata": {},
   "outputs": [
    {
     "name": "stdout",
     "output_type": "stream",
     "text": [
      "Synset('savings_bank.n.02')\n"
     ]
    }
   ],
   "source": [
    "from nltk.wsd import lesk\n",
    "sent = ['I', 'went', 'to', 'the', 'bank', 'to', 'deposit', 'money', '.']\n",
    "print(lesk(sent, 'bank','n'))"
   ]
  },
  {
   "cell_type": "markdown",
   "id": "8483058c",
   "metadata": {},
   "source": [
    "## Sentiment Analysis"
   ]
  },
  {
   "cell_type": "markdown",
   "id": "47296a13",
   "metadata": {},
   "source": [
    "Assigns 3 scores:\n",
    "\n",
    "- Postive\n",
    "- Negative\n",
    "- Objectivity (Objective/Subjective)"
   ]
  },
  {
   "cell_type": "code",
   "execution_count": 13,
   "id": "0644d28a",
   "metadata": {},
   "outputs": [],
   "source": [
    "from nltk.corpus import sentiwordnet as swn"
   ]
  },
  {
   "cell_type": "code",
   "execution_count": 14,
   "id": "c7c73de9",
   "metadata": {
    "scrolled": true
   },
   "outputs": [
    {
     "name": "stdout",
     "output_type": "stream",
     "text": [
      "['that', 'was', 'the', 'worst', 'movie', 'ever']\n",
      "<washington.n.02: PosScore=0.0 NegScore=0.0>\n",
      "<worst.n.01: PosScore=0.0 NegScore=1.0>\n",
      "<movie.n.01: PosScore=0.0 NegScore=0.0>\n",
      "<ever.r.01: PosScore=0.0 NegScore=0.0>\n",
      "neg\tpos\n",
      "1.0 \t 0.0\n"
     ]
    }
   ],
   "source": [
    "sent = 'that was the worst movie ever'\n",
    "tokens = sent.split()\n",
    "print(tokens)\n",
    "pos = 0\n",
    "neg = 0\n",
    "for token in tokens:\n",
    "    syn_list = list(swn.senti_synsets(token))\n",
    "    if syn_list:\n",
    "        syn = syn_list[0]\n",
    "        print(syn)\n",
    "        neg += syn.neg_score()\n",
    "        pos += syn.pos_score()\n",
    "print('neg\\tpos')\n",
    "print(neg, '\\t', pos)"
   ]
  },
  {
   "cell_type": "markdown",
   "id": "82dba5e0",
   "metadata": {},
   "source": [
    "## Vader"
   ]
  },
  {
   "cell_type": "markdown",
   "id": "3435077d",
   "metadata": {},
   "source": [
    "## Collocations"
   ]
  },
  {
   "cell_type": "code",
   "execution_count": 15,
   "id": "359a7a87",
   "metadata": {},
   "outputs": [
    {
     "data": {
      "text/plain": [
       "[Synset('feline.n.01')]"
      ]
     },
     "execution_count": 15,
     "metadata": {},
     "output_type": "execute_result"
    }
   ],
   "source": [
    "wn.synset('cat.n.01').hypernyms()"
   ]
  },
  {
   "cell_type": "code",
   "execution_count": 16,
   "id": "8c532238",
   "metadata": {},
   "outputs": [
    {
     "data": {
      "text/plain": [
       "[Synset('domestic_cat.n.01'), Synset('wildcat.n.03')]"
      ]
     },
     "execution_count": 16,
     "metadata": {},
     "output_type": "execute_result"
    }
   ],
   "source": [
    "wn.synset('cat.n.01').hyponyms()"
   ]
  }
 ],
 "metadata": {
  "kernelspec": {
   "display_name": "Python 3 (ipykernel)",
   "language": "python",
   "name": "python3"
  },
  "language_info": {
   "codemirror_mode": {
    "name": "ipython",
    "version": 3
   },
   "file_extension": ".py",
   "mimetype": "text/x-python",
   "name": "python",
   "nbconvert_exporter": "python",
   "pygments_lexer": "ipython3",
   "version": "3.10.4"
  }
 },
 "nbformat": 4,
 "nbformat_minor": 5
}
