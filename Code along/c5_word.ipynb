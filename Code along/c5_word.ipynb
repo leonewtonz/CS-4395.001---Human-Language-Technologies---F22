{
 "cells": [
  {
   "cell_type": "markdown",
   "metadata": {},
   "source": [
    "# Chapter 5 - Words"
   ]
  },
  {
   "cell_type": "markdown",
   "metadata": {},
   "source": [
    "Link for detail explanation. Click here:\n",
    "* [5.1-Word](https://github.com/leonewtonz/NLP-Basic-Python/blob/master/Part_2-Words/Chapter_05_words/5.1_Words1.ipynb)\n",
    "* [5.2-Word](https://github.com/leonewtonz/NLP-Basic-Python/blob/master/Part_2-Words/Chapter_05_words/5.2_Words2.ipynb)"
   ]
  },
  {
   "cell_type": "code",
   "execution_count": 1,
   "metadata": {
    "colab": {
     "base_uri": "https://localhost:8080/"
    },
    "id": "kl1pmkzRJfz2",
    "outputId": "a2ef5e61-6b5b-4f97-c8a2-f5b2bb87ccb1"
   },
   "outputs": [
    {
     "name": "stderr",
     "output_type": "stream",
     "text": [
      "[nltk_data] Downloading collection 'all'\n",
      "[nltk_data]    | \n",
      "[nltk_data]    | Downloading package abc to\n",
      "[nltk_data]    |     C:\\Users\\lichn\\AppData\\Roaming\\nltk_data...\n",
      "[nltk_data]    |   Package abc is already up-to-date!\n",
      "[nltk_data]    | Downloading package alpino to\n",
      "[nltk_data]    |     C:\\Users\\lichn\\AppData\\Roaming\\nltk_data...\n",
      "[nltk_data]    |   Package alpino is already up-to-date!\n",
      "[nltk_data]    | Downloading package averaged_perceptron_tagger to\n",
      "[nltk_data]    |     C:\\Users\\lichn\\AppData\\Roaming\\nltk_data...\n",
      "[nltk_data]    |   Package averaged_perceptron_tagger is already up-\n",
      "[nltk_data]    |       to-date!\n",
      "[nltk_data]    | Downloading package averaged_perceptron_tagger_ru to\n",
      "[nltk_data]    |     C:\\Users\\lichn\\AppData\\Roaming\\nltk_data...\n",
      "[nltk_data]    |   Package averaged_perceptron_tagger_ru is already\n",
      "[nltk_data]    |       up-to-date!\n",
      "[nltk_data]    | Downloading package basque_grammars to\n",
      "[nltk_data]    |     C:\\Users\\lichn\\AppData\\Roaming\\nltk_data...\n",
      "[nltk_data]    |   Package basque_grammars is already up-to-date!\n",
      "[nltk_data]    | Downloading package biocreative_ppi to\n",
      "[nltk_data]    |     C:\\Users\\lichn\\AppData\\Roaming\\nltk_data...\n",
      "[nltk_data]    |   Package biocreative_ppi is already up-to-date!\n",
      "[nltk_data]    | Downloading package bllip_wsj_no_aux to\n",
      "[nltk_data]    |     C:\\Users\\lichn\\AppData\\Roaming\\nltk_data...\n",
      "[nltk_data]    |   Package bllip_wsj_no_aux is already up-to-date!\n",
      "[nltk_data]    | Downloading package book_grammars to\n",
      "[nltk_data]    |     C:\\Users\\lichn\\AppData\\Roaming\\nltk_data...\n",
      "[nltk_data]    |   Package book_grammars is already up-to-date!\n",
      "[nltk_data]    | Downloading package brown to\n",
      "[nltk_data]    |     C:\\Users\\lichn\\AppData\\Roaming\\nltk_data...\n",
      "[nltk_data]    |   Package brown is already up-to-date!\n",
      "[nltk_data]    | Downloading package brown_tei to\n",
      "[nltk_data]    |     C:\\Users\\lichn\\AppData\\Roaming\\nltk_data...\n",
      "[nltk_data]    |   Package brown_tei is already up-to-date!\n",
      "[nltk_data]    | Downloading package cess_cat to\n",
      "[nltk_data]    |     C:\\Users\\lichn\\AppData\\Roaming\\nltk_data...\n",
      "[nltk_data]    |   Package cess_cat is already up-to-date!\n",
      "[nltk_data]    | Downloading package cess_esp to\n",
      "[nltk_data]    |     C:\\Users\\lichn\\AppData\\Roaming\\nltk_data...\n",
      "[nltk_data]    |   Package cess_esp is already up-to-date!\n",
      "[nltk_data]    | Downloading package chat80 to\n",
      "[nltk_data]    |     C:\\Users\\lichn\\AppData\\Roaming\\nltk_data...\n",
      "[nltk_data]    |   Package chat80 is already up-to-date!\n",
      "[nltk_data]    | Downloading package city_database to\n",
      "[nltk_data]    |     C:\\Users\\lichn\\AppData\\Roaming\\nltk_data...\n",
      "[nltk_data]    |   Package city_database is already up-to-date!\n",
      "[nltk_data]    | Downloading package cmudict to\n",
      "[nltk_data]    |     C:\\Users\\lichn\\AppData\\Roaming\\nltk_data...\n",
      "[nltk_data]    |   Package cmudict is already up-to-date!\n",
      "[nltk_data]    | Downloading package comparative_sentences to\n",
      "[nltk_data]    |     C:\\Users\\lichn\\AppData\\Roaming\\nltk_data...\n",
      "[nltk_data]    |   Package comparative_sentences is already up-to-\n",
      "[nltk_data]    |       date!\n",
      "[nltk_data]    | Downloading package comtrans to\n",
      "[nltk_data]    |     C:\\Users\\lichn\\AppData\\Roaming\\nltk_data...\n",
      "[nltk_data]    |   Package comtrans is already up-to-date!\n",
      "[nltk_data]    | Downloading package conll2000 to\n",
      "[nltk_data]    |     C:\\Users\\lichn\\AppData\\Roaming\\nltk_data...\n",
      "[nltk_data]    |   Package conll2000 is already up-to-date!\n",
      "[nltk_data]    | Downloading package conll2002 to\n",
      "[nltk_data]    |     C:\\Users\\lichn\\AppData\\Roaming\\nltk_data...\n",
      "[nltk_data]    |   Package conll2002 is already up-to-date!\n",
      "[nltk_data]    | Downloading package conll2007 to\n",
      "[nltk_data]    |     C:\\Users\\lichn\\AppData\\Roaming\\nltk_data...\n",
      "[nltk_data]    |   Package conll2007 is already up-to-date!\n",
      "[nltk_data]    | Downloading package crubadan to\n",
      "[nltk_data]    |     C:\\Users\\lichn\\AppData\\Roaming\\nltk_data...\n",
      "[nltk_data]    |   Package crubadan is already up-to-date!\n",
      "[nltk_data]    | Downloading package dependency_treebank to\n",
      "[nltk_data]    |     C:\\Users\\lichn\\AppData\\Roaming\\nltk_data...\n",
      "[nltk_data]    |   Package dependency_treebank is already up-to-date!\n",
      "[nltk_data]    | Downloading package dolch to\n",
      "[nltk_data]    |     C:\\Users\\lichn\\AppData\\Roaming\\nltk_data...\n",
      "[nltk_data]    |   Package dolch is already up-to-date!\n",
      "[nltk_data]    | Downloading package europarl_raw to\n",
      "[nltk_data]    |     C:\\Users\\lichn\\AppData\\Roaming\\nltk_data...\n",
      "[nltk_data]    |   Package europarl_raw is already up-to-date!\n",
      "[nltk_data]    | Downloading package extended_omw to\n",
      "[nltk_data]    |     C:\\Users\\lichn\\AppData\\Roaming\\nltk_data...\n",
      "[nltk_data]    |   Package extended_omw is already up-to-date!\n",
      "[nltk_data]    | Downloading package floresta to\n",
      "[nltk_data]    |     C:\\Users\\lichn\\AppData\\Roaming\\nltk_data...\n",
      "[nltk_data]    |   Package floresta is already up-to-date!\n",
      "[nltk_data]    | Downloading package framenet_v15 to\n",
      "[nltk_data]    |     C:\\Users\\lichn\\AppData\\Roaming\\nltk_data...\n",
      "[nltk_data]    |   Package framenet_v15 is already up-to-date!\n",
      "[nltk_data]    | Downloading package framenet_v17 to\n",
      "[nltk_data]    |     C:\\Users\\lichn\\AppData\\Roaming\\nltk_data...\n",
      "[nltk_data]    |   Package framenet_v17 is already up-to-date!\n",
      "[nltk_data]    | Downloading package gazetteers to\n",
      "[nltk_data]    |     C:\\Users\\lichn\\AppData\\Roaming\\nltk_data...\n",
      "[nltk_data]    |   Package gazetteers is already up-to-date!\n",
      "[nltk_data]    | Downloading package genesis to\n",
      "[nltk_data]    |     C:\\Users\\lichn\\AppData\\Roaming\\nltk_data...\n",
      "[nltk_data]    |   Package genesis is already up-to-date!\n",
      "[nltk_data]    | Downloading package gutenberg to\n",
      "[nltk_data]    |     C:\\Users\\lichn\\AppData\\Roaming\\nltk_data...\n",
      "[nltk_data]    |   Package gutenberg is already up-to-date!\n",
      "[nltk_data]    | Downloading package ieer to\n",
      "[nltk_data]    |     C:\\Users\\lichn\\AppData\\Roaming\\nltk_data...\n",
      "[nltk_data]    |   Package ieer is already up-to-date!\n",
      "[nltk_data]    | Downloading package inaugural to\n",
      "[nltk_data]    |     C:\\Users\\lichn\\AppData\\Roaming\\nltk_data...\n",
      "[nltk_data]    |   Package inaugural is already up-to-date!\n",
      "[nltk_data]    | Downloading package indian to\n",
      "[nltk_data]    |     C:\\Users\\lichn\\AppData\\Roaming\\nltk_data...\n",
      "[nltk_data]    |   Package indian is already up-to-date!\n",
      "[nltk_data]    | Downloading package jeita to\n",
      "[nltk_data]    |     C:\\Users\\lichn\\AppData\\Roaming\\nltk_data...\n",
      "[nltk_data]    |   Package jeita is already up-to-date!\n",
      "[nltk_data]    | Downloading package kimmo to\n",
      "[nltk_data]    |     C:\\Users\\lichn\\AppData\\Roaming\\nltk_data...\n",
      "[nltk_data]    |   Package kimmo is already up-to-date!\n",
      "[nltk_data]    | Downloading package knbc to\n",
      "[nltk_data]    |     C:\\Users\\lichn\\AppData\\Roaming\\nltk_data...\n",
      "[nltk_data]    |   Package knbc is already up-to-date!\n",
      "[nltk_data]    | Downloading package large_grammars to\n",
      "[nltk_data]    |     C:\\Users\\lichn\\AppData\\Roaming\\nltk_data...\n",
      "[nltk_data]    |   Package large_grammars is already up-to-date!\n",
      "[nltk_data]    | Downloading package lin_thesaurus to\n",
      "[nltk_data]    |     C:\\Users\\lichn\\AppData\\Roaming\\nltk_data...\n",
      "[nltk_data]    |   Package lin_thesaurus is already up-to-date!\n",
      "[nltk_data]    | Downloading package mac_morpho to\n",
      "[nltk_data]    |     C:\\Users\\lichn\\AppData\\Roaming\\nltk_data...\n",
      "[nltk_data]    |   Package mac_morpho is already up-to-date!\n",
      "[nltk_data]    | Downloading package machado to\n",
      "[nltk_data]    |     C:\\Users\\lichn\\AppData\\Roaming\\nltk_data...\n",
      "[nltk_data]    |   Package machado is already up-to-date!\n",
      "[nltk_data]    | Downloading package masc_tagged to\n",
      "[nltk_data]    |     C:\\Users\\lichn\\AppData\\Roaming\\nltk_data...\n",
      "[nltk_data]    |   Package masc_tagged is already up-to-date!\n",
      "[nltk_data]    | Downloading package maxent_ne_chunker to\n",
      "[nltk_data]    |     C:\\Users\\lichn\\AppData\\Roaming\\nltk_data...\n",
      "[nltk_data]    |   Package maxent_ne_chunker is already up-to-date!\n",
      "[nltk_data]    | Downloading package maxent_treebank_pos_tagger to\n",
      "[nltk_data]    |     C:\\Users\\lichn\\AppData\\Roaming\\nltk_data...\n",
      "[nltk_data]    |   Package maxent_treebank_pos_tagger is already up-\n",
      "[nltk_data]    |       to-date!\n",
      "[nltk_data]    | Downloading package moses_sample to\n",
      "[nltk_data]    |     C:\\Users\\lichn\\AppData\\Roaming\\nltk_data...\n",
      "[nltk_data]    |   Package moses_sample is already up-to-date!\n",
      "[nltk_data]    | Downloading package movie_reviews to\n",
      "[nltk_data]    |     C:\\Users\\lichn\\AppData\\Roaming\\nltk_data...\n"
     ]
    },
    {
     "name": "stderr",
     "output_type": "stream",
     "text": [
      "[nltk_data]    |   Package movie_reviews is already up-to-date!\n",
      "[nltk_data]    | Downloading package mte_teip5 to\n",
      "[nltk_data]    |     C:\\Users\\lichn\\AppData\\Roaming\\nltk_data...\n",
      "[nltk_data]    |   Package mte_teip5 is already up-to-date!\n",
      "[nltk_data]    | Downloading package mwa_ppdb to\n",
      "[nltk_data]    |     C:\\Users\\lichn\\AppData\\Roaming\\nltk_data...\n",
      "[nltk_data]    |   Package mwa_ppdb is already up-to-date!\n",
      "[nltk_data]    | Downloading package names to\n",
      "[nltk_data]    |     C:\\Users\\lichn\\AppData\\Roaming\\nltk_data...\n",
      "[nltk_data]    |   Package names is already up-to-date!\n",
      "[nltk_data]    | Downloading package nombank.1.0 to\n",
      "[nltk_data]    |     C:\\Users\\lichn\\AppData\\Roaming\\nltk_data...\n",
      "[nltk_data]    |   Package nombank.1.0 is already up-to-date!\n",
      "[nltk_data]    | Downloading package nonbreaking_prefixes to\n",
      "[nltk_data]    |     C:\\Users\\lichn\\AppData\\Roaming\\nltk_data...\n",
      "[nltk_data]    |   Package nonbreaking_prefixes is already up-to-date!\n",
      "[nltk_data]    | Downloading package nps_chat to\n",
      "[nltk_data]    |     C:\\Users\\lichn\\AppData\\Roaming\\nltk_data...\n",
      "[nltk_data]    |   Package nps_chat is already up-to-date!\n",
      "[nltk_data]    | Downloading package omw to\n",
      "[nltk_data]    |     C:\\Users\\lichn\\AppData\\Roaming\\nltk_data...\n",
      "[nltk_data]    |   Package omw is already up-to-date!\n",
      "[nltk_data]    | Downloading package omw-1.4 to\n",
      "[nltk_data]    |     C:\\Users\\lichn\\AppData\\Roaming\\nltk_data...\n",
      "[nltk_data]    |   Package omw-1.4 is already up-to-date!\n",
      "[nltk_data]    | Downloading package opinion_lexicon to\n",
      "[nltk_data]    |     C:\\Users\\lichn\\AppData\\Roaming\\nltk_data...\n",
      "[nltk_data]    |   Package opinion_lexicon is already up-to-date!\n",
      "[nltk_data]    | Downloading package panlex_swadesh to\n",
      "[nltk_data]    |     C:\\Users\\lichn\\AppData\\Roaming\\nltk_data...\n",
      "[nltk_data]    |   Package panlex_swadesh is already up-to-date!\n",
      "[nltk_data]    | Downloading package paradigms to\n",
      "[nltk_data]    |     C:\\Users\\lichn\\AppData\\Roaming\\nltk_data...\n",
      "[nltk_data]    |   Package paradigms is already up-to-date!\n",
      "[nltk_data]    | Downloading package pe08 to\n",
      "[nltk_data]    |     C:\\Users\\lichn\\AppData\\Roaming\\nltk_data...\n",
      "[nltk_data]    |   Package pe08 is already up-to-date!\n",
      "[nltk_data]    | Downloading package perluniprops to\n",
      "[nltk_data]    |     C:\\Users\\lichn\\AppData\\Roaming\\nltk_data...\n",
      "[nltk_data]    |   Package perluniprops is already up-to-date!\n",
      "[nltk_data]    | Downloading package pil to\n",
      "[nltk_data]    |     C:\\Users\\lichn\\AppData\\Roaming\\nltk_data...\n",
      "[nltk_data]    |   Package pil is already up-to-date!\n",
      "[nltk_data]    | Downloading package pl196x to\n",
      "[nltk_data]    |     C:\\Users\\lichn\\AppData\\Roaming\\nltk_data...\n",
      "[nltk_data]    |   Package pl196x is already up-to-date!\n",
      "[nltk_data]    | Downloading package porter_test to\n",
      "[nltk_data]    |     C:\\Users\\lichn\\AppData\\Roaming\\nltk_data...\n",
      "[nltk_data]    |   Package porter_test is already up-to-date!\n",
      "[nltk_data]    | Downloading package ppattach to\n",
      "[nltk_data]    |     C:\\Users\\lichn\\AppData\\Roaming\\nltk_data...\n",
      "[nltk_data]    |   Package ppattach is already up-to-date!\n",
      "[nltk_data]    | Downloading package problem_reports to\n",
      "[nltk_data]    |     C:\\Users\\lichn\\AppData\\Roaming\\nltk_data...\n",
      "[nltk_data]    |   Package problem_reports is already up-to-date!\n",
      "[nltk_data]    | Downloading package product_reviews_1 to\n",
      "[nltk_data]    |     C:\\Users\\lichn\\AppData\\Roaming\\nltk_data...\n",
      "[nltk_data]    |   Package product_reviews_1 is already up-to-date!\n",
      "[nltk_data]    | Downloading package product_reviews_2 to\n",
      "[nltk_data]    |     C:\\Users\\lichn\\AppData\\Roaming\\nltk_data...\n",
      "[nltk_data]    |   Package product_reviews_2 is already up-to-date!\n",
      "[nltk_data]    | Downloading package propbank to\n",
      "[nltk_data]    |     C:\\Users\\lichn\\AppData\\Roaming\\nltk_data...\n",
      "[nltk_data]    |   Package propbank is already up-to-date!\n",
      "[nltk_data]    | Downloading package pros_cons to\n",
      "[nltk_data]    |     C:\\Users\\lichn\\AppData\\Roaming\\nltk_data...\n",
      "[nltk_data]    |   Package pros_cons is already up-to-date!\n",
      "[nltk_data]    | Downloading package ptb to\n",
      "[nltk_data]    |     C:\\Users\\lichn\\AppData\\Roaming\\nltk_data...\n",
      "[nltk_data]    |   Package ptb is already up-to-date!\n",
      "[nltk_data]    | Downloading package punkt to\n",
      "[nltk_data]    |     C:\\Users\\lichn\\AppData\\Roaming\\nltk_data...\n",
      "[nltk_data]    |   Package punkt is already up-to-date!\n",
      "[nltk_data]    | Downloading package qc to\n",
      "[nltk_data]    |     C:\\Users\\lichn\\AppData\\Roaming\\nltk_data...\n",
      "[nltk_data]    |   Package qc is already up-to-date!\n",
      "[nltk_data]    | Downloading package reuters to\n",
      "[nltk_data]    |     C:\\Users\\lichn\\AppData\\Roaming\\nltk_data...\n",
      "[nltk_data]    |   Package reuters is already up-to-date!\n",
      "[nltk_data]    | Downloading package rslp to\n",
      "[nltk_data]    |     C:\\Users\\lichn\\AppData\\Roaming\\nltk_data...\n",
      "[nltk_data]    |   Package rslp is already up-to-date!\n",
      "[nltk_data]    | Downloading package rte to\n",
      "[nltk_data]    |     C:\\Users\\lichn\\AppData\\Roaming\\nltk_data...\n",
      "[nltk_data]    |   Package rte is already up-to-date!\n",
      "[nltk_data]    | Downloading package sample_grammars to\n",
      "[nltk_data]    |     C:\\Users\\lichn\\AppData\\Roaming\\nltk_data...\n",
      "[nltk_data]    |   Package sample_grammars is already up-to-date!\n",
      "[nltk_data]    | Downloading package semcor to\n",
      "[nltk_data]    |     C:\\Users\\lichn\\AppData\\Roaming\\nltk_data...\n",
      "[nltk_data]    |   Package semcor is already up-to-date!\n",
      "[nltk_data]    | Downloading package senseval to\n",
      "[nltk_data]    |     C:\\Users\\lichn\\AppData\\Roaming\\nltk_data...\n",
      "[nltk_data]    |   Package senseval is already up-to-date!\n",
      "[nltk_data]    | Downloading package sentence_polarity to\n",
      "[nltk_data]    |     C:\\Users\\lichn\\AppData\\Roaming\\nltk_data...\n",
      "[nltk_data]    |   Package sentence_polarity is already up-to-date!\n",
      "[nltk_data]    | Downloading package sentiwordnet to\n",
      "[nltk_data]    |     C:\\Users\\lichn\\AppData\\Roaming\\nltk_data...\n",
      "[nltk_data]    |   Package sentiwordnet is already up-to-date!\n",
      "[nltk_data]    | Downloading package shakespeare to\n",
      "[nltk_data]    |     C:\\Users\\lichn\\AppData\\Roaming\\nltk_data...\n",
      "[nltk_data]    |   Package shakespeare is already up-to-date!\n",
      "[nltk_data]    | Downloading package sinica_treebank to\n",
      "[nltk_data]    |     C:\\Users\\lichn\\AppData\\Roaming\\nltk_data...\n",
      "[nltk_data]    |   Package sinica_treebank is already up-to-date!\n",
      "[nltk_data]    | Downloading package smultron to\n",
      "[nltk_data]    |     C:\\Users\\lichn\\AppData\\Roaming\\nltk_data...\n",
      "[nltk_data]    |   Package smultron is already up-to-date!\n",
      "[nltk_data]    | Downloading package snowball_data to\n",
      "[nltk_data]    |     C:\\Users\\lichn\\AppData\\Roaming\\nltk_data...\n",
      "[nltk_data]    |   Package snowball_data is already up-to-date!\n",
      "[nltk_data]    | Downloading package spanish_grammars to\n",
      "[nltk_data]    |     C:\\Users\\lichn\\AppData\\Roaming\\nltk_data...\n",
      "[nltk_data]    |   Package spanish_grammars is already up-to-date!\n",
      "[nltk_data]    | Downloading package state_union to\n",
      "[nltk_data]    |     C:\\Users\\lichn\\AppData\\Roaming\\nltk_data...\n",
      "[nltk_data]    |   Package state_union is already up-to-date!\n",
      "[nltk_data]    | Downloading package stopwords to\n",
      "[nltk_data]    |     C:\\Users\\lichn\\AppData\\Roaming\\nltk_data...\n",
      "[nltk_data]    |   Package stopwords is already up-to-date!\n",
      "[nltk_data]    | Downloading package subjectivity to\n",
      "[nltk_data]    |     C:\\Users\\lichn\\AppData\\Roaming\\nltk_data...\n",
      "[nltk_data]    |   Package subjectivity is already up-to-date!\n",
      "[nltk_data]    | Downloading package swadesh to\n",
      "[nltk_data]    |     C:\\Users\\lichn\\AppData\\Roaming\\nltk_data...\n",
      "[nltk_data]    |   Package swadesh is already up-to-date!\n",
      "[nltk_data]    | Downloading package switchboard to\n",
      "[nltk_data]    |     C:\\Users\\lichn\\AppData\\Roaming\\nltk_data...\n",
      "[nltk_data]    |   Package switchboard is already up-to-date!\n",
      "[nltk_data]    | Downloading package tagsets to\n",
      "[nltk_data]    |     C:\\Users\\lichn\\AppData\\Roaming\\nltk_data...\n",
      "[nltk_data]    |   Package tagsets is already up-to-date!\n",
      "[nltk_data]    | Downloading package timit to\n",
      "[nltk_data]    |     C:\\Users\\lichn\\AppData\\Roaming\\nltk_data...\n",
      "[nltk_data]    |   Package timit is already up-to-date!\n",
      "[nltk_data]    | Downloading package toolbox to\n",
      "[nltk_data]    |     C:\\Users\\lichn\\AppData\\Roaming\\nltk_data...\n",
      "[nltk_data]    |   Package toolbox is already up-to-date!\n",
      "[nltk_data]    | Downloading package treebank to\n",
      "[nltk_data]    |     C:\\Users\\lichn\\AppData\\Roaming\\nltk_data...\n"
     ]
    },
    {
     "name": "stderr",
     "output_type": "stream",
     "text": [
      "[nltk_data]    |   Package treebank is already up-to-date!\n",
      "[nltk_data]    | Downloading package twitter_samples to\n",
      "[nltk_data]    |     C:\\Users\\lichn\\AppData\\Roaming\\nltk_data...\n",
      "[nltk_data]    |   Package twitter_samples is already up-to-date!\n",
      "[nltk_data]    | Downloading package udhr to\n",
      "[nltk_data]    |     C:\\Users\\lichn\\AppData\\Roaming\\nltk_data...\n",
      "[nltk_data]    |   Package udhr is already up-to-date!\n",
      "[nltk_data]    | Downloading package udhr2 to\n",
      "[nltk_data]    |     C:\\Users\\lichn\\AppData\\Roaming\\nltk_data...\n",
      "[nltk_data]    |   Package udhr2 is already up-to-date!\n",
      "[nltk_data]    | Downloading package unicode_samples to\n",
      "[nltk_data]    |     C:\\Users\\lichn\\AppData\\Roaming\\nltk_data...\n",
      "[nltk_data]    |   Package unicode_samples is already up-to-date!\n",
      "[nltk_data]    | Downloading package universal_tagset to\n",
      "[nltk_data]    |     C:\\Users\\lichn\\AppData\\Roaming\\nltk_data...\n",
      "[nltk_data]    |   Package universal_tagset is already up-to-date!\n",
      "[nltk_data]    | Downloading package universal_treebanks_v20 to\n",
      "[nltk_data]    |     C:\\Users\\lichn\\AppData\\Roaming\\nltk_data...\n",
      "[nltk_data]    |   Package universal_treebanks_v20 is already up-to-\n",
      "[nltk_data]    |       date!\n",
      "[nltk_data]    | Downloading package vader_lexicon to\n",
      "[nltk_data]    |     C:\\Users\\lichn\\AppData\\Roaming\\nltk_data...\n",
      "[nltk_data]    |   Package vader_lexicon is already up-to-date!\n",
      "[nltk_data]    | Downloading package verbnet to\n",
      "[nltk_data]    |     C:\\Users\\lichn\\AppData\\Roaming\\nltk_data...\n",
      "[nltk_data]    |   Package verbnet is already up-to-date!\n",
      "[nltk_data]    | Downloading package verbnet3 to\n",
      "[nltk_data]    |     C:\\Users\\lichn\\AppData\\Roaming\\nltk_data...\n",
      "[nltk_data]    |   Package verbnet3 is already up-to-date!\n",
      "[nltk_data]    | Downloading package webtext to\n",
      "[nltk_data]    |     C:\\Users\\lichn\\AppData\\Roaming\\nltk_data...\n",
      "[nltk_data]    |   Package webtext is already up-to-date!\n",
      "[nltk_data]    | Downloading package wmt15_eval to\n",
      "[nltk_data]    |     C:\\Users\\lichn\\AppData\\Roaming\\nltk_data...\n",
      "[nltk_data]    |   Package wmt15_eval is already up-to-date!\n",
      "[nltk_data]    | Downloading package word2vec_sample to\n",
      "[nltk_data]    |     C:\\Users\\lichn\\AppData\\Roaming\\nltk_data...\n",
      "[nltk_data]    |   Package word2vec_sample is already up-to-date!\n",
      "[nltk_data]    | Downloading package wordnet to\n",
      "[nltk_data]    |     C:\\Users\\lichn\\AppData\\Roaming\\nltk_data...\n",
      "[nltk_data]    |   Package wordnet is already up-to-date!\n",
      "[nltk_data]    | Downloading package wordnet2021 to\n",
      "[nltk_data]    |     C:\\Users\\lichn\\AppData\\Roaming\\nltk_data...\n",
      "[nltk_data]    |   Package wordnet2021 is already up-to-date!\n",
      "[nltk_data]    | Downloading package wordnet31 to\n",
      "[nltk_data]    |     C:\\Users\\lichn\\AppData\\Roaming\\nltk_data...\n",
      "[nltk_data]    |   Package wordnet31 is already up-to-date!\n",
      "[nltk_data]    | Downloading package wordnet_ic to\n",
      "[nltk_data]    |     C:\\Users\\lichn\\AppData\\Roaming\\nltk_data...\n",
      "[nltk_data]    |   Package wordnet_ic is already up-to-date!\n",
      "[nltk_data]    | Downloading package words to\n",
      "[nltk_data]    |     C:\\Users\\lichn\\AppData\\Roaming\\nltk_data...\n",
      "[nltk_data]    |   Package words is already up-to-date!\n",
      "[nltk_data]    | Downloading package ycoe to\n",
      "[nltk_data]    |     C:\\Users\\lichn\\AppData\\Roaming\\nltk_data...\n",
      "[nltk_data]    |   Package ycoe is already up-to-date!\n",
      "[nltk_data]    | \n",
      "[nltk_data]  Done downloading collection all\n"
     ]
    },
    {
     "data": {
      "text/plain": [
       "True"
      ]
     },
     "execution_count": 1,
     "metadata": {},
     "output_type": "execute_result"
    }
   ],
   "source": [
    "import nltk\n",
    "nltk.download('all')"
   ]
  },
  {
   "cell_type": "markdown",
   "metadata": {
    "id": "Kco68e2cKx0N"
   },
   "source": [
    "Import all text from NLTK's book library"
   ]
  },
  {
   "cell_type": "code",
   "execution_count": 2,
   "metadata": {
    "id": "DQrh0WF1Psth"
   },
   "outputs": [
    {
     "name": "stdout",
     "output_type": "stream",
     "text": [
      "*** Introductory Examples for the NLTK Book ***\n",
      "Loading text1, ..., text9 and sent1, ..., sent9\n",
      "Type the name of the text or sentence to view it.\n",
      "Type: 'texts()' or 'sents()' to list the materials.\n",
      "text1: Moby Dick by Herman Melville 1851\n",
      "text2: Sense and Sensibility by Jane Austen 1811\n",
      "text3: The Book of Genesis\n",
      "text4: Inaugural Address Corpus\n",
      "text5: Chat Corpus\n",
      "text6: Monty Python and the Holy Grail\n",
      "text7: Wall Street Journal\n",
      "text8: Personals Corpus\n",
      "text9: The Man Who Was Thursday by G . K . Chesterton 1908\n"
     ]
    }
   ],
   "source": [
    "from nltk.book import *\n",
    "from nltk.corpus import stopwords\n",
    "from nltk.stem import WordNetLemmatizer"
   ]
  },
  {
   "cell_type": "markdown",
   "metadata": {
    "id": "Lsim7AZhLM4b"
   },
   "source": [
    "### Preprocessing text4"
   ]
  },
  {
   "cell_type": "code",
   "execution_count": 3,
   "metadata": {
    "colab": {
     "base_uri": "https://localhost:8080/"
    },
    "id": "GK8bF2hbLQk3",
    "outputId": "4ae61064-9dbf-4713-debd-99dd27f81c46"
   },
   "outputs": [
    {
     "name": "stdout",
     "output_type": "stream",
     "text": [
      "Number of tokens in text4: 152901\n",
      "Number of unique tokens in text4: 9312\n",
      "First 5 unique tokens in text4: ['!', '\"', '\";', '\"?', '$']\n"
     ]
    }
   ],
   "source": [
    "token4 = [t.lower() for t in text4]\n",
    "set4 = set(token4)\n",
    "print('Number of tokens in text4:', len(token4))\n",
    "print('Number of unique tokens in text4:', len(set4))\n",
    "print('First 5 unique tokens in text4:', sorted(set4)[:5])"
   ]
  },
  {
   "cell_type": "markdown",
   "metadata": {
    "id": "hmbYkfnVM4SB"
   },
   "source": [
    "More processing:\n",
    "- Remove number and punctuation"
   ]
  },
  {
   "cell_type": "code",
   "execution_count": 4,
   "metadata": {
    "colab": {
     "base_uri": "https://localhost:8080/"
    },
    "id": "JHFnbPxEQxee",
    "outputId": "e1e12f00-e056-446c-a2ff-c840a78ed7f2"
   },
   "outputs": [
    {
     "name": "stdout",
     "output_type": "stream",
     "text": [
      "Number of tokens in text4 after processing: 65522\n"
     ]
    }
   ],
   "source": [
    "token4 = [t for t in token4 if t.isalpha() and\n",
    "           t not in stopwords.words('english')]\n",
    "print('Number of tokens in text4 after processing:', len(token4))"
   ]
  },
  {
   "cell_type": "markdown",
   "metadata": {
    "id": "5yg_eEciRYjH"
   },
   "source": [
    "### Lexical Diversity"
   ]
  },
  {
   "cell_type": "code",
   "execution_count": 5,
   "metadata": {
    "colab": {
     "base_uri": "https://localhost:8080/"
    },
    "id": "tQa3MZthSXng",
    "outputId": "0574cc6c-4994-45c5-9e87-4fdf20914b81"
   },
   "outputs": [
    {
     "name": "stdout",
     "output_type": "stream",
     "text": [
      "Lexical diversity: 0.14\n"
     ]
    }
   ],
   "source": [
    "print('Lexical diversity from raw text: %.2f' %(len(set4) / len(token4)))"
   ]
  },
  {
   "cell_type": "markdown",
   "metadata": {
    "id": "OxLPZ0ufbqDW"
   },
   "source": [
    "### Lemmas\n",
    "\n"
   ]
  },
  {
   "cell_type": "code",
   "execution_count": 6,
   "metadata": {
    "colab": {
     "base_uri": "https://localhost:8080/"
    },
    "id": "N6VCg4-ubxD3",
    "outputId": "28d66e61-bf28-4356-9bdf-e9e7fe5dbc0c"
   },
   "outputs": [
    {
     "name": "stdout",
     "output_type": "stream",
     "text": [
      "Number of unique lemmas in text4: 8017\n"
     ]
    }
   ],
   "source": [
    "wnl = WordNetLemmatizer()\n",
    "lemmas = [wnl.lemmatize(t) for t in token4]\n",
    "# make unique\n",
    "uLemmas = set(lemmas)\n",
    "print('Number of unique lemmas in text4:', len(uLemmas))"
   ]
  },
  {
   "cell_type": "markdown",
   "metadata": {
    "id": "C4Lo5eG4cxzf"
   },
   "source": [
    "### Dictionary of counts"
   ]
  },
  {
   "cell_type": "code",
   "execution_count": 7,
   "metadata": {
    "colab": {
     "base_uri": "https://localhost:8080/"
    },
    "id": "sVg6wFUTc0Wv",
    "outputId": "b16929a1-e12b-404f-8aee-8e81eb93142b"
   },
   "outputs": [
    {
     "name": "stdout",
     "output_type": "stream",
     "text": [
      "citizen 304\n"
     ]
    }
   ],
   "source": [
    "count = {} # make empty dictionary\n",
    "count = {t:lemmas.count(t) for t in uLemmas}\n",
    "print('citizen', count['citizen'])"
   ]
  },
  {
   "cell_type": "markdown",
   "metadata": {},
   "source": [
    "## NLTK Text Object"
   ]
  },
  {
   "cell_type": "code",
   "execution_count": 8,
   "metadata": {},
   "outputs": [],
   "source": [
    "from nltk import word_tokenize\n",
    "from nltk import sent_tokenize\n",
    "from nltk import Text"
   ]
  },
  {
   "cell_type": "markdown",
   "metadata": {},
   "source": [
    "Build my own Text object from raw text"
   ]
  },
  {
   "cell_type": "code",
   "execution_count": 9,
   "metadata": {},
   "outputs": [
    {
     "name": "stdout",
     "output_type": "stream",
     "text": [
      "Some tokens from constitution: ['we', 'the', 'people', 'of', 'the', 'united', 'states', 'in', 'order', 'to']\n"
     ]
    }
   ],
   "source": [
    "with open('const.txt', 'r') as f:\n",
    "    text = f.read()\n",
    "    \n",
    "# remove newline character\n",
    "text = text.replace('\\n', '')\n",
    "\n",
    "tokens = word_tokenize(text)\n",
    "\n",
    "# remove number and punctuation. Then lower case\n",
    "tokens = [t.lower() for t in tokens if t.isalpha()]\n",
    "\n",
    "# create the Text object\n",
    "text_const = Text(tokens)\n",
    "\n",
    "print('Some tokens from constitution:', text_const[:10])"
   ]
  },
  {
   "cell_type": "markdown",
   "metadata": {},
   "source": [
    "### Demo for some Text methods"
   ]
  },
  {
   "cell_type": "code",
   "execution_count": 10,
   "metadata": {},
   "outputs": [
    {
     "data": {
      "text/plain": [
       "7"
      ]
     },
     "execution_count": 10,
     "metadata": {},
     "output_type": "execute_result"
    }
   ],
   "source": [
    "text_const.count('people')"
   ]
  },
  {
   "cell_type": "code",
   "execution_count": 11,
   "metadata": {},
   "outputs": [
    {
     "name": "stdout",
     "output_type": "stream",
     "text": [
      "Displaying 7 of 7 matches:\n",
      "we the people of the united states in order to fo\n",
      "bers chosen every secondyear by the people of the several states and the elect\n",
      " orof the press or the right of the people peaceably to assemble and to petiti\n",
      "ity of a free state theright of the people to keep and bear arms shall not be \n",
      "anner to be prescribed right of the people to be secure in their persons house\n",
      "ators from eachstate elected by the people thereof for six years and each sena\n",
      "ke temporary appointments until the people fill thevacancies by election as th\n"
     ]
    }
   ],
   "source": [
    "text_const.concordance('people') # print context of every occurence of 'people'"
   ]
  },
  {
   "cell_type": "code",
   "execution_count": 12,
   "metadata": {},
   "outputs": [
    {
     "data": {
      "text/plain": [
       "2"
      ]
     },
     "execution_count": 12,
     "metadata": {},
     "output_type": "execute_result"
    }
   ],
   "source": [
    "text_const.index('people') # index of 1st 'people'"
   ]
  },
  {
   "cell_type": "code",
   "execution_count": 13,
   "metadata": {},
   "outputs": [
    {
     "name": "stdout",
     "output_type": "stream",
     "text": [
      "legislature place laws right militia blessings constitution congress\n",
      "senate house members secondyear state age number service term law\n",
      "representation executiveauthority\n"
     ]
    }
   ],
   "source": [
    "text_const.similar('people') # find words that appear in the same context of 'people'"
   ]
  },
  {
   "cell_type": "code",
   "execution_count": 14,
   "metadata": {},
   "outputs": [
    {
     "name": "stdout",
     "output_type": "stream",
     "text": [
      "the_of the_to\n"
     ]
    }
   ],
   "source": [
    "text_const.common_contexts(['people', 'right'],10) # see what words share context with people and right"
   ]
  },
  {
   "cell_type": "markdown",
   "metadata": {},
   "source": [
    "## Dispersion plots\n",
    "Visualize word occurences"
   ]
  },
  {
   "cell_type": "code",
   "execution_count": 15,
   "metadata": {},
   "outputs": [
    {
     "data": {
      "image/png": "[encoded data removed]",
      "text/plain": [
       "<Figure size 640x480 with 1 Axes>"
      ]
     },
     "metadata": {},
     "output_type": "display_data"
    }
   ],
   "source": [
    "text_const.dispersion_plot(['people', 'right', 'state', 'president'])"
   ]
  },
  {
   "cell_type": "markdown",
   "metadata": {},
   "source": [
    "## Frequency Distribution"
   ]
  },
  {
   "cell_type": "code",
   "execution_count": 16,
   "metadata": {},
   "outputs": [
    {
     "name": "stdout",
     "output_type": "stream",
     "text": [
      "<FreqDist with 1384 samples and 6773 outcomes>\n"
     ]
    }
   ],
   "source": [
    "fdist1 = FreqDist(text_const)\n",
    "print(fdist1)"
   ]
  },
  {
   "cell_type": "code",
   "execution_count": 17,
   "metadata": {},
   "outputs": [
    {
     "data": {
      "text/plain": [
       "[('the', 601),\n",
       " ('of', 446),\n",
       " ('shall', 268),\n",
       " ('and', 230),\n",
       " ('to', 181),\n",
       " ('be', 160),\n",
       " ('or', 144),\n",
       " ('in', 129),\n",
       " ('states', 107),\n",
       " ('by', 93)]"
      ]
     },
     "execution_count": 17,
     "metadata": {},
     "output_type": "execute_result"
    }
   ],
   "source": [
    "fdist1.most_common(10) # 10 most common word"
   ]
  },
  {
   "cell_type": "code",
   "execution_count": 18,
   "metadata": {},
   "outputs": [
    {
     "data": {
      "text/plain": [
       "7"
      ]
     },
     "execution_count": 18,
     "metadata": {},
     "output_type": "execute_result"
    }
   ],
   "source": [
    "fdist1['people'] # same as count"
   ]
  },
  {
   "cell_type": "code",
   "execution_count": 19,
   "metadata": {},
   "outputs": [
    {
     "data": {
      "image/png": "[encoded data removed]",
      "text/plain": [
       "<Figure size 640x480 with 1 Axes>"
      ]
     },
     "metadata": {},
     "output_type": "display_data"
    },
    {
     "data": {
      "text/plain": [
       "<AxesSubplot:xlabel='Samples', ylabel='Counts'>"
      ]
     },
     "execution_count": 19,
     "metadata": {},
     "output_type": "execute_result"
    }
   ],
   "source": [
    "fdist1.plot(50, cumulative=False) # plot the frequecies of the 50 most common words"
   ]
  },
  {
   "cell_type": "markdown",
   "metadata": {},
   "source": [
    "## Zipf's law"
   ]
  },
  {
   "cell_type": "markdown",
   "metadata": {},
   "source": [
    "**Zipf's law:** The most common word occurs twice as often as the next most common word, three time as often as the next words, etc."
   ]
  },
  {
   "cell_type": "markdown",
   "metadata": {},
   "source": [
    "In the other hand, there are many word that only occur once in a document. It is called hapax legomenon."
   ]
  },
  {
   "cell_type": "code",
   "execution_count": 20,
   "metadata": {},
   "outputs": [
    {
     "data": {
      "text/plain": [
       "['form',\n",
       " 'perfect',\n",
       " 'insure',\n",
       " 'tranquility',\n",
       " 'commondefence',\n",
       " 'general',\n",
       " 'welfare',\n",
       " 'blessings',\n",
       " 'toourselves',\n",
       " 'posterity']"
      ]
     },
     "execution_count": 20,
     "metadata": {},
     "output_type": "execute_result"
    }
   ],
   "source": [
    "hapaxes = fdist1.hapaxes()\n",
    "hapaxes[:10]"
   ]
  },
  {
   "cell_type": "markdown",
   "metadata": {},
   "source": [
    "## Heap's Law"
   ]
  },
  {
   "cell_type": "markdown",
   "metadata": {},
   "source": [
    "Add 1 to dictionary if word already exist. If not, add new word to dictionary"
   ]
  },
  {
   "cell_type": "markdown",
   "metadata": {},
   "source": [
    "Method 1: Using loop"
   ]
  },
  {
   "cell_type": "code",
   "execution_count": 21,
   "metadata": {},
   "outputs": [
    {
     "name": "stdout",
     "output_type": "stream",
     "text": [
      "Number of items in dict: 1384\n",
      "[('we', 2), ('the', 601), ('people', 7), ('of', 446), ('united', 68), ('states', 107), ('in', 129), ('order', 2), ('to', 181), ('form', 1)]\n"
     ]
    }
   ],
   "source": [
    "vocab1 = {}\n",
    "for t in tokens:\n",
    "    if t in vocab1:\n",
    "        vocab1[t] += 1\n",
    "    else:\n",
    "        vocab1[t] = 1\n",
    "print('Number of items in dict:', len(vocab1))\n",
    "print(list(vocab1.items()) [:10]) # convert dict to list, then print first 10 items (key, value)"
   ]
  },
  {
   "cell_type": "markdown",
   "metadata": {},
   "source": [
    "Method 2: Using dictionary comprehension"
   ]
  },
  {
   "cell_type": "code",
   "execution_count": 22,
   "metadata": {},
   "outputs": [
    {
     "name": "stdout",
     "output_type": "stream",
     "text": [
      "Number of items in dict: 1384\n"
     ]
    }
   ],
   "source": [
    "vocab2 = {t:tokens.count(t) for t in tokens}\n",
    "print('Number of items in dict:', len(vocab2))"
   ]
  },
  {
   "cell_type": "markdown",
   "metadata": {},
   "source": [
    "Heap's law: "
   ]
  },
  {
   "cell_type": "markdown",
   "metadata": {},
   "source": [
    "## More example"
   ]
  },
  {
   "cell_type": "markdown",
   "metadata": {},
   "source": [
    "* Build a vocabulary\n",
    "* Print all words longer than 12 character"
   ]
  },
  {
   "cell_type": "code",
   "execution_count": 25,
   "metadata": {},
   "outputs": [
    {
     "data": {
      "text/plain": [
       "['butlergeorgia',\n",
       " 'theratification',\n",
       " 'insurrections',\n",
       " 'intoexecution',\n",
       " 'theestablishment',\n",
       " 'questionshall',\n",
       " 'insuppressing',\n",
       " 'generalwelfare',\n",
       " 'otherconstitutional',\n",
       " 'kingconnecticut',\n",
       " 'beencommitted',\n",
       " 'thereuponcongress',\n",
       " 'andrepresentatives',\n",
       " 'representatives',\n",
       " 'orrepresentative',\n",
       " 'uponconfirmation',\n",
       " 'controversies',\n",
       " 'tocontroversies',\n",
       " 'participation',\n",
       " 'executiveauthority',\n",
       " 'counterfeiting',\n",
       " 'consideration',\n",
       " 'onapplication',\n",
       " 'ofrepresentatives',\n",
       " 'presidentwhenever',\n",
       " 'representativesto',\n",
       " 'thelegislatures',\n",
       " 'republicanform',\n",
       " 'appropriationsmade',\n",
       " 'concerningcaptures',\n",
       " 'representative',\n",
       " 'thanaccording',\n",
       " 'naturalization',\n",
       " 'theprovisions',\n",
       " 'otheremolument',\n",
       " 'gilmanmassachusetts',\n",
       " 'thejurisdiction',\n",
       " 'ininsurrection',\n",
       " 'maleinhabitants',\n",
       " 'twentydollars',\n",
       " 'disqualification',\n",
       " 'baldwinattest',\n",
       " 'sundaysexcepted',\n",
       " 'suchvacancies',\n",
       " 'maritimejurisdiction',\n",
       " 'oraffirmation',\n",
       " 'connecticutfive',\n",
       " 'appointambassadors',\n",
       " 'adjournmentprevent',\n",
       " 'legislaturecannot',\n",
       " 'reconsideration',\n",
       " 'orprohibiting',\n",
       " 'qualification',\n",
       " 'shallimmediately',\n",
       " 'electorsappointed',\n",
       " 'personconstitutionally',\n",
       " 'actuallyinvaded',\n",
       " 'commondefence',\n",
       " 'theproportion',\n",
       " 'theaccusation',\n",
       " 'qualifications',\n",
       " 'williamsonsouth',\n",
       " 'establishment',\n",
       " 'previouslyascertained',\n",
       " 'thesubmission',\n",
       " 'theobjections',\n",
       " 'otherelection',\n",
       " 'morrisdelaware',\n",
       " 'shallnominate',\n",
       " 'massachusetts',\n",
       " 'thisconstitution',\n",
       " 'appropriation',\n",
       " 'theseventeenth',\n",
       " 'transportation',\n",
       " 'greatestnumber',\n",
       " 'fordisorderly',\n",
       " 'carrollvirginia',\n",
       " 'andexpenditures',\n",
       " 'originaljurisdiction',\n",
       " 'judgenecessary',\n",
       " 'compulsoryprocess',\n",
       " 'existingshall',\n",
       " 'hisobjections',\n",
       " 'fourthsthereof',\n",
       " 'personholding',\n",
       " 'extraordinary',\n",
       " 'followingoath',\n",
       " 'disciplineprescribed',\n",
       " 'increasedduring',\n",
       " 'theircontinuance',\n",
       " 'apportionment',\n",
       " 'actualservice',\n",
       " 'broommaryland',\n",
       " 'theirservices',\n",
       " 'jonathandaytonpennsylvania',\n",
       " 'whereinneither',\n",
       " 'hereinotherwise',\n",
       " 'confederation',\n",
       " 'qualificationsrequisite',\n",
       " 'representation',\n",
       " 'orresignation',\n",
       " 'secretaryamendment',\n",
       " 'norprohibited',\n",
       " 'becomepresident',\n",
       " 'declarationthat',\n",
       " 'andregulations',\n",
       " 'requiresecrecy',\n",
       " 'presidentshall',\n",
       " 'subjectrelating']"
      ]
     },
     "execution_count": 25,
     "metadata": {},
     "output_type": "execute_result"
    }
   ],
   "source": [
    "v = set(text_const)\n",
    "long_words = [w for w in v if len(w)>12]\n",
    "long_words"
   ]
  },
  {
   "cell_type": "code",
   "execution_count": 28,
   "metadata": {},
   "outputs": [
    {
     "name": "stdout",
     "output_type": "stream",
     "text": [
      "{'escaping', 'reason', 'beproved', 'orof', 'forces', 'accused', 'sealed', 'privilege', 'pinckney', 'union', 'ofvotes', 'declaration', 'totheir', 'net', 'thesenators', 'by', 'butlergeorgia', 'theratification', 'december', 'ofamerica', 'claim', 'betaken', 'dobbs', 'forgoverning', 'particularly', 'ineligible', 'senateand', 'insurrections', 'color', 'thisarticle', 'meeting', 'emoluments', 'profit', 'imports', 'temporary', 'forpresident', 'party', 'insure', 'officers', 'immediately', 'assistance', 'census', 'perfect', 'presented', 'treason', 'had', 'equity', 'whenin', 'articles', 'manner', 'invasion', 'mode', 'corruption', 'tonnage', 'successors', 'establish', 'breach', 'pay', 'andno', 'remain', 'provided', 'aresident', 'constitution', 'expel', 'return', 'stateswhich', 'demand', 'virginia', 'opinion', 'one', 'beauthorized', 'timeof', 'impeachments', 'any', 'withrespect', 'andoffenses', 'wheneverthe', 'affecting', 'suchplace', 'authority', 'consuls', 'againstthem', 'decide', 'fortheir', 'preserve', 'therein', 'andagainst', 'conviction', 'removesuch', 'distinct', 'continuance', 'adjourn', 'period', 'andestablish', 'two', 'agree', 'operative', 'erection', 'authorized', 'arming', 'borrow', 'begin', 'searches', 'resume', 'thereby', 'hereof', 'intoexecution', 'mentioned', 'order', 'than', 'returning', 'beconvicted', 'swear', 'providence', 'duty', 'during', 'theestablishment', 'certain', 'an', 'andthose', 'race', 'questionshall', 'more', 'servitude', 'places', 'department', 'dutieson', 'andto', 'insuppressing', 'generalwelfare', 'providedin', 'majority', 'otherconstitutional', 'erected', 'concurrent', 'guarantee', 'onethousand', 'controlof', 'value', 'paterson', 'kingconnecticut', 'taxes', 'unless', 'source', 'subjectof', 'expedient', 'beencommitted', 'he', 'issue', 'dollars', 'territory', 'died', 'failure', 'statewith', 'defend', 'rights', 'twopersons', 'debt', 'fix', 'will', 'capital', 'assemble', 'judges', 'private', 'limitations', 'washington', 'pardons', 'legislation', 'convicted', 'free', 'houses', 'gouvernour', 'thereuponcongress', 'for', 'secondyear', 'good', 'convention', 'money', 'heads', 'purpose', 'oftheir', 'offorts', 'contracted', 'thepeace', 'andrepresentatives', 'deny', 'describing', 'every', 'prescribed', 'submission', 'as', 'bear', 'terms', 'impeachment', 'receipts', 'subscribed', 'blair', 'representatives', 'anda', 'suchduties', 'incases', 'illegal', 'orrepresentative', 'uponconfirmation', 'pro', 'all', 'benjamin', 'affirmation', 'hereofto', 'kindwhatever', 'controversies', 'laws', 'either', 'tocontroversies', 'theunited', 'session', 'dutiesshall', 'regulations', 'among', 'basis', 'participation', 'going', 'law', 'executiveauthority', 'immunities', 'orofficer', 'execution', 'disciplining', 'arms', 'soldier', 'respecting', 'counterfeiting', 'district', 'william', 'declaring', 'respective', 'consideration', 'onapplication', 'belonging', 'senator', 'derived', 'alter', 'orabridged', 'times', 'thirtyyears', 'owner', 'vote', 'primary', 'alone', 'ofrepresentatives', 'presidentwhenever', 'holding', 'bemade', 'otherwise', 'dobusiness', 'prejudiceany', 'privileges', 'produce', 'a', 'determine', 'deputy', 'ballot', 'admiralty', 'tempore', 'ofpresident', 'representativesto', 'nevertheless', 'authors', 'equally', 'anamendment', 'determined', 'nations', 'class', 'ratifying', 'nine', 'legislature', 'independence', 'thelegislatures', 'test', 'republicanform', 'obligation', 'dischargethe', 'regulate', 'thousand', 'tothe', 'security', 'determines', 'themselves', 'consentof', 'military', 'require', 'fromthem', 'offices', 'present', 'topay', 'oftwenty', 'what', 'labour', 'whatsoever', 'delaware', 'recess', 'coin', 'meet', 'hereby', 'classes', 'jared', 'excepting', 'appropriationsmade', 'migration', 'atthe', 'defence', 'speaker', 'support', 'thedeath', 'compelled', 'felonies', 'new', 'prior', 'another', 'exceptas', 'longer', 'wholenumber', 'nicholas', 'least', 'bylaw', 'robert', 'thepowers', 'thepersons', 'up', 'whichshall', 'recommend', 'questioned', 'writing', 'unable', 'originated', 'alliance', 'may', 'commenced', 'senate', 'penalties', 'against', 'death', 'tenyears', 'rufus', 'four', 'continue', 'requisite', 'officeof', 'term', 'unitedstates', 'right', 'concerningcaptures', 'representative', 'clauses', 'empower', 'appointments', 'within', 'failed', 'concurrence', 'habeas', 'arising', 'construed', 'sign', 'crimes', 'speedy', 'johnson', 'thanaccording', 'large', 'validity', 'adoption', 'statesby', 'receive', 'naturalization', 'upon', 'call', 'are', 'theprovisions', 'otheremolument', 'anycriminal', 'gilmanmassachusetts', 'propose', 'overt', 'inevery', 'duringthe', 'commander', 'event', 'tranquility', 'bankruptcies', 'writ', 'indian', 'thejurisdiction', 'roger', 'cause', 'judgment', 'presenceof', 'aftersuch', 'with', 'transmits', 'ininsurrection', 'ended', 'under', 'lists', 'enforcethis', 'thirds', 'twelfth', 'devolved', 'at', 'excluding', 'quorumfor', 'unanimous', 'shallappoint', 'abridgethe', 'maleinhabitants', 'nor', 'due', 'nature', 'transmit', 'testimony', 'grants', 'no', 'highest', 'preserved', 'desire', 'appointment', 'fill', 'thejudges', 'rule', 'when', 'i', 'execute', 'thestates', 'toourselves', 'give', 'ofits', 'beverage', 'next', 'protect', 'king', 'statewherein', 'offenses', 'inpursuance', 'disability', 'anytitle', 'powers', 'hamiltonnew', 'act', 'their', 'ofany', 'twentydollars', 'admit', 'hetransmits', 'thatpurpose', 'direct', 'numbers', 'andunder', 'navy', 'disqualification', 'thatin', 'entitled', 'whom', 'claimof', 'absolutely', 'congressmay', 'case', 'raise', 'parts', 'to', 'andexcises', 'violated', 'theauthority', 'has', 'lie', 'tribunals', 'religious', 'votes', 'member', 'meetingof', 'baldwinattest', 'togetherwith', 'judicial', 'rutledge', 'witness', 'andwith', 'claims', 'redress', 'vacancy', 'exists', 'delivery', 'allthe', 'subjects', 'appellate', 'nominate', 'ofanother', 'after', 'title', 'bassett', 'manufacture', 'march', 'ajury', 'ever', 'sundaysexcepted', 'extend', 'keeptroops', 'information', 'common', 'dickinson', 'possessionof', 'lord', 'third', 'think', 'called', 'hugh', 'charles', 'incomes', 'plantations', 'suchvacancies', 'each', 'afterreceipt', 'jersey', 'voted', 'maritimejurisdiction', 'state', 'endof', 'oraffirmation', 'having', 'sections', 'carrying', 'executed', 'theseveral', 'thomas', 'marylandsix', 'deprived', 'delivered', 'connecticutfive', 'respectively', 'service', 'disapproved', 'coinof', 'blessings', 'appointambassadors', 'exceed', 'try', 'obtaining', 'once', 'court', 'proper', 'hours', 'passed', 'petitionthe', 'york', 'required', 'attainder', 'compel', 'measures', 'vacancies', 'sitting', 'is', 'eachstate', 'particular', 'compensation', 'press', 'fourth', 'credit', 'intervened', 'gorham', 'madison', 'him', 'fourteen', 'vest', 'age', 'shallpropose', 'until', 'pass', 'have', 'georgia', 'on', 'ofthree', 'thispurpose', 'george', 'anystate', 'treaty', 'year', 'adjournmentprevent', 'process', 'concerned', 'dispose', 'election', 'adding', 'presidentor', 'letters', 'gunning', 'tender', 'isunable', 'vacated', 'except', 'jenifer', 'legislaturecannot', 'six', 'over', 'was', 'shallflee', 'chief', 'reconsideration', 'preside', 'orprohibiting', 'person', 'approved', 'qualification', 'members', 'witnesses', 'judge', 'enumeration', 'monday', 'shallimmediately', 'aid', 'made', 'fromoffice', 'electorsappointed', 'rhode', 'subject', 'well', 'so', 'name', 'personconstitutionally', 'unusual', 'onwhich', 'thetwelfth', 'whenever', 'assume', 'application', 'disagreement', 'delegated', 'corpus', 'expiration', 'valid', 'andhave', 'bills', 'be', 'government', 'engagements', 'ex', 'bedenied', 'slave', 'bill', 'intents', 'incurredin', 'thethird', 'inaddition', 'subsequent', 'maintain', 'actuallyinvaded', 'account', 'officersof', 'counting', 'punishments', 'imposedon', 'statement', 'supreme', 'such', 'thevacancies', 'assembling', 'tried', 'sent', 'naval', 'emit', 'date', 'only', 'purchased', 'asprovided', 'presentment', 'lawprovide', 'bribery', 'accordingly', 'debts', 'civil', 'ministers', 'remainder', 'people', 'said', 'same', 'elections', 'andsuch', 'necessary', 'immunitiesof', 'werea', 'construedto', 'granting', 'likemanner', 'created', 'indictment', 'excises', 'andtransmit', 'latter', 'otherpublic', 'day', 'convene', 'choose', 'contrary', 'branch', 'theconsent', 'south', 'whole', 'care', 'not', 'eligible', 'rules', 'commondefence', 'speech', 'years', 'theproportion', 'andfourth', 'deem', 'theunion', 'legislatures', 'assembled', 'commissions', 'theaccusation', 'samuel', 'insurrection', 'pensions', 'facto', 'qualifications', 'thechoice', 'island', 'current', 'seizures', 'united', 'seat', 'spaight', 'reserving', 'silver', 'obliged', 'saidoffice', 'williamsonsouth', 'herein', 'trial', 'it', 'tosupport', 'collect', 'acted', 'revenue', 'approve', 'devolve', 'establishment', 'nothing', 'eight', 'thevotes', 'exist', 'that', 'andhouse', 'foregoing', 'becomes', 'commerce', 'supported', 'numberson', 'ships', 'emolument', 'thepresident', 'acts', 'smaller', 'principal', 'thespeaker', 'who', 'previouslyascertained', 'days', 'discharged', 'inoperative', 'stated', 'ifany', 'likewise', 'training', 'presence', 'choice', 'inhabitant', 'employed', 'informed', 'define', 'franklin', 'discoveries', 'abridging', 'sole', 'become', 'entered', 'ninth', 'thesubmission', 'theobjections', 'amendment', 'apply', 'noattainder', 'objections', 'natural', 'inability', 'resignation', 'bail', 'otherelection', 'body', 'returned', 'hundred', 'which', 'byany', 'most', 'composed', 'shermannew', 'convened', 'morrisdelaware', 'danger', 'langdon', 'fifths', 'inhabitantof', 'naturalized', 'beliable', 'reside', 'of', 'houseof', 'buildings', 'way', 'written', 'andwithout', 'personvoted', 'shallnominate', 'massachusetts', 'thisconstitution', 'bedford', 'nathaniel', 'theports', 'proportion', 'conventions', 'ability', 'enter', 'involuntary', 'five', 'also', 'abridged', 'regulation', 'or', 'thirty', 'whose', 'rebellion', 'seats', 'paid', 'progress', 'elect', 'reconsider', 'make', 'selected', 'morris', 'punishment', 'toact', 'miles', 'elector', 'then', 'held', 'removed', 'some', 'appointed', 'suits', 'them', 'capitation', 'reprisal', 'amajority', 'question', 'forproposing', 'excessive', 'wilson', 'without', 'forfeiture', 'hereunto', 'writs', 'apportioned', 'securing', 'three', 'neither', 'discharge', 'war', 'incurred', 'crimeshall', 'electors', 'beginning', 'other', 'impartial', 'increased', 'arisingin', 'returns', 'exceeding', 'imposts', 'james', 'appropriation', 'writingsand', 'place', 'quartered', 'sixth', 'poll', 'suppress', 'appropriate', 'following', 'take', 'consist', 'theseventeenth', 'follows', 'thenthe', 'science', 'certify', 'first', 'cases', 'seas', 'andclaims', 'second', 'best', 'theprincipal', 'vested', 'choosing', 'bechosen', 'transportation', 'justice', 'charged', 'commission', 'crime', 'choiceshall', 'bedetermined', 'statesshall', 'livingston', 'andthe', 'purposes', 'citizens', 'provide', 'occasions', 'work', 'numerous', 'regular', 'populous', 'greatestnumber', 'searched', 'own', 'reduced', 'noon', 'condition', 'carolina', 'armies', 'now', 'anysuit', 'termwithin', 'end', 'constituting', 'bystates', 'andeffects', 'maketreaties', 'pennsylvania', 'fact', 'granted', 'andshall', 'emancipation', 'north', 'adjournment', 'sufficient', 'virginianew', 'maybe', 'fordisorderly', 'adhering', 'indians', 'orprofit', 'forty', 'blood', 'powersand', 'disparage', 'david', 'beuniform', 'committed', 'actual', 'carrollvirginia', 'persons', 'punish', 'high', 'andexpenditures', 'orolder', 'originaljurisdiction', 'nobility', 'different', 'ambassadors', 'been', 'judgenecessary', 'admitted', 'proposed', 'jacob', 'heis', 'varying', 'criminal', 'included', 'militia', 'established', 'seven', 'john', 'forthe', 'levying', 'those', 'ofcounsel', 'votesshall', 'roads', 'clymer', 'my', 'lettersof', 'togrant', 'compulsoryprocess', 'where', 'executingits', 'crueland', 'theright', 'andof', 'obligations', 'services', 'exercise', 'existingshall', 'qualified', 'consequence', 'acting', 'whereof', 'astate', 'ratified', 'expire', 'open', 'brearley', 'happen', 'offenseto', 'office', 'life', 'hisobjections', 'securities', 'faith', 'thesenate', 'posterity', 'pierce', 'fled', 'america', 'enemies', 'magazines', 'shallhave', 'richard', 'counted', 'maymake', 'acceptance', 'piracies', 'needful', 'list', 'duly', 'forth', 'havingthe', 'fourths', 'andpurposes', 'public', 'accept', 'divided', 'theexecutive', 'bound', 'affect', 'ofthe', 'president', 'generallaws', 'useful', 'eighty', 'tax', 'time', 'weights', 'section', 'payment', 'itshall', 'peaceably', 'amember', 'exported', 'aspresident', 'citizen', 'liquors', 'orlaws', 'exclusive', 'amendments', 'published', 'ofelectors', 'tothat', 'fromwhatever', 'the', 'part', 'records', 'formed', 'thepurpose', 'intoxicating', 'inferior', 'inventors', 'given', 'blount', 'wherein', 'shallbe', 'appointa', 'read', 'departments', 'denied', 'attained', 'fourthsthereof', 'jeopardy', 'personholding', 'oflaw', 'drawn', 'together', 'thing', 'reconsidered', 'domestic', 'contracts', 'few', 'officeunless', 'born', 'prevent', 'giving', 'papers', 'put', 'revision', 'ordain', 'extraordinary', 'there', 'diminished', 'absence', 'marque', 'beremoved', 'thecongress', 'according', 'followingoath', 'disciplineprescribed', 'agreement', 'freedom', 'in', 'increasedduring', 'hold', 'cession', 'cotesworth', 'form', 'infamous', 'being', 'originate', 'theircontinuance', 'apportionment', 'behavior', 'equal', 'actualservice', 'bounties', 'attendance', 'loss', 'timepublish', 'orprevious', 'promote', 'engaged', 'fitzsimons', 'abraham', 'fines', 'affirm', 'taken', 'broommaryland', 'clear', 'st', 'throughout', 'his', 'secure', 'prosecutions', 'lay', 'sale', 'quorum', 'from', 'both', 'debate', 'considered', 'post', 'suspended', 'male', 'thereof', 'claiming', 'theenemies', 'foreign', 'sameshall', 'confronted', 'toqualify', 'underthis', 'states', 'jackson', 'vice', 'ballots', 'congress', 'elected', 'engage', 'proceed', 'invasions', 'arts', 'limitedtimes', 'duties', 'inviolation', 'butgold', 'hampshire', 'journal', 'between', 'confession', 'deprive', 'butshall', 'fixed', 'just', 'daniel', 'enforce', 'thereshould', 'arrest', 'further', 'liberty', 'taxed', 'exceptions', 'statesis', 'honor', 'protection', 'army', 'uniform', 'faithfully', 'jury', 'prosecuted', 'junction', 'do', 'unreasonable', 'senators', 'raising', 'jurisdiction', 'lands', 'accordingto', 'january', 'directed', 'we', 'forany', 'executive', 'officer', 'prohibited', 'effect', 'water', 'exportation', 'favor', 'andpublic', 'others', 'into', 'thecensus', 'heshall', 'september', 'hundredand', 'out', 'theirservices', 'orvice', 'yeas', 'controversy', 'repel', 'but', 'jonathandaytonpennsylvania', 'ratification', 'thestandard', 'whoshall', 'would', 'ascertained', 'adifferent', 'organizing', 'compactwith', 'trust', 'bytwo', 'greatest', 'warrants', 'felony', 'our', 'keep', 'whereinneither', 'before', 'advice', 'square', 'holdtheir', 'inspection', 'hereinotherwise', 'confederation', 'previously', 'concur', 'welfare', 'impairing', 'eighteen', 'like', 'they', 'calling', 'certificates', 'signed', 'appoint', 'probable', 'nottaxed', 'ten', 'treaties', 'solemnly', 'property', 'found', 'orthe', 'forthat', 'land', 'reserved', 'crimewhereof', 'legislative', 'voting', 'removal', 'things', 'october', 'slavery', 'formore', 'oath', 'enjoy', 'proceedings', 'chosen', 'suffrage', 'consent', 'qualificationsrequisite', 'ingersoll', 'peace', 'alexander', 'retained', 'power', 'fifth', 'representation', 'use', 'repassed', 'reprieves', 'treasury', 'nothave', 'mchenry', 'number', 'comfort', 'stateshall', 'if', 'declare', 'exports', 'general', 'imposed', 'this', 'prescribe', 'himself', 'orresignation', 'prince', 'twenty', 'its', 'courts', 'vessels', 'resolution', 'thesame', 'tribes', 'safety', 'grand', 'secretaryamendment', 'norprohibited', 'several', 'becomepresident', 'religion', 'house', 'eighteenth', 'absent', 'mifflin', 'preference', 'perform', 'declarationthat', 'limb', 'regulated', 'constitute', 'twice', 'bothhouses', 'shall', 'answer', 'befor', 'arsenals', 'privileged', 'andregulations', 'berequired', 'requiresecrecy', 'grant', 'presidentshall', 'imminent', 'importation', 'article', 'thinkproper', 'regard', 'names', 'personshall', 'nays', 'and', 'laid', 'subjectrelating', 'exceptduring', 'including', 'meetingshall'}\n"
     ]
    },
    {
     "ename": "TypeError",
     "evalue": "'set' object is not subscriptable",
     "output_type": "error",
     "traceback": [
      "\u001b[1;31m---------------------------------------------------------------------------\u001b[0m",
      "\u001b[1;31mTypeError\u001b[0m                                 Traceback (most recent call last)",
      "Input \u001b[1;32mIn [28]\u001b[0m, in \u001b[0;36m<cell line: 3>\u001b[1;34m()\u001b[0m\n\u001b[0;32m      1\u001b[0m v2 \u001b[38;5;241m=\u001b[39m \u001b[38;5;28mset\u001b[39m(text_const)\n\u001b[0;32m      2\u001b[0m \u001b[38;5;28mprint\u001b[39m(v)\n\u001b[1;32m----> 3\u001b[0m \u001b[43mv2\u001b[49m\u001b[43m[\u001b[49m\u001b[43m:\u001b[49m\u001b[38;5;241;43m4\u001b[39;49m\u001b[43m]\u001b[49m\n\u001b[0;32m      4\u001b[0m sort(v2)\n",
      "\u001b[1;31mTypeError\u001b[0m: 'set' object is not subscriptable"
     ]
    }
   ],
   "source": [
    "v2 = set(text_const)\n",
    "print(v)\n",
    "v2[:4]\n",
    "sort(v2)"
   ]
  },
  {
   "cell_type": "code",
   "execution_count": 37,
   "metadata": {},
   "outputs": [
    {
     "name": "stdout",
     "output_type": "stream",
     "text": [
      "['i', 'me', 'my', 'myself', 'we', 'our', 'ours', 'ourselves', 'you', \"you're\", \"you've\", \"you'll\", \"you'd\", 'your', 'yours', 'yourself', 'yourselves', 'he', 'him', 'his', 'himself', 'she', \"she's\", 'her', 'hers', 'herself', 'it', \"it's\", 'its', 'itself', 'they', 'them', 'their', 'theirs', 'themselves', 'what', 'which', 'who', 'whom', 'this', 'that', \"that'll\", 'these', 'those', 'am', 'is', 'are', 'was', 'were', 'be', 'been', 'being', 'have', 'has', 'had', 'having', 'do', 'does', 'did', 'doing', 'a', 'an', 'the', 'and', 'but', 'if', 'or', 'because', 'as', 'until', 'while', 'of', 'at', 'by', 'for', 'with', 'about', 'against', 'between', 'into', 'through', 'during', 'before', 'after', 'above', 'below', 'to', 'from', 'up', 'down', 'in', 'out', 'on', 'off', 'over', 'under', 'again', 'further', 'then', 'once', 'here', 'there', 'when', 'where', 'why', 'how', 'all', 'any', 'both', 'each', 'few', 'more', 'most', 'other', 'some', 'such', 'no', 'nor', 'not', 'only', 'own', 'same', 'so', 'than', 'too', 'very', 's', 't', 'can', 'will', 'just', 'don', \"don't\", 'should', \"should've\", 'now', 'd', 'll', 'm', 'o', 're', 've', 'y', 'ain', 'aren', \"aren't\", 'couldn', \"couldn't\", 'didn', \"didn't\", 'doesn', \"doesn't\", 'hadn', \"hadn't\", 'hasn', \"hasn't\", 'haven', \"haven't\", 'isn', \"isn't\", 'ma', 'mightn', \"mightn't\", 'mustn', \"mustn't\", 'needn', \"needn't\", 'shan', \"shan't\", 'shouldn', \"shouldn't\", 'wasn', \"wasn't\", 'weren', \"weren't\", 'won', \"won't\", 'wouldn', \"wouldn't\"]\n",
      "['i', 'me', 'my', 'myself', 'we', 'our', 'ours', 'ourselves', 'you', \"you're\", \"you've\", \"you'll\", \"you'd\", 'your', 'yours', 'yourself', 'yourselves', 'he', 'him', 'his', 'himself', 'she', \"she's\", 'her', 'hers', 'herself', 'it', \"it's\", 'its', 'itself', 'they', 'them', 'their', 'theirs', 'themselves', 'what', 'which', 'who', 'whom', 'this', 'that', \"that'll\", 'these', 'those', 'am', 'is', 'are', 'was', 'were', 'be', 'been', 'being', 'have', 'has', 'had', 'having', 'do', 'does', 'did', 'doing', 'a', 'an', 'the', 'and', 'but', 'if', 'or', 'because', 'as', 'until', 'while', 'of', 'at', 'by', 'for', 'with', 'about', 'against', 'between', 'into', 'through', 'during', 'before', 'after', 'above', 'below', 'to', 'from', 'up', 'down', 'in', 'out', 'on', 'off', 'over', 'under', 'again', 'further', 'then', 'once', 'here', 'there', 'when', 'where', 'why', 'how', 'all', 'any', 'both', 'each', 'few', 'more', 'most', 'other', 'some', 'such', 'no', 'nor', 'not', 'only', 'own', 'same', 'so', 'than', 'too', 'very', 's', 't', 'can', 'will', 'just', 'don', \"don't\", 'should', \"should've\", 'now', 'd', 'll', 'm', 'o', 're', 've', 'y', 'ain', 'aren', \"aren't\", 'couldn', \"couldn't\", 'didn', \"didn't\", 'doesn', \"doesn't\", 'hadn', \"hadn't\", 'hasn', \"hasn't\", 'haven', \"haven't\", 'isn', \"isn't\", 'ma', 'mightn', \"mightn't\", 'mustn', \"mustn't\", 'needn', \"needn't\", 'shan', \"shan't\", 'shouldn', \"shouldn't\", 'wasn', \"wasn't\", 'weren', \"weren't\", 'won', \"won't\", 'wouldn', \"wouldn't\", 'aaaa', 'must', 'every', 'one']\n",
      "['i', 'me', 'my', 'myself', 'we', 'our', 'ours', 'ourselves', 'you', \"you're\", \"you've\", \"you'll\", \"you'd\", 'your', 'yours', 'yourself', 'yourselves', 'he', 'him', 'his', 'himself', 'she', \"she's\", 'her', 'hers', 'herself', 'it', \"it's\", 'its', 'itself', 'they', 'them', 'their', 'theirs', 'themselves', 'what', 'which', 'who', 'whom', 'this', 'that', \"that'll\", 'these', 'those', 'am', 'is', 'are', 'was', 'were', 'be', 'been', 'being', 'have', 'has', 'had', 'having', 'do', 'does', 'did', 'doing', 'a', 'an', 'the', 'and', 'but', 'if', 'or', 'because', 'as', 'until', 'while', 'of', 'at', 'by', 'for', 'with', 'about', 'against', 'between', 'into', 'through', 'during', 'before', 'after', 'above', 'below', 'to', 'from', 'up', 'down', 'in', 'out', 'on', 'off', 'over', 'under', 'again', 'further', 'then', 'once', 'here', 'there', 'when', 'where', 'why', 'how', 'all', 'any', 'both', 'each', 'few', 'more', 'most', 'other', 'some', 'such', 'no', 'nor', 'not', 'only', 'own', 'same', 'so', 'than', 'too', 'very', 's', 't', 'can', 'will', 'just', 'don', \"don't\", 'should', \"should've\", 'now', 'd', 'll', 'm', 'o', 're', 've', 'y', 'ain', 'aren', \"aren't\", 'couldn', \"couldn't\", 'didn', \"didn't\", 'doesn', \"doesn't\", 'hadn', \"hadn't\", 'hasn', \"hasn't\", 'haven', \"haven't\", 'isn', \"isn't\", 'ma', 'mightn', \"mightn't\", 'mustn', \"mustn't\", 'needn', \"needn't\", 'shan', \"shan't\", 'shouldn', \"shouldn't\", 'wasn', \"wasn't\", 'weren', \"weren't\", 'won', \"won't\", 'wouldn', \"wouldn't\", 'aaaa', 'must', 'every', 'one', 'zzz']\n"
     ]
    }
   ],
   "source": [
    "from nltk.corpus import stopwords\n",
    "stop_words = stopwords.words('english')\n",
    "print(stop_words)\n",
    "stop_words += ['aaaa', 'must', 'every', 'one']  # add more stop words\n",
    "print(stop_words)\n",
    "stop_words +=['zzz']\n",
    "print(stop_words)"
   ]
  }
 ],
 "metadata": {
  "colab": {
   "collapsed_sections": [],
   "provenance": []
  },
  "kernelspec": {
   "display_name": "Python 3 (ipykernel)",
   "language": "python",
   "name": "python3"
  },
  "language_info": {
   "codemirror_mode": {
    "name": "ipython",
    "version": 3
   },
   "file_extension": ".py",
   "mimetype": "text/x-python",
   "name": "python",
   "nbconvert_exporter": "python",
   "pygments_lexer": "ipython3",
   "version": "3.10.4"
  }
 },
 "nbformat": 4,
 "nbformat_minor": 1
}
