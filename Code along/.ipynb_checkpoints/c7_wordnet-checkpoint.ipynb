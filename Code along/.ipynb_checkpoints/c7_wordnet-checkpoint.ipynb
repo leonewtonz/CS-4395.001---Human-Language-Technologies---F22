{
 "cells": [
  {
   "cell_type": "markdown",
   "id": "a5079af3",
   "metadata": {},
   "source": [
    "# WordNet"
   ]
  },
  {
   "cell_type": "markdown",
   "id": "35c888fe",
   "metadata": {},
   "source": [
    "WordNet synsets work at the hierachy of the word/language\n",
    "\n",
    "Detail explanation. [Click here](https://github.com/leonewtonz/NLP-Basic-Python/tree/master/Part_2-Words/Chapter_07_WordNet)\n",
    "\n",
    "Some definittions:\n",
    "\n",
    "- **hypernym** (higher): canine is a hypernym of dog _ Canine included the wolves, jackals, foxes, and coyote\n",
    "- **hyponym** (lower): a dog is a hyponym of canine\n",
    "- **meronym** (part of): wheel is meronym of car\n",
    "- **holonym** (whole): car is holonym of wheel\n",
    "- **troponym** (more specific action): whisper is troponym of talk\n",
    "- **homonyms** (same word form but but have different meanings): dessert (sweet food) vs dessert (dry place with a lot of sand)\n",
    "- **Homophones** (sound alike but spelled differently and have different meanings): "
   ]
  },
  {
   "cell_type": "markdown",
   "id": "72b3d216",
   "metadata": {},
   "source": [
    "## Sample and Package Requirements"
   ]
  },
  {
   "cell_type": "markdown",
   "id": "0005eeb4",
   "metadata": {},
   "source": [
    "Find the synsets of 'exercise'"
   ]
  },
  {
   "cell_type": "code",
   "execution_count": 2,
   "id": "b09b8959",
   "metadata": {},
   "outputs": [
    {
     "data": {
      "text/plain": [
       "[Synset('exercise.n.01'),\n",
       " Synset('use.n.01'),\n",
       " Synset('exercise.n.03'),\n",
       " Synset('exercise.n.04'),\n",
       " Synset('exercise.n.05'),\n",
       " Synset('exert.v.01'),\n",
       " Synset('practice.v.01'),\n",
       " Synset('exercise.v.03'),\n",
       " Synset('exercise.v.04'),\n",
       " Synset('drill.v.03')]"
      ]
     },
     "execution_count": 2,
     "metadata": {},
     "output_type": "execute_result"
    }
   ],
   "source": [
    "from nltk.corpus import wordnet as wn\n",
    "wn.synsets('exercise')"
   ]
  },
  {
   "cell_type": "markdown",
   "id": "888c1dbc",
   "metadata": {},
   "source": [
    "## List of common methods"
   ]
  },
  {
   "cell_type": "markdown",
   "id": "121fce38",
   "metadata": {},
   "source": [
    "1. definition() - retrieves the gloss\n",
    "2. examples() - gives usage cases\n",
    "3. lemmas() - return a list of WordNet entries that are synonyms\n",
    "4. hypernyms()\n",
    "5. part_holonyms()"
   ]
  },
  {
   "cell_type": "markdown",
   "id": "f062870e",
   "metadata": {},
   "source": [
    "**Sample code**"
   ]
  },
  {
   "cell_type": "code",
   "execution_count": 3,
   "id": "971b0efa",
   "metadata": {},
   "outputs": [
    {
     "data": {
      "text/plain": [
       "'give a workout to'"
      ]
     },
     "execution_count": 3,
     "metadata": {},
     "output_type": "execute_result"
    }
   ],
   "source": [
    "wn.synset('exercise.v.03').definition()"
   ]
  },
  {
   "cell_type": "code",
   "execution_count": 5,
   "id": "ae71e71a",
   "metadata": {},
   "outputs": [
    {
     "data": {
      "text/plain": [
       "[Synset('work.v.12')]"
      ]
     },
     "execution_count": 5,
     "metadata": {},
     "output_type": "execute_result"
    }
   ],
   "source": [
    "wn.synset('exercise.v.03').hypernyms()"
   ]
  },
  {
   "cell_type": "code",
   "execution_count": 7,
   "id": "500323f7",
   "metadata": {
    "scrolled": true
   },
   "outputs": [
    {
     "data": {
      "text/plain": [
       "[Synset('hand.n.01')]"
      ]
     },
     "execution_count": 7,
     "metadata": {},
     "output_type": "execute_result"
    }
   ],
   "source": [
    "wn.synset('finger.n.01').part_holonyms()"
   ]
  },
  {
   "cell_type": "code",
   "execution_count": 8,
   "id": "62219a24",
   "metadata": {},
   "outputs": [
    {
     "data": {
      "text/plain": [
       "[Synset('fingernail.n.01'),\n",
       " Synset('fingertip.n.01'),\n",
       " Synset('knuckle.n.01'),\n",
       " Synset('pad.n.07')]"
      ]
     },
     "execution_count": 8,
     "metadata": {},
     "output_type": "execute_result"
    }
   ],
   "source": [
    "wn.synset('finger.n.01').part_meronyms()"
   ]
  },
  {
   "cell_type": "markdown",
   "id": "98c7fc27",
   "metadata": {},
   "source": [
    "### Find lemmas in a synset"
   ]
  },
  {
   "cell_type": "markdown",
   "id": "430103ad",
   "metadata": {},
   "source": [
    "### Traversing the hierarchy"
   ]
  },
  {
   "cell_type": "code",
   "execution_count": 10,
   "id": "9705d823",
   "metadata": {
    "scrolled": false
   },
   "outputs": [
    {
     "name": "stderr",
     "output_type": "stream",
     "text": [
      "C:\\Users\\lichn\\AppData\\Local\\Programs\\Python\\Python310\\lib\\site-packages\\nltk\\corpus\\reader\\wordnet.py:599: UserWarning: Discarded redundant search for Synset('animal.n.01') at depth 7\n",
      "  for synset in acyclic_breadth_first(self, rel, depth):\n"
     ]
    },
    {
     "data": {
      "text/plain": [
       "[Synset('canine.n.02'),\n",
       " Synset('domestic_animal.n.01'),\n",
       " Synset('carnivore.n.01'),\n",
       " Synset('animal.n.01'),\n",
       " Synset('placental.n.01'),\n",
       " Synset('organism.n.01'),\n",
       " Synset('mammal.n.01'),\n",
       " Synset('living_thing.n.01'),\n",
       " Synset('vertebrate.n.01'),\n",
       " Synset('whole.n.02'),\n",
       " Synset('chordate.n.01'),\n",
       " Synset('object.n.01'),\n",
       " Synset('physical_entity.n.01'),\n",
       " Synset('entity.n.01')]"
      ]
     },
     "execution_count": 10,
     "metadata": {},
     "output_type": "execute_result"
    }
   ],
   "source": [
    "# traverse up from \"dog\" synset\n",
    "dog = wn.synset('dog.n.01')\n",
    "hyper = lambda s: s.hypernyms()\n",
    "list(dog.closure(hyper))"
   ]
  },
  {
   "cell_type": "code",
   "execution_count": 11,
   "id": "30932554",
   "metadata": {
    "scrolled": true
   },
   "outputs": [
    {
     "name": "stdout",
     "output_type": "stream",
     "text": [
      "Synset('canine.n.02')\n",
      "Synset('carnivore.n.01')\n",
      "Synset('placental.n.01')\n",
      "Synset('mammal.n.01')\n",
      "Synset('vertebrate.n.01')\n",
      "Synset('chordate.n.01')\n",
      "Synset('animal.n.01')\n",
      "Synset('organism.n.01')\n",
      "Synset('living_thing.n.01')\n",
      "Synset('whole.n.02')\n",
      "Synset('object.n.01')\n",
      "Synset('physical_entity.n.01')\n",
      "Synset('entity.n.01')\n"
     ]
    }
   ],
   "source": [
    "hyp = dog.hypernyms()[0]\n",
    "top = wn.synset('entity.n.01')\n",
    "while hyp:\n",
    "    print(hyp)\n",
    "    if hyp == top:\n",
    "        break\n",
    "    if hyp.hypernyms():\n",
    "        hyp = hyp.hypernyms()[0]"
   ]
  },
  {
   "cell_type": "markdown",
   "id": "cc55dede",
   "metadata": {},
   "source": [
    "### Word Similarity"
   ]
  },
  {
   "cell_type": "markdown",
   "id": "06b42ec0",
   "metadata": {},
   "source": [
    "Similarity ranges from 0 (little similarity) to 1 (identity)\n",
    "\n",
    "    path_similarity()"
   ]
  },
  {
   "cell_type": "code",
   "execution_count": 12,
   "id": "fefc3998",
   "metadata": {},
   "outputs": [
    {
     "name": "stdout",
     "output_type": "stream",
     "text": [
      "0.2\n"
     ]
    }
   ],
   "source": [
    "dog = wn.synset('dog.n.01')\n",
    "cat = wn.synset('cat.n.01')\n",
    "print(dog.path_similarity(cat))"
   ]
  },
  {
   "cell_type": "code",
   "execution_count": 14,
   "id": "9a8981c4",
   "metadata": {
    "scrolled": true
   },
   "outputs": [
    {
     "name": "stdout",
     "output_type": "stream",
     "text": [
      "0.14285714285714285\n"
     ]
    }
   ],
   "source": [
    "hit = wn.synset('hit.v.01')\n",
    "slap = wn.synset('slap.v.01')\n",
    "print(wn.path_similarity(hit, slap))"
   ]
  },
  {
   "cell_type": "markdown",
   "id": "010e0c14",
   "metadata": {},
   "source": [
    "**Compare to Wu_Palmer**"
   ]
  },
  {
   "cell_type": "code",
   "execution_count": 15,
   "id": "2b59799d",
   "metadata": {},
   "outputs": [
    {
     "data": {
      "text/plain": [
       "0.8571428571428571"
      ]
     },
     "execution_count": 15,
     "metadata": {},
     "output_type": "execute_result"
    }
   ],
   "source": [
    "wn.wup_similarity(dog,cat)"
   ]
  },
  {
   "cell_type": "code",
   "execution_count": 16,
   "id": "3743b0a3",
   "metadata": {},
   "outputs": [
    {
     "data": {
      "text/plain": [
       "0.25"
      ]
     },
     "execution_count": 16,
     "metadata": {},
     "output_type": "execute_result"
    }
   ],
   "source": [
    "wn.wup_similarity(hit,slap)"
   ]
  },
  {
   "cell_type": "markdown",
   "id": "7c7db14a",
   "metadata": {},
   "source": [
    "# WSD Word Sense Disambiguation"
   ]
  },
  {
   "cell_type": "markdown",
   "id": "1f128021",
   "metadata": {},
   "source": [
    "Homonyms\n",
    "\n",
    "Homophones\n",
    "\n",
    "Polysemous\n",
    "\n",
    "Metonymy\n",
    "\n",
    "Synecdoche"
   ]
  },
  {
   "cell_type": "markdown",
   "id": "0becf691",
   "metadata": {},
   "source": [
    "### Lesk Algorithm"
   ]
  },
  {
   "cell_type": "code",
   "execution_count": 17,
   "id": "affbc331",
   "metadata": {},
   "outputs": [
    {
     "name": "stdout",
     "output_type": "stream",
     "text": [
      "Synset('savings_bank.n.02')\n"
     ]
    }
   ],
   "source": [
    "from nltk.wsd import lesk\n",
    "sent = ['I', 'went', 'to', 'the', 'bank', 'to', 'deposit', 'money', '.']\n",
    "print(lesk(sent, 'bank','n'))"
   ]
  },
  {
   "cell_type": "markdown",
   "id": "8b96aaf9",
   "metadata": {},
   "source": [
    "## Sentiment Analysis"
   ]
  },
  {
   "cell_type": "markdown",
   "id": "d4a66b87",
   "metadata": {},
   "source": [
    "Assigns 3 scores:\n",
    "\n",
    "- Postive\n",
    "- Negative\n",
    "- Objectivity (Objective/Subjective)"
   ]
  },
  {
   "cell_type": "code",
   "execution_count": 18,
   "id": "45943e1a",
   "metadata": {},
   "outputs": [],
   "source": [
    "from nltk.corpus import sentiwordnet as swn"
   ]
  },
  {
   "cell_type": "code",
   "execution_count": null,
   "id": "51d7e159",
   "metadata": {},
   "outputs": [],
   "source": []
  }
 ],
 "metadata": {
  "kernelspec": {
   "display_name": "Python 3 (ipykernel)",
   "language": "python",
   "name": "python3"
  },
  "language_info": {
   "codemirror_mode": {
    "name": "ipython",
    "version": 3
   },
   "file_extension": ".py",
   "mimetype": "text/x-python",
   "name": "python",
   "nbconvert_exporter": "python",
   "pygments_lexer": "ipython3",
   "version": "3.10.4"
  }
 },
 "nbformat": 4,
 "nbformat_minor": 5
}
