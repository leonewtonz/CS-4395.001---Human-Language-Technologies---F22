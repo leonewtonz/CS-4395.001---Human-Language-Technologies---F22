{
 "cells": [
  {
   "cell_type": "markdown",
   "id": "133355dc",
   "metadata": {},
   "source": [
    "# Text Classicaition"
   ]
  },
  {
   "cell_type": "markdown",
   "id": "30434104",
   "metadata": {},
   "source": [
    "**CS 4395 - Intro to NLP**\n",
    "\n",
    "**Dr. Karen Mazidi**\n",
    "\n",
    "**Prepare by Leo Nguyen - ldn190002**"
   ]
  },
  {
   "cell_type": "markdown",
   "id": "f6598cc7",
   "metadata": {},
   "source": [
    "### Instruction 1\n",
    "\n",
    "    - Find a text classification data set that interests you. \n",
    "    - Divide into train/test\n",
    "    - Create a graph showing the distribution of the target classes.\n",
    "    - Describe the data set and what the model should be able to predict."
   ]
  },
  {
   "cell_type": "markdown",
   "id": "66f3e115",
   "metadata": {},
   "source": [
    "Import all require modules an packages\n"
   ]
  },
  {
   "cell_type": "code",
   "execution_count": 1,
   "id": "41f1c2e0",
   "metadata": {},
   "outputs": [],
   "source": [
    "# some necessary packages\n",
    "import tensorflow as tf\n",
    "from tensorflow import keras\n",
    "from tensorflow.keras.preprocessing.text import Tokenizer\n",
    "from tensorflow.keras import datasets, layers, models, preprocessing\n",
    "\n",
    "from sklearn.preprocessing import LabelEncoder\n",
    "import pickle\n",
    "import numpy as np\n",
    "import pandas as pd\n",
    "import seaborn as sb\n",
    "from fast_ml.model_development import train_valid_test_split\n",
    "\n",
    "# set seed for reproducibility\n",
    "np.random.seed(1234)"
   ]
  },
  {
   "cell_type": "markdown",
   "id": "6e970fa7",
   "metadata": {},
   "source": [
    "Read the dataset. Only read the: title, text and lable. Ignore the index column in the cvs file"
   ]
  },
  {
   "cell_type": "code",
   "execution_count": 87,
   "id": "8f40a962",
   "metadata": {
    "scrolled": true
   },
   "outputs": [
    {
     "name": "stdout",
     "output_type": "stream",
     "text": [
      "rows and columns: (72134, 3)\n",
      "                                               title  \\\n",
      "0  LAW ENFORCEMENT ON HIGH ALERT Following Threat...   \n",
      "1                                                NaN   \n",
      "2  UNBELIEVABLE! OBAMAâS ATTORNEY GENERAL SAYS ...   \n",
      "3  Bobby Jindal, raised Hindu, uses story of Chri...   \n",
      "4  SATAN 2: Russia unvelis an image of its terrif...   \n",
      "\n",
      "                                                text  label  \n",
      "0  No comment is expected from Barack Obama Membe...      1  \n",
      "1     Did they post their votes for Hillary already?      1  \n",
      "2   Now, most of the demonstrators gathered last ...      1  \n",
      "3  A dozen politically active pastors came here f...      0  \n",
      "4  The RS-28 Sarmat missile, dubbed Satan 2, will...      1  \n"
     ]
    }
   ],
   "source": [
    "df = pd.read_csv('WELFake_Dataset.csv', header=0, usecols=[1,2,3], encoding='latin-1')\n",
    "print('rows and columns:', df.shape)\n",
    "print(df.head())"
   ]
  },
  {
   "cell_type": "markdown",
   "id": "4a59fd5c",
   "metadata": {},
   "source": [
    "Check the NAs value in entire dataset. Show counts for each column"
   ]
  },
  {
   "cell_type": "code",
   "execution_count": 88,
   "id": "b29fa6bc",
   "metadata": {},
   "outputs": [
    {
     "data": {
      "text/plain": [
       "title    558\n",
       "text      39\n",
       "label      0\n",
       "dtype: int64"
      ]
     },
     "execution_count": 88,
     "metadata": {},
     "output_type": "execute_result"
    }
   ],
   "source": [
    "df.isnull().sum()"
   ]
  },
  {
   "cell_type": "markdown",
   "id": "09f95801",
   "metadata": {},
   "source": [
    "**Do some clean up on dataset**\n"
   ]
  },
  {
   "cell_type": "markdown",
   "id": "f220aa99",
   "metadata": {},
   "source": [
    "Delete rows with NAs. And output the new dimension"
   ]
  },
  {
   "cell_type": "code",
   "execution_count": 89,
   "id": "159f5691",
   "metadata": {
    "scrolled": true
   },
   "outputs": [
    {
     "name": "stdout",
     "output_type": "stream",
     "text": [
      "\n",
      "Dimensions of data frame: (71537, 3)\n"
     ]
    }
   ],
   "source": [
    "df = df.dropna()\n",
    "print('\\nDimensions of data frame:', df.shape)"
   ]
  },
  {
   "cell_type": "markdown",
   "id": "c98f0a66",
   "metadata": {},
   "source": [
    "**Divide into train/test**"
   ]
  },
  {
   "cell_type": "code",
   "execution_count": 90,
   "id": "ee1af0eb",
   "metadata": {},
   "outputs": [
    {
     "name": "stdout",
     "output_type": "stream",
     "text": [
      "train data size:  (57077, 3)\n",
      "test data size:  (14460, 3)\n"
     ]
    }
   ],
   "source": [
    "# split df into train and test\n",
    "i = np.random.rand(len(df)) < 0.8\n",
    "train = df[i]\n",
    "test = df[~i]\n",
    "print(\"train data size: \", train.shape)\n",
    "print(\"test data size: \", test.shape)"
   ]
  },
  {
   "cell_type": "markdown",
   "id": "e4becb51",
   "metadata": {},
   "source": [
    "**Graph showing the distribution of the target classes for entire dataset**"
   ]
  },
  {
   "cell_type": "markdown",
   "id": "61306776",
   "metadata": {},
   "source": [
    "The target class is the **label** column which classify which news is real, which is fake.\n",
    "\n",
    "Based on the graph, we can see that, we have almost equal amount of fake news and real news on the dataset.\n",
    "\n",
    "Label (0 = fake and 1 = real)."
   ]
  },
  {
   "cell_type": "code",
   "execution_count": 91,
   "id": "13e22215",
   "metadata": {},
   "outputs": [
    {
     "data": {
      "text/plain": [
       "<seaborn.axisgrid.FacetGrid at 0x1ae6bd32170>"
      ]
     },
     "execution_count": 91,
     "metadata": {},
     "output_type": "execute_result"
    },
    {
     "data": {
      "image/png": "[encoded data removed]",
      "text/plain": [
       "<Figure size 500x500 with 1 Axes>"
      ]
     },
     "metadata": {},
     "output_type": "display_data"
    }
   ],
   "source": [
    "sb.catplot(data=df, x=\"label\", kind='count').set(title='Distribution of Fake - 0 /Real - 1 News')"
   ]
  },
  {
   "cell_type": "markdown",
   "id": "15888f0f",
   "metadata": {},
   "source": [
    "**Describe the data set and what the model should be able to predict.**"
   ]
  },
  {
   "cell_type": "markdown",
   "id": "dd314716",
   "metadata": {},
   "source": [
    "    -The dataset contains of 72,134 news articles with 35,028 real and 37,106 fake news. The dataset was merged from four popular news datasets: Kaggle, McIntire, Reuters, BuzzFeed Political to prevent over-fitting of classifiers and to provide more text data for better ML training.\n",
    "\n",
    "    -Dataset contains four columns: Serial number (starting from 0); Title (about the text news heading); Text (about the news content); and Label (0 = fake and 1 = real).\n",
    "\n",
    "    -However there is some NAs value inside the original dataset. After cleaning (Remove NAs value). The number of articles was reduce from 72,134 to 71,537.\n",
    "\n",
    "    -Cleaned dataset is divided into train/test (80/20). Then use the train set to build the model to predict which articles is real, which is fake. (0 = fake and 1 = real). \n"
   ]
  },
  {
   "cell_type": "markdown",
   "id": "bdc324f7",
   "metadata": {},
   "source": [
    "### Intruction 2 - Sequential Model\n",
    "\n",
    "    - Create a sequential model\n",
    "    - Evaluate on the test data"
   ]
  },
  {
   "cell_type": "code",
   "execution_count": 92,
   "id": "30e5a758",
   "metadata": {},
   "outputs": [
    {
     "data": {
      "text/html": [
       "<div>\n",
       "<style scoped>\n",
       "    .dataframe tbody tr th:only-of-type {\n",
       "        vertical-align: middle;\n",
       "    }\n",
       "\n",
       "    .dataframe tbody tr th {\n",
       "        vertical-align: top;\n",
       "    }\n",
       "\n",
       "    .dataframe thead th {\n",
       "        text-align: right;\n",
       "    }\n",
       "</style>\n",
       "<table border=\"1\" class=\"dataframe\">\n",
       "  <thead>\n",
       "    <tr style=\"text-align: right;\">\n",
       "      <th></th>\n",
       "      <th>title</th>\n",
       "      <th>text</th>\n",
       "      <th>label</th>\n",
       "    </tr>\n",
       "  </thead>\n",
       "  <tbody>\n",
       "    <tr>\n",
       "      <th>0</th>\n",
       "      <td>LAW ENFORCEMENT ON HIGH ALERT Following Threat...</td>\n",
       "      <td>No comment is expected from Barack Obama Membe...</td>\n",
       "      <td>1</td>\n",
       "    </tr>\n",
       "    <tr>\n",
       "      <th>2</th>\n",
       "      <td>UNBELIEVABLE! OBAMAâS ATTORNEY GENERAL SAYS ...</td>\n",
       "      <td>Now, most of the demonstrators gathered last ...</td>\n",
       "      <td>1</td>\n",
       "    </tr>\n",
       "    <tr>\n",
       "      <th>3</th>\n",
       "      <td>Bobby Jindal, raised Hindu, uses story of Chri...</td>\n",
       "      <td>A dozen politically active pastors came here f...</td>\n",
       "      <td>0</td>\n",
       "    </tr>\n",
       "    <tr>\n",
       "      <th>4</th>\n",
       "      <td>SATAN 2: Russia unvelis an image of its terrif...</td>\n",
       "      <td>The RS-28 Sarmat missile, dubbed Satan 2, will...</td>\n",
       "      <td>1</td>\n",
       "    </tr>\n",
       "    <tr>\n",
       "      <th>5</th>\n",
       "      <td>About Time! Christian Group Sues Amazon and SP...</td>\n",
       "      <td>All we can say on this one is it s about time ...</td>\n",
       "      <td>1</td>\n",
       "    </tr>\n",
       "  </tbody>\n",
       "</table>\n",
       "</div>"
      ],
      "text/plain": [
       "                                               title  \\\n",
       "0  LAW ENFORCEMENT ON HIGH ALERT Following Threat...   \n",
       "2  UNBELIEVABLE! OBAMAâS ATTORNEY GENERAL SAYS ...   \n",
       "3  Bobby Jindal, raised Hindu, uses story of Chri...   \n",
       "4  SATAN 2: Russia unvelis an image of its terrif...   \n",
       "5  About Time! Christian Group Sues Amazon and SP...   \n",
       "\n",
       "                                                text  label  \n",
       "0  No comment is expected from Barack Obama Membe...      1  \n",
       "2   Now, most of the demonstrators gathered last ...      1  \n",
       "3  A dozen politically active pastors came here f...      0  \n",
       "4  The RS-28 Sarmat missile, dubbed Satan 2, will...      1  \n",
       "5  All we can say on this one is it s about time ...      1  "
      ]
     },
     "execution_count": 92,
     "metadata": {},
     "output_type": "execute_result"
    }
   ],
   "source": [
    "df.head()"
   ]
  },
  {
   "cell_type": "markdown",
   "id": "3e3986b3",
   "metadata": {},
   "source": [
    "**Create a sequential model**"
   ]
  },
  {
   "cell_type": "raw",
   "id": "06d983f9",
   "metadata": {},
   "source": [
    "Prepare the data before building model"
   ]
  },
  {
   "cell_type": "code",
   "execution_count": 8,
   "id": "f6202e57",
   "metadata": {},
   "outputs": [
    {
     "name": "stdout",
     "output_type": "stream",
     "text": [
      "train shapes: (57199, 25000) (57199,)\n",
      "test shapes: (14338, 25000) (14338,)\n",
      "test first five labels: [1 1 1 1 1]\n"
     ]
    }
   ],
   "source": [
    "# set up X and Y\n",
    "num_labels = 2\n",
    "vocab_size = 25000\n",
    "batch_size = 100\n",
    "\n",
    "# fit the tokenizer on the training data\n",
    "tokenizer = Tokenizer(num_words=vocab_size)\n",
    "tokenizer.fit_on_texts(train.text) # Only use text column as the predictor for the models\n",
    "\n",
    "x_train = tokenizer.texts_to_matrix(train.text, mode='tfidf')\n",
    "x_test = tokenizer.texts_to_matrix(test.text, mode='tfidf')\n",
    "\n",
    "encoder = LabelEncoder()\n",
    "encoder.fit(train.label)\n",
    "y_train = encoder.transform(train.label)\n",
    "y_test = encoder.transform(test.label)\n",
    "\n",
    "# check shape\n",
    "print(\"train shapes:\", x_train.shape, y_train.shape)\n",
    "print(\"test shapes:\", x_test.shape, y_test.shape)\n",
    "print(\"test first five labels:\", y_test[:5])"
   ]
  },
  {
   "cell_type": "markdown",
   "id": "57188e77",
   "metadata": {},
   "source": [
    "Build the model"
   ]
  },
  {
   "cell_type": "code",
   "execution_count": 9,
   "id": "145e1637",
   "metadata": {
    "scrolled": false
   },
   "outputs": [
    {
     "name": "stdout",
     "output_type": "stream",
     "text": [
      "Epoch 1/30\n",
      "515/515 [==============================] - 27s 49ms/step - loss: 0.1628 - accuracy: 0.9476 - val_loss: 0.0954 - val_accuracy: 0.9726\n",
      "Epoch 2/30\n",
      "515/515 [==============================] - 13s 25ms/step - loss: 0.0272 - accuracy: 0.9942 - val_loss: 0.0854 - val_accuracy: 0.9762\n",
      "Epoch 3/30\n",
      "515/515 [==============================] - 9s 17ms/step - loss: 0.0094 - accuracy: 0.9988 - val_loss: 0.0985 - val_accuracy: 0.9747\n",
      "Epoch 4/30\n",
      "515/515 [==============================] - 8s 16ms/step - loss: 0.0059 - accuracy: 0.9993 - val_loss: 0.1079 - val_accuracy: 0.9760\n",
      "Epoch 5/30\n",
      "515/515 [==============================] - 8s 16ms/step - loss: 0.0045 - accuracy: 0.9994 - val_loss: 0.1337 - val_accuracy: 0.9717\n",
      "Epoch 6/30\n",
      "515/515 [==============================] - 10s 19ms/step - loss: 0.0097 - accuracy: 0.9975 - val_loss: 0.1584 - val_accuracy: 0.9708\n",
      "Epoch 7/30\n",
      "515/515 [==============================] - 10s 20ms/step - loss: 0.0091 - accuracy: 0.9974 - val_loss: 0.1435 - val_accuracy: 0.9713\n",
      "Epoch 8/30\n",
      "515/515 [==============================] - 9s 17ms/step - loss: 0.0034 - accuracy: 0.9993 - val_loss: 0.1775 - val_accuracy: 0.9708\n",
      "Epoch 9/30\n",
      "515/515 [==============================] - 10s 20ms/step - loss: 0.0017 - accuracy: 0.9998 - val_loss: 0.1574 - val_accuracy: 0.9733\n",
      "Epoch 10/30\n",
      "515/515 [==============================] - 10s 20ms/step - loss: 0.0030 - accuracy: 0.9997 - val_loss: 0.1777 - val_accuracy: 0.9731\n",
      "Epoch 11/30\n",
      "515/515 [==============================] - 11s 22ms/step - loss: 0.0061 - accuracy: 0.9992 - val_loss: 0.1593 - val_accuracy: 0.9729\n",
      "Epoch 12/30\n",
      "515/515 [==============================] - 11s 21ms/step - loss: 0.0018 - accuracy: 0.9997 - val_loss: 0.1675 - val_accuracy: 0.9748\n",
      "Epoch 13/30\n",
      "515/515 [==============================] - 10s 20ms/step - loss: 0.0010 - accuracy: 0.9999 - val_loss: 0.1756 - val_accuracy: 0.9745\n",
      "Epoch 14/30\n",
      "515/515 [==============================] - 10s 20ms/step - loss: 5.6302e-04 - accuracy: 0.9999 - val_loss: 0.1846 - val_accuracy: 0.9747\n",
      "Epoch 15/30\n",
      "515/515 [==============================] - 10s 19ms/step - loss: 7.2579e-04 - accuracy: 0.9999 - val_loss: 0.1907 - val_accuracy: 0.9741\n",
      "Epoch 16/30\n",
      "515/515 [==============================] - 9s 17ms/step - loss: 8.4041e-04 - accuracy: 0.9999 - val_loss: 0.1900 - val_accuracy: 0.9741\n",
      "Epoch 17/30\n",
      "515/515 [==============================] - 9s 17ms/step - loss: 3.5246e-04 - accuracy: 0.9999 - val_loss: 0.1995 - val_accuracy: 0.9741\n",
      "Epoch 18/30\n",
      "515/515 [==============================] - 8s 15ms/step - loss: 5.4034e-04 - accuracy: 0.9999 - val_loss: 0.2060 - val_accuracy: 0.9731\n",
      "Epoch 19/30\n",
      "515/515 [==============================] - 8s 15ms/step - loss: 3.7194e-04 - accuracy: 0.9999 - val_loss: 0.2204 - val_accuracy: 0.9731\n",
      "Epoch 20/30\n",
      "515/515 [==============================] - 8s 16ms/step - loss: 0.0011 - accuracy: 0.9999 - val_loss: 0.2183 - val_accuracy: 0.9738\n",
      "Epoch 21/30\n",
      "515/515 [==============================] - 8s 15ms/step - loss: 5.8296e-04 - accuracy: 0.9999 - val_loss: 0.2218 - val_accuracy: 0.9734\n",
      "Epoch 22/30\n",
      "515/515 [==============================] - 8s 16ms/step - loss: 2.5976e-04 - accuracy: 0.9999 - val_loss: 0.2425 - val_accuracy: 0.9745\n",
      "Epoch 23/30\n",
      "515/515 [==============================] - 9s 18ms/step - loss: 0.0014 - accuracy: 0.9998 - val_loss: 0.2825 - val_accuracy: 0.9736\n",
      "Epoch 24/30\n",
      "515/515 [==============================] - 10s 19ms/step - loss: 0.0130 - accuracy: 0.9970 - val_loss: 0.1632 - val_accuracy: 0.9738\n",
      "Epoch 25/30\n",
      "515/515 [==============================] - 8s 16ms/step - loss: 0.0024 - accuracy: 0.9994 - val_loss: 0.1847 - val_accuracy: 0.9733\n",
      "Epoch 26/30\n",
      "515/515 [==============================] - 8s 16ms/step - loss: 0.0015 - accuracy: 0.9999 - val_loss: 0.1864 - val_accuracy: 0.9745\n",
      "Epoch 27/30\n",
      "515/515 [==============================] - 8s 15ms/step - loss: 5.2796e-04 - accuracy: 0.9999 - val_loss: 0.1950 - val_accuracy: 0.9752\n",
      "Epoch 28/30\n",
      "515/515 [==============================] - 8s 15ms/step - loss: 9.2256e-04 - accuracy: 0.9999 - val_loss: 0.2024 - val_accuracy: 0.9731\n",
      "Epoch 29/30\n",
      "515/515 [==============================] - 8s 15ms/step - loss: 8.2498e-04 - accuracy: 0.9999 - val_loss: 0.1953 - val_accuracy: 0.9743\n",
      "Epoch 30/30\n",
      "515/515 [==============================] - 8s 15ms/step - loss: 8.0208e-04 - accuracy: 0.9999 - val_loss: 0.2015 - val_accuracy: 0.9740\n"
     ]
    }
   ],
   "source": [
    "# fit model\n",
    "model = models.Sequential()\n",
    "model.add(layers.Dense(32, input_dim=vocab_size, kernel_initializer='normal', activation='relu'))\n",
    "model.add(layers.Dense(1, kernel_initializer='normal', activation='sigmoid'))\n",
    " \n",
    "# compile\n",
    "model.compile(loss='binary_crossentropy',\n",
    "              optimizer='adam',\n",
    "              metrics=['accuracy'])\n",
    "\n",
    "# train\n",
    "history = model.fit(x_train, y_train,\n",
    "                    batch_size=batch_size,\n",
    "                    epochs=30,\n",
    "                    verbose=1,\n",
    "                    validation_split=0.1)"
   ]
  },
  {
   "cell_type": "code",
   "execution_count": 10,
   "id": "7f55d09e",
   "metadata": {},
   "outputs": [
    {
     "name": "stdout",
     "output_type": "stream",
     "text": [
      "Model: \"sequential\"\n",
      "_________________________________________________________________\n",
      " Layer (type)                Output Shape              Param #   \n",
      "=================================================================\n",
      " dense (Dense)               (None, 32)                800032    \n",
      "                                                                 \n",
      " dense_1 (Dense)             (None, 1)                 33        \n",
      "                                                                 \n",
      "=================================================================\n",
      "Total params: 800,065\n",
      "Trainable params: 800,065\n",
      "Non-trainable params: 0\n",
      "_________________________________________________________________\n"
     ]
    }
   ],
   "source": [
    "# Show model summary\n",
    "model.summary()"
   ]
  },
  {
   "cell_type": "markdown",
   "id": "07fb6d68",
   "metadata": {},
   "source": [
    "**Evaluation**"
   ]
  },
  {
   "cell_type": "markdown",
   "id": "51181bc8",
   "metadata": {},
   "source": [
    "Use model to predict the target on test data"
   ]
  },
  {
   "cell_type": "code",
   "execution_count": 11,
   "id": "16234622",
   "metadata": {
    "scrolled": true
   },
   "outputs": [
    {
     "name": "stdout",
     "output_type": "stream",
     "text": [
      "449/449 [==============================] - 3s 4ms/step\n"
     ]
    },
    {
     "data": {
      "text/plain": [
       "array([[1.0000000e+00],\n",
       "       [1.0000000e+00],\n",
       "       [1.0000000e+00],\n",
       "       [9.9999905e-01],\n",
       "       [9.9999988e-01],\n",
       "       [9.3879349e-12],\n",
       "       [3.1618777e-28],\n",
       "       [1.0000000e+00],\n",
       "       [1.0000000e+00],\n",
       "       [1.0000000e+00]], dtype=float32)"
      ]
     },
     "execution_count": 11,
     "metadata": {},
     "output_type": "execute_result"
    }
   ],
   "source": [
    "# get predictions so we can calculate more metrics\n",
    "pred = model.predict(x_test)\n",
    "pred_labels = [1 if p>0.5 else 0 for p in pred]\n",
    "pred[:10]"
   ]
  },
  {
   "cell_type": "markdown",
   "id": "eae1e6ab",
   "metadata": {},
   "source": [
    "Evaluate and calculate the metrics"
   ]
  },
  {
   "cell_type": "code",
   "execution_count": 12,
   "id": "6d95dec9",
   "metadata": {
    "scrolled": true
   },
   "outputs": [
    {
     "name": "stdout",
     "output_type": "stream",
     "text": [
      "accuracy score:  0.9730785325707909\n",
      "precision score:  0.9693301049233253\n",
      "recall score:  0.9785442694187941\n",
      "f1 score:  0.9739153939721584\n"
     ]
    }
   ],
   "source": [
    "from sklearn.metrics import accuracy_score, precision_score, recall_score, f1_score\n",
    "print('accuracy score: ', accuracy_score(y_test, pred_labels))\n",
    "print('precision score: ', precision_score(y_test, pred_labels))\n",
    "print('recall score: ', recall_score(y_test, pred_labels))\n",
    "print('f1 score: ', f1_score(y_test, pred_labels))"
   ]
  },
  {
   "cell_type": "markdown",
   "id": "d111cc64",
   "metadata": {},
   "source": [
    "### Instruction 3 - Sequential Model with RNN, CNN Architecture\n",
    "\n",
    "Try different architecture like RNN, CNN, etc and evaluate on the test data"
   ]
  },
  {
   "cell_type": "markdown",
   "id": "79e8ef46",
   "metadata": {},
   "source": [
    "### RNN Architecture"
   ]
  },
  {
   "cell_type": "markdown",
   "id": "995bf126",
   "metadata": {},
   "source": [
    "Prepare the data before building model"
   ]
  },
  {
   "cell_type": "code",
   "execution_count": 13,
   "id": "e8e91199",
   "metadata": {},
   "outputs": [],
   "source": [
    "# Try different set up for X and Y \n",
    "max_features = 10000\n",
    "maxlen = 500\n",
    "batch_size = 32\n",
    "\n",
    "\n",
    "# pad the data to maxlen\n",
    "train_data = preprocessing.sequence.pad_sequences(x_train, maxlen=maxlen)\n",
    "test_data = preprocessing.sequence.pad_sequences(x_test, maxlen=maxlen)"
   ]
  },
  {
   "cell_type": "markdown",
   "id": "373f910f",
   "metadata": {},
   "source": [
    "Build model with RNN Architecture\n"
   ]
  },
  {
   "cell_type": "code",
   "execution_count": 14,
   "id": "9f4c51d2",
   "metadata": {},
   "outputs": [
    {
     "name": "stdout",
     "output_type": "stream",
     "text": [
      "Epoch 1/10\n",
      "358/358 [==============================] - 47s 126ms/step - loss: 0.6947 - accuracy: 0.5054 - val_loss: 0.6934 - val_accuracy: 0.5116\n",
      "Epoch 2/10\n",
      "358/358 [==============================] - 46s 127ms/step - loss: 0.6940 - accuracy: 0.5043 - val_loss: 0.6935 - val_accuracy: 0.5099\n",
      "Epoch 3/10\n",
      "358/358 [==============================] - 44s 122ms/step - loss: 0.6945 - accuracy: 0.5029 - val_loss: 0.6931 - val_accuracy: 0.4962\n",
      "Epoch 4/10\n",
      "358/358 [==============================] - 44s 122ms/step - loss: 0.6934 - accuracy: 0.5051 - val_loss: 0.6925 - val_accuracy: 0.5099\n",
      "Epoch 5/10\n",
      "358/358 [==============================] - 43s 121ms/step - loss: 0.6942 - accuracy: 0.5046 - val_loss: 0.6927 - val_accuracy: 0.4975\n",
      "Epoch 6/10\n",
      "358/358 [==============================] - 46s 127ms/step - loss: 0.6935 - accuracy: 0.5065 - val_loss: 0.6926 - val_accuracy: 0.5095\n",
      "Epoch 7/10\n",
      "358/358 [==============================] - 43s 120ms/step - loss: 0.6939 - accuracy: 0.5013 - val_loss: 0.6927 - val_accuracy: 0.5089\n",
      "Epoch 8/10\n",
      "358/358 [==============================] - 43s 121ms/step - loss: 0.6936 - accuracy: 0.5086 - val_loss: 0.6928 - val_accuracy: 0.5038\n",
      "Epoch 9/10\n",
      "358/358 [==============================] - 43s 121ms/step - loss: 0.6928 - accuracy: 0.5066 - val_loss: 0.6928 - val_accuracy: 0.4936\n",
      "Epoch 10/10\n",
      "358/358 [==============================] - 43s 120ms/step - loss: 0.6931 - accuracy: 0.5062 - val_loss: 0.6925 - val_accuracy: 0.4934\n"
     ]
    }
   ],
   "source": [
    "# build a Sequential model with Embedding and SimpleRNN layers\n",
    "\n",
    "model = models.Sequential()\n",
    "model.add(layers.Embedding(max_features, 32))\n",
    "model.add(layers.SimpleRNN(32))\n",
    "model.add(layers.Dense(1, activation='sigmoid'))\n",
    "\n",
    "# compile\n",
    "model.compile(optimizer='rmsprop',\n",
    "              loss='binary_crossentropy',\n",
    "              metrics=['accuracy'])\n",
    "\n",
    "# train\n",
    "history = model.fit(train_data,\n",
    "                    y_train,\n",
    "                    epochs=10,\n",
    "                    batch_size=128,\n",
    "                    validation_split=0.2)"
   ]
  },
  {
   "cell_type": "code",
   "execution_count": 15,
   "id": "8614fcf1",
   "metadata": {
    "scrolled": true
   },
   "outputs": [
    {
     "name": "stdout",
     "output_type": "stream",
     "text": [
      "Model: \"sequential_1\"\n",
      "_________________________________________________________________\n",
      " Layer (type)                Output Shape              Param #   \n",
      "=================================================================\n",
      " embedding (Embedding)       (None, None, 32)          320000    \n",
      "                                                                 \n",
      " simple_rnn (SimpleRNN)      (None, 32)                2080      \n",
      "                                                                 \n",
      " dense_2 (Dense)             (None, 1)                 33        \n",
      "                                                                 \n",
      "=================================================================\n",
      "Total params: 322,113\n",
      "Trainable params: 322,113\n",
      "Non-trainable params: 0\n",
      "_________________________________________________________________\n"
     ]
    }
   ],
   "source": [
    "# Show model summary\n",
    "model.summary()"
   ]
  },
  {
   "cell_type": "markdown",
   "id": "4ddf97fa",
   "metadata": {},
   "source": [
    "**Evaluation of RNN**"
   ]
  },
  {
   "cell_type": "markdown",
   "id": "b26bc5fd",
   "metadata": {},
   "source": [
    "Use model to predict the target on test data"
   ]
  },
  {
   "cell_type": "code",
   "execution_count": 16,
   "id": "4c640691",
   "metadata": {},
   "outputs": [
    {
     "name": "stdout",
     "output_type": "stream",
     "text": [
      "449/449 [==============================] - 10s 22ms/step\n"
     ]
    },
    {
     "data": {
      "text/plain": [
       "array([[0.4940205 ],\n",
       "       [0.4940205 ],\n",
       "       [0.49402052],\n",
       "       [0.4940205 ],\n",
       "       [0.4940205 ],\n",
       "       [0.4940205 ],\n",
       "       [0.4940205 ],\n",
       "       [0.49344057],\n",
       "       [0.4940205 ],\n",
       "       [0.49316883]], dtype=float32)"
      ]
     },
     "execution_count": 16,
     "metadata": {},
     "output_type": "execute_result"
    }
   ],
   "source": [
    "# get predictions so we can calculate more metrics\n",
    "pred = model.predict(test_data)\n",
    "pred_labels = [1 if p>0.5 else 0 for p in pred]\n",
    "pred[:10]"
   ]
  },
  {
   "cell_type": "markdown",
   "id": "891b964d",
   "metadata": {},
   "source": [
    "Evaluate and calculate the metrics"
   ]
  },
  {
   "cell_type": "code",
   "execution_count": 17,
   "id": "7c86db3e",
   "metadata": {
    "scrolled": true
   },
   "outputs": [
    {
     "name": "stdout",
     "output_type": "stream",
     "text": [
      "accuracy score:  0.4872367136281211\n",
      "precision score:  0.5441176470588235\n",
      "recall score:  0.010048886474741989\n",
      "f1 score:  0.019733333333333335\n"
     ]
    }
   ],
   "source": [
    "from sklearn.metrics import accuracy_score, precision_score, recall_score, f1_score\n",
    "print('accuracy score: ', accuracy_score(y_test, pred_labels))\n",
    "print('precision score: ', precision_score(y_test, pred_labels))\n",
    "print('recall score: ', recall_score(y_test, pred_labels))\n",
    "print('f1 score: ', f1_score(y_test, pred_labels))"
   ]
  },
  {
   "cell_type": "markdown",
   "id": "71a4d6ad",
   "metadata": {},
   "source": [
    "### CNN Architecture"
   ]
  },
  {
   "cell_type": "markdown",
   "id": "ffc985df",
   "metadata": {},
   "source": [
    "Build model with CNN Architecture"
   ]
  },
  {
   "cell_type": "code",
   "execution_count": 18,
   "id": "75e7caa6",
   "metadata": {},
   "outputs": [
    {
     "name": "stdout",
     "output_type": "stream",
     "text": [
      "Epoch 1/10\n",
      "358/358 [==============================] - 117s 324ms/step - loss: 0.7226 - accuracy: 0.4966 - val_loss: 0.6928 - val_accuracy: 0.5087\n",
      "Epoch 2/10\n",
      "358/358 [==============================] - 114s 318ms/step - loss: 0.6938 - accuracy: 0.5026 - val_loss: 0.6930 - val_accuracy: 0.4997\n",
      "Epoch 3/10\n",
      "358/358 [==============================] - 115s 320ms/step - loss: 0.6936 - accuracy: 0.4987 - val_loss: 0.6928 - val_accuracy: 0.5087\n",
      "Epoch 4/10\n",
      "358/358 [==============================] - 114s 318ms/step - loss: 0.6934 - accuracy: 0.5070 - val_loss: 0.6970 - val_accuracy: 0.4948\n",
      "Epoch 5/10\n",
      "358/358 [==============================] - 114s 318ms/step - loss: 0.6931 - accuracy: 0.5069 - val_loss: 0.6926 - val_accuracy: 0.5087\n",
      "Epoch 6/10\n",
      "358/358 [==============================] - 114s 319ms/step - loss: 0.6934 - accuracy: 0.5005 - val_loss: 0.6926 - val_accuracy: 0.4950\n",
      "Epoch 7/10\n",
      "358/358 [==============================] - 115s 323ms/step - loss: 0.6931 - accuracy: 0.5039 - val_loss: 0.6923 - val_accuracy: 0.5087\n",
      "Epoch 8/10\n",
      "358/358 [==============================] - 114s 319ms/step - loss: 0.6931 - accuracy: 0.5027 - val_loss: 0.6932 - val_accuracy: 0.4961\n",
      "Epoch 9/10\n",
      "358/358 [==============================] - 116s 325ms/step - loss: 0.6930 - accuracy: 0.5052 - val_loss: 0.6950 - val_accuracy: 0.5087\n",
      "Epoch 10/10\n",
      "358/358 [==============================] - 115s 323ms/step - loss: 0.6932 - accuracy: 0.5012 - val_loss: 0.6953 - val_accuracy: 0.4962\n"
     ]
    }
   ],
   "source": [
    "# build a Sequential model 1D convnet\n",
    "\n",
    "model = models.Sequential()\n",
    "model.add(layers.Embedding(max_features, 128, input_length=maxlen)) \n",
    "model.add(layers.Conv1D(32, 7, activation='relu')) \n",
    "model.add(layers.MaxPooling1D(5)) \n",
    "model.add(layers.Conv1D(32, 7, activation='relu')) \n",
    "model.add(layers.GlobalMaxPooling1D())\n",
    "model.add(layers.Dense(1))\n",
    "\n",
    "# compile\n",
    "model.compile(optimizer=tf.keras.optimizers.RMSprop(learning_rate=1e-4),  # set learning rate\n",
    "              loss='binary_crossentropy',\n",
    "              metrics=['accuracy'])\n",
    "\n",
    "# train\n",
    "history = model.fit(train_data,\n",
    "                    y_train,\n",
    "                    epochs=10,\n",
    "                    batch_size=128,\n",
    "                    validation_split=0.2)"
   ]
  },
  {
   "cell_type": "code",
   "execution_count": 19,
   "id": "87a1af45",
   "metadata": {},
   "outputs": [
    {
     "name": "stdout",
     "output_type": "stream",
     "text": [
      "Model: \"sequential_2\"\n",
      "_________________________________________________________________\n",
      " Layer (type)                Output Shape              Param #   \n",
      "=================================================================\n",
      " embedding_1 (Embedding)     (None, 500, 128)          1280000   \n",
      "                                                                 \n",
      " conv1d (Conv1D)             (None, 494, 32)           28704     \n",
      "                                                                 \n",
      " max_pooling1d (MaxPooling1D  (None, 98, 32)           0         \n",
      " )                                                               \n",
      "                                                                 \n",
      " conv1d_1 (Conv1D)           (None, 92, 32)            7200      \n",
      "                                                                 \n",
      " global_max_pooling1d (Globa  (None, 32)               0         \n",
      " lMaxPooling1D)                                                  \n",
      "                                                                 \n",
      " dense_3 (Dense)             (None, 1)                 33        \n",
      "                                                                 \n",
      "=================================================================\n",
      "Total params: 1,315,937\n",
      "Trainable params: 1,315,937\n",
      "Non-trainable params: 0\n",
      "_________________________________________________________________\n"
     ]
    }
   ],
   "source": [
    "# Show model summary\n",
    "model.summary()"
   ]
  },
  {
   "cell_type": "markdown",
   "id": "3dbbdf38",
   "metadata": {},
   "source": [
    "**Evaluation of CNN**"
   ]
  },
  {
   "cell_type": "markdown",
   "id": "634d42e7",
   "metadata": {},
   "source": [
    "Use model to predict the target on test data"
   ]
  },
  {
   "cell_type": "code",
   "execution_count": 20,
   "id": "328f6f0e",
   "metadata": {},
   "outputs": [
    {
     "name": "stdout",
     "output_type": "stream",
     "text": [
      "449/449 [==============================] - 7s 16ms/step\n"
     ]
    },
    {
     "data": {
      "text/plain": [
       "array([[0.46726224],\n",
       "       [0.46726224],\n",
       "       [0.46865982],\n",
       "       [0.46726224],\n",
       "       [0.46726224],\n",
       "       [0.4686146 ],\n",
       "       [0.46726224],\n",
       "       [0.46858922],\n",
       "       [0.52875936],\n",
       "       [0.4686633 ]], dtype=float32)"
      ]
     },
     "execution_count": 20,
     "metadata": {},
     "output_type": "execute_result"
    }
   ],
   "source": [
    "# get predictions so we can calculate more metrics\n",
    "pred = model.predict(test_data)\n",
    "pred_labels = [1 if p>0.5 else 0 for p in pred]\n",
    "pred[:10]"
   ]
  },
  {
   "cell_type": "markdown",
   "id": "c5f0905b",
   "metadata": {},
   "source": [
    "Evaluate and calculate the metrics"
   ]
  },
  {
   "cell_type": "code",
   "execution_count": 21,
   "id": "ea56602a",
   "metadata": {},
   "outputs": [
    {
     "name": "stdout",
     "output_type": "stream",
     "text": [
      "accuracy score:  0.4884223741107546\n",
      "precision score:  0.5491525423728814\n",
      "recall score:  0.021998913633894623\n",
      "f1 score:  0.04230317273795534\n"
     ]
    }
   ],
   "source": [
    "from sklearn.metrics import accuracy_score, precision_score, recall_score, f1_score\n",
    "print('accuracy score: ', accuracy_score(y_test, pred_labels))\n",
    "print('precision score: ', precision_score(y_test, pred_labels))\n",
    "print('recall score: ', recall_score(y_test, pred_labels))\n",
    "print('f1 score: ', f1_score(y_test, pred_labels))"
   ]
  },
  {
   "cell_type": "markdown",
   "id": "8c88e00f",
   "metadata": {},
   "source": [
    "### Instruction 4 - Model with Embedding Approaches\n",
    "\n",
    "    - Try different embedding approaches and evaluate on the test data"
   ]
  },
  {
   "cell_type": "code",
   "execution_count": 171,
   "id": "c1112754",
   "metadata": {
    "scrolled": true
   },
   "outputs": [
    {
     "data": {
      "text/html": [
       "<div>\n",
       "<style scoped>\n",
       "    .dataframe tbody tr th:only-of-type {\n",
       "        vertical-align: middle;\n",
       "    }\n",
       "\n",
       "    .dataframe tbody tr th {\n",
       "        vertical-align: top;\n",
       "    }\n",
       "\n",
       "    .dataframe thead th {\n",
       "        text-align: right;\n",
       "    }\n",
       "</style>\n",
       "<table border=\"1\" class=\"dataframe\">\n",
       "  <thead>\n",
       "    <tr style=\"text-align: right;\">\n",
       "      <th></th>\n",
       "      <th>title</th>\n",
       "      <th>text</th>\n",
       "      <th>label</th>\n",
       "    </tr>\n",
       "  </thead>\n",
       "  <tbody>\n",
       "    <tr>\n",
       "      <th>0</th>\n",
       "      <td>LAW ENFORCEMENT ON HIGH ALERT Following Threat...</td>\n",
       "      <td>No comment is expected from Barack Obama Membe...</td>\n",
       "      <td>1</td>\n",
       "    </tr>\n",
       "    <tr>\n",
       "      <th>2</th>\n",
       "      <td>UNBELIEVABLE! OBAMAâS ATTORNEY GENERAL SAYS ...</td>\n",
       "      <td>Now, most of the demonstrators gathered last ...</td>\n",
       "      <td>1</td>\n",
       "    </tr>\n",
       "    <tr>\n",
       "      <th>3</th>\n",
       "      <td>Bobby Jindal, raised Hindu, uses story of Chri...</td>\n",
       "      <td>A dozen politically active pastors came here f...</td>\n",
       "      <td>0</td>\n",
       "    </tr>\n",
       "    <tr>\n",
       "      <th>4</th>\n",
       "      <td>SATAN 2: Russia unvelis an image of its terrif...</td>\n",
       "      <td>The RS-28 Sarmat missile, dubbed Satan 2, will...</td>\n",
       "      <td>1</td>\n",
       "    </tr>\n",
       "    <tr>\n",
       "      <th>5</th>\n",
       "      <td>About Time! Christian Group Sues Amazon and SP...</td>\n",
       "      <td>All we can say on this one is it s about time ...</td>\n",
       "      <td>1</td>\n",
       "    </tr>\n",
       "  </tbody>\n",
       "</table>\n",
       "</div>"
      ],
      "text/plain": [
       "                                               title  \\\n",
       "0  LAW ENFORCEMENT ON HIGH ALERT Following Threat...   \n",
       "2  UNBELIEVABLE! OBAMAâS ATTORNEY GENERAL SAYS ...   \n",
       "3  Bobby Jindal, raised Hindu, uses story of Chri...   \n",
       "4  SATAN 2: Russia unvelis an image of its terrif...   \n",
       "5  About Time! Christian Group Sues Amazon and SP...   \n",
       "\n",
       "                                                text  label  \n",
       "0  No comment is expected from Barack Obama Membe...      1  \n",
       "2   Now, most of the demonstrators gathered last ...      1  \n",
       "3  A dozen politically active pastors came here f...      0  \n",
       "4  The RS-28 Sarmat missile, dubbed Satan 2, will...      1  \n",
       "5  All we can say on this one is it s about time ...      1  "
      ]
     },
     "execution_count": 171,
     "metadata": {},
     "output_type": "execute_result"
    }
   ],
   "source": [
    "df.head()"
   ]
  },
  {
   "cell_type": "code",
   "execution_count": 172,
   "id": "6270bab8",
   "metadata": {
    "scrolled": false
   },
   "outputs": [
    {
     "data": {
      "text/html": [
       "<div>\n",
       "<style scoped>\n",
       "    .dataframe tbody tr th:only-of-type {\n",
       "        vertical-align: middle;\n",
       "    }\n",
       "\n",
       "    .dataframe tbody tr th {\n",
       "        vertical-align: top;\n",
       "    }\n",
       "\n",
       "    .dataframe thead th {\n",
       "        text-align: right;\n",
       "    }\n",
       "</style>\n",
       "<table border=\"1\" class=\"dataframe\">\n",
       "  <thead>\n",
       "    <tr style=\"text-align: right;\">\n",
       "      <th></th>\n",
       "      <th>text</th>\n",
       "      <th>label</th>\n",
       "    </tr>\n",
       "  </thead>\n",
       "  <tbody>\n",
       "    <tr>\n",
       "      <th>0</th>\n",
       "      <td>No comment is expected from Barack Obama Membe...</td>\n",
       "      <td>1</td>\n",
       "    </tr>\n",
       "    <tr>\n",
       "      <th>2</th>\n",
       "      <td>Now, most of the demonstrators gathered last ...</td>\n",
       "      <td>1</td>\n",
       "    </tr>\n",
       "    <tr>\n",
       "      <th>3</th>\n",
       "      <td>A dozen politically active pastors came here f...</td>\n",
       "      <td>0</td>\n",
       "    </tr>\n",
       "    <tr>\n",
       "      <th>4</th>\n",
       "      <td>The RS-28 Sarmat missile, dubbed Satan 2, will...</td>\n",
       "      <td>1</td>\n",
       "    </tr>\n",
       "    <tr>\n",
       "      <th>5</th>\n",
       "      <td>All we can say on this one is it s about time ...</td>\n",
       "      <td>1</td>\n",
       "    </tr>\n",
       "  </tbody>\n",
       "</table>\n",
       "</div>"
      ],
      "text/plain": [
       "                                                text  label\n",
       "0  No comment is expected from Barack Obama Membe...      1\n",
       "2   Now, most of the demonstrators gathered last ...      1\n",
       "3  A dozen politically active pastors came here f...      0\n",
       "4  The RS-28 Sarmat missile, dubbed Satan 2, will...      1\n",
       "5  All we can say on this one is it s about time ...      1"
      ]
     },
     "execution_count": 172,
     "metadata": {},
     "output_type": "execute_result"
    }
   ],
   "source": [
    "df1 = df.drop(columns=['title'])\n",
    "df1.head()"
   ]
  },
  {
   "cell_type": "code",
   "execution_count": 173,
   "id": "f192f651",
   "metadata": {
    "scrolled": true
   },
   "outputs": [
    {
     "data": {
      "text/plain": [
       "0    No comment is expected from Barack Obama Membe...\n",
       "2     Now, most of the demonstrators gathered last ...\n",
       "3    A dozen politically active pastors came here f...\n",
       "4    The RS-28 Sarmat missile, dubbed Satan 2, will...\n",
       "5    All we can say on this one is it s about time ...\n",
       "Name: text, dtype: object"
      ]
     },
     "execution_count": 173,
     "metadata": {},
     "output_type": "execute_result"
    }
   ],
   "source": [
    "df1['text'].head()"
   ]
  },
  {
   "cell_type": "code",
   "execution_count": 175,
   "id": "b6ed966b",
   "metadata": {},
   "outputs": [],
   "source": [
    "df1['text'] = df1['text'].apply(lambda x: x.encode(\"latin-1\").decode(\"ascii\",\"ignore\"))"
   ]
  },
  {
   "cell_type": "markdown",
   "id": "0d8c53ed",
   "metadata": {},
   "source": [
    "### Split into train/validation/test is fast_ml package"
   ]
  },
  {
   "cell_type": "code",
   "execution_count": 177,
   "id": "fca011d5",
   "metadata": {
    "scrolled": true
   },
   "outputs": [
    {
     "name": "stdout",
     "output_type": "stream",
     "text": [
      "Labels sizes of train, validation, test: 57229 7154 7154\n",
      "Samples sizes of train, validation, test: 57229 7154 7154\n"
     ]
    }
   ],
   "source": [
    "train_samples, train_labels, val_samples, val_labels, test_samples, test_labels = train_valid_test_split(df1, target = 'label', \n",
    "                                                                            train_size=0.8, valid_size=0.1, test_size=0.1)\n",
    "\n",
    "print('Labels sizes of train, validation, test:', len(train_labels), len(val_labels), len(test_labels))\n",
    "print('Samples sizes of train, validation, test:', len(train_samples), len(val_samples), len(test_samples))"
   ]
  },
  {
   "cell_type": "code",
   "execution_count": 178,
   "id": "efe1df9c",
   "metadata": {
    "scrolled": true
   },
   "outputs": [
    {
     "data": {
      "text/plain": [
       "(57229, 1)"
      ]
     },
     "execution_count": 178,
     "metadata": {},
     "output_type": "execute_result"
    }
   ],
   "source": [
    "train_samples.shape"
   ]
  },
  {
   "cell_type": "code",
   "execution_count": 179,
   "id": "59f22f18",
   "metadata": {},
   "outputs": [
    {
     "data": {
      "text/plain": [
       "(57229,)"
      ]
     },
     "execution_count": 179,
     "metadata": {},
     "output_type": "execute_result"
    }
   ],
   "source": [
    "train_labels.shape"
   ]
  },
  {
   "cell_type": "markdown",
   "id": "da073bc2",
   "metadata": {},
   "source": [
    "**Set up the vectorizer**\n",
    "\n",
    "    - Use Keras's TextVectorization() function to vectorize the data, using only the top 20K words. Each sample will be truncated or padded to a length of 200"
   ]
  },
  {
   "cell_type": "code",
   "execution_count": 153,
   "id": "b11e16f1",
   "metadata": {},
   "outputs": [],
   "source": [
    "from tensorflow.keras.layers.experimental.preprocessing import TextVectorization\n",
    "\n",
    "vectorizer = TextVectorization(max_tokens=20000, output_sequence_length=200)\n",
    "text_ds = tf.data.Dataset.from_tensor_slices(train_samples).batch(128)\n",
    "vectorizer.adapt(text_ds)"
   ]
  },
  {
   "cell_type": "code",
   "execution_count": 155,
   "id": "003db9a8",
   "metadata": {
    "scrolled": false
   },
   "outputs": [],
   "source": [
    "# create a word index dictionary in which words map to indices\n",
    "voc = vectorizer.get_vocabulary()\n",
    "word_index = dict(zip(voc, range(len(voc))))"
   ]
  },
  {
   "cell_type": "code",
   "execution_count": 156,
   "id": "9afd2896",
   "metadata": {},
   "outputs": [
    {
     "data": {
      "text/plain": [
       "20000"
      ]
     },
     "execution_count": 156,
     "metadata": {},
     "output_type": "execute_result"
    }
   ],
   "source": [
    "len(word_index)"
   ]
  },
  {
   "cell_type": "markdown",
   "id": "22c2d1e0",
   "metadata": {},
   "source": [
    "### Building the model:\n",
    "\n",
    "    - The model will included:\n",
    "            \n",
    "                - Several layers of Conv1D followed by pooling.\n",
    "                - Ending in a softmax classification layer.\n",
    "                - Instead of the usual Keras syntax, this example uses syntax from the Functional API:"
   ]
  },
  {
   "cell_type": "markdown",
   "id": "324af097",
   "metadata": {},
   "source": [
    "**Set up the embedding layer**"
   ]
  },
  {
   "cell_type": "code",
   "execution_count": 157,
   "id": "93ec21f9",
   "metadata": {},
   "outputs": [],
   "source": [
    "EMBEDDING_DIM = 128\n",
    "MAX_SEQUENCE_LENGTH = 200\n",
    "\n",
    "embedding_layer = layers.Embedding(len(word_index) + 1,\n",
    "                            EMBEDDING_DIM,\n",
    "                            input_length=MAX_SEQUENCE_LENGTH)"
   ]
  },
  {
   "cell_type": "markdown",
   "id": "dd9c8b22",
   "metadata": {},
   "source": [
    "**Building model using syntax from the Functional API**"
   ]
  },
  {
   "cell_type": "code",
   "execution_count": 158,
   "id": "7af0df60",
   "metadata": {},
   "outputs": [
    {
     "name": "stdout",
     "output_type": "stream",
     "text": [
      "Model: \"model_1\"\n",
      "_________________________________________________________________\n",
      " Layer (type)                Output Shape              Param #   \n",
      "=================================================================\n",
      " input_2 (InputLayer)        [(None, None)]            0         \n",
      "                                                                 \n",
      " embedding_3 (Embedding)     (None, None, 128)         2560128   \n",
      "                                                                 \n",
      " conv1d_5 (Conv1D)           (None, None, 128)         82048     \n",
      "                                                                 \n",
      " max_pooling1d_3 (MaxPooling  (None, None, 128)        0         \n",
      " 1D)                                                             \n",
      "                                                                 \n",
      " conv1d_6 (Conv1D)           (None, None, 128)         82048     \n",
      "                                                                 \n",
      " max_pooling1d_4 (MaxPooling  (None, None, 128)        0         \n",
      " 1D)                                                             \n",
      "                                                                 \n",
      " conv1d_7 (Conv1D)           (None, None, 128)         82048     \n",
      "                                                                 \n",
      " global_max_pooling1d_2 (Glo  (None, 128)              0         \n",
      " balMaxPooling1D)                                                \n",
      "                                                                 \n",
      " dense_6 (Dense)             (None, 128)               16512     \n",
      "                                                                 \n",
      " dropout_1 (Dropout)         (None, 128)               0         \n",
      "                                                                 \n",
      " dense_7 (Dense)             (None, 2)                 258       \n",
      "                                                                 \n",
      "=================================================================\n",
      "Total params: 2,823,042\n",
      "Trainable params: 2,823,042\n",
      "Non-trainable params: 0\n",
      "_________________________________________________________________\n"
     ]
    }
   ],
   "source": [
    "# add more layers\n",
    "\n",
    "int_sequences_input = keras.Input(shape=(None,), dtype=\"int64\")\n",
    "embedded_sequences = embedding_layer(int_sequences_input)\n",
    "x = layers.Conv1D(128, 5, activation=\"relu\")(embedded_sequences)\n",
    "x = layers.MaxPooling1D(5)(x)\n",
    "x = layers.Conv1D(128, 5, activation=\"relu\")(x)\n",
    "x = layers.MaxPooling1D(5)(x)\n",
    "x = layers.Conv1D(128, 5, activation=\"relu\")(x)\n",
    "x = layers.GlobalMaxPooling1D()(x)\n",
    "x = layers.Dense(128, activation=\"relu\")(x)\n",
    "x = layers.Dropout(0.5)(x)\n",
    "preds = layers.Dense(2, activation=\"softmax\")(x)\n",
    "model = keras.Model(int_sequences_input, preds)\n",
    "model.summary()"
   ]
  },
  {
   "cell_type": "markdown",
   "id": "1e3b6f96",
   "metadata": {},
   "source": [
    "**Vectorize train and validation sets**\n",
    "\n",
    "    - Vectorizer the data to right-pad the samples"
   ]
  },
  {
   "cell_type": "code",
   "execution_count": 164,
   "id": "07e631c4",
   "metadata": {
    "scrolled": true
   },
   "outputs": [
    {
     "name": "stdout",
     "output_type": "stream",
     "text": [
      "Size of train sample before padding: 57229\n",
      "Size of train label before padding: 57229\n"
     ]
    }
   ],
   "source": [
    "print('Size of train sample before padding:', len(train_samples))\n",
    "print('Size of train label before padding:', len(train_labels))"
   ]
  },
  {
   "cell_type": "code",
   "execution_count": 166,
   "id": "21862b40",
   "metadata": {
    "scrolled": false
   },
   "outputs": [
    {
     "data": {
      "text/html": [
       "<div>\n",
       "<style scoped>\n",
       "    .dataframe tbody tr th:only-of-type {\n",
       "        vertical-align: middle;\n",
       "    }\n",
       "\n",
       "    .dataframe tbody tr th {\n",
       "        vertical-align: top;\n",
       "    }\n",
       "\n",
       "    .dataframe thead th {\n",
       "        text-align: right;\n",
       "    }\n",
       "</style>\n",
       "<table border=\"1\" class=\"dataframe\">\n",
       "  <thead>\n",
       "    <tr style=\"text-align: right;\">\n",
       "      <th></th>\n",
       "      <th>text</th>\n",
       "    </tr>\n",
       "  </thead>\n",
       "  <tbody>\n",
       "    <tr>\n",
       "      <th>34090</th>\n",
       "      <td>Report: Friend Has Been Going By Middle Name T...</td>\n",
       "    </tr>\n",
       "    <tr>\n",
       "      <th>38845</th>\n",
       "      <td>A Kansas City man was released after serving 1...</td>\n",
       "    </tr>\n",
       "    <tr>\n",
       "      <th>54969</th>\n",
       "      <td>We know that SS disability is full of fraud in...</td>\n",
       "    </tr>\n",
       "    <tr>\n",
       "      <th>1098</th>\n",
       "      <td>SEOUL (Reuters) - Japan said on Wednesday any ...</td>\n",
       "    </tr>\n",
       "    <tr>\n",
       "      <th>39751</th>\n",
       "      <td>Here s a special public service announcement c...</td>\n",
       "    </tr>\n",
       "  </tbody>\n",
       "</table>\n",
       "</div>"
      ],
      "text/plain": [
       "                                                    text\n",
       "34090  Report: Friend Has Been Going By Middle Name T...\n",
       "38845  A Kansas City man was released after serving 1...\n",
       "54969  We know that SS disability is full of fraud in...\n",
       "1098   SEOUL (Reuters) - Japan said on Wednesday any ...\n",
       "39751  Here s a special public service announcement c..."
      ]
     },
     "execution_count": 166,
     "metadata": {},
     "output_type": "execute_result"
    }
   ],
   "source": [
    "train_samples.head()"
   ]
  },
  {
   "cell_type": "code",
   "execution_count": 170,
   "id": "c2005a75",
   "metadata": {},
   "outputs": [
    {
     "data": {
      "text/plain": [
       "pandas.core.frame.DataFrame"
      ]
     },
     "execution_count": 170,
     "metadata": {},
     "output_type": "execute_result"
    }
   ],
   "source": [
    "type(train_samples)"
   ]
  },
  {
   "cell_type": "code",
   "execution_count": 169,
   "id": "d7a0c3fc",
   "metadata": {},
   "outputs": [
    {
     "data": {
      "text/plain": [
       "1"
      ]
     },
     "execution_count": 169,
     "metadata": {},
     "output_type": "execute_result"
    }
   ],
   "source": [
    "az = np.array([[s] for s in train_samples])\n",
    "len(az)"
   ]
  },
  {
   "cell_type": "code",
   "execution_count": 159,
   "id": "ce47a013",
   "metadata": {},
   "outputs": [],
   "source": [
    "x_train = vectorizer(np.array([[s] for s in train_samples])).numpy()\n",
    "x_val = vectorizer(np.array([[s] for s in val_samples])).numpy()\n",
    "\n",
    "y_train = np.array(train_labels)\n",
    "y_val = np.array(val_labels)"
   ]
  },
  {
   "cell_type": "code",
   "execution_count": 162,
   "id": "e7e92bd1",
   "metadata": {},
   "outputs": [
    {
     "name": "stdout",
     "output_type": "stream",
     "text": [
      "Size of train sample after padding: 1\n",
      "Size of train label after padding: 57229\n"
     ]
    }
   ],
   "source": [
    "print('Size of train sample after padding:', len(x_train))\n",
    "print('Size of train label after padding:', len(y_train))"
   ]
  },
  {
   "cell_type": "markdown",
   "id": "467eddcd",
   "metadata": {},
   "source": [
    "**Train the embedded layer model**\n",
    "\n",
    "    - Binary_crossentropy is used because the final layer is have only either 0 or 1."
   ]
  },
  {
   "cell_type": "code",
   "execution_count": 160,
   "id": "1a7e1a37",
   "metadata": {},
   "outputs": [
    {
     "ename": "ValueError",
     "evalue": "Data cardinality is ambiguous:\n  x sizes: 1\n  y sizes: 57229\nMake sure all arrays contain the same number of samples.",
     "output_type": "error",
     "traceback": [
      "\u001b[1;31m---------------------------------------------------------------------------\u001b[0m",
      "\u001b[1;31mValueError\u001b[0m                                Traceback (most recent call last)",
      "Input \u001b[1;32mIn [160]\u001b[0m, in \u001b[0;36m<cell line: 4>\u001b[1;34m()\u001b[0m\n\u001b[0;32m      1\u001b[0m model\u001b[38;5;241m.\u001b[39mcompile(\n\u001b[0;32m      2\u001b[0m     loss\u001b[38;5;241m=\u001b[39m\u001b[38;5;124m\"\u001b[39m\u001b[38;5;124m'\u001b[39m\u001b[38;5;124mbinary_crossentropy\u001b[39m\u001b[38;5;124m\"\u001b[39m, optimizer\u001b[38;5;241m=\u001b[39m\u001b[38;5;124m\"\u001b[39m\u001b[38;5;124mrmsprop\u001b[39m\u001b[38;5;124m\"\u001b[39m, metrics\u001b[38;5;241m=\u001b[39m[\u001b[38;5;124m\"\u001b[39m\u001b[38;5;124macc\u001b[39m\u001b[38;5;124m\"\u001b[39m]\n\u001b[0;32m      3\u001b[0m )\n\u001b[1;32m----> 4\u001b[0m \u001b[43mmodel\u001b[49m\u001b[38;5;241;43m.\u001b[39;49m\u001b[43mfit\u001b[49m\u001b[43m(\u001b[49m\u001b[43mx_train\u001b[49m\u001b[43m,\u001b[49m\u001b[43m \u001b[49m\u001b[43my_train\u001b[49m\u001b[43m,\u001b[49m\u001b[43m \u001b[49m\u001b[43mbatch_size\u001b[49m\u001b[38;5;241;43m=\u001b[39;49m\u001b[38;5;241;43m128\u001b[39;49m\u001b[43m,\u001b[49m\u001b[43m \u001b[49m\u001b[43mepochs\u001b[49m\u001b[38;5;241;43m=\u001b[39;49m\u001b[38;5;241;43m20\u001b[39;49m\u001b[43m,\u001b[49m\u001b[43m \u001b[49m\u001b[43mvalidation_data\u001b[49m\u001b[38;5;241;43m=\u001b[39;49m\u001b[43m(\u001b[49m\u001b[43mx_val\u001b[49m\u001b[43m,\u001b[49m\u001b[43m \u001b[49m\u001b[43my_val\u001b[49m\u001b[43m)\u001b[49m\u001b[43m)\u001b[49m\n",
      "File \u001b[1;32m~\\AppData\\Local\\Programs\\Python\\Python310\\lib\\site-packages\\keras\\utils\\traceback_utils.py:70\u001b[0m, in \u001b[0;36mfilter_traceback.<locals>.error_handler\u001b[1;34m(*args, **kwargs)\u001b[0m\n\u001b[0;32m     67\u001b[0m     filtered_tb \u001b[38;5;241m=\u001b[39m _process_traceback_frames(e\u001b[38;5;241m.\u001b[39m__traceback__)\n\u001b[0;32m     68\u001b[0m     \u001b[38;5;66;03m# To get the full stack trace, call:\u001b[39;00m\n\u001b[0;32m     69\u001b[0m     \u001b[38;5;66;03m# `tf.debugging.disable_traceback_filtering()`\u001b[39;00m\n\u001b[1;32m---> 70\u001b[0m     \u001b[38;5;28;01mraise\u001b[39;00m e\u001b[38;5;241m.\u001b[39mwith_traceback(filtered_tb) \u001b[38;5;28;01mfrom\u001b[39;00m \u001b[38;5;28mNone\u001b[39m\n\u001b[0;32m     71\u001b[0m \u001b[38;5;28;01mfinally\u001b[39;00m:\n\u001b[0;32m     72\u001b[0m     \u001b[38;5;28;01mdel\u001b[39;00m filtered_tb\n",
      "File \u001b[1;32m~\\AppData\\Local\\Programs\\Python\\Python310\\lib\\site-packages\\keras\\engine\\data_adapter.py:1851\u001b[0m, in \u001b[0;36m_check_data_cardinality\u001b[1;34m(data)\u001b[0m\n\u001b[0;32m   1844\u001b[0m     msg \u001b[38;5;241m+\u001b[39m\u001b[38;5;241m=\u001b[39m \u001b[38;5;124m\"\u001b[39m\u001b[38;5;124m  \u001b[39m\u001b[38;5;132;01m{}\u001b[39;00m\u001b[38;5;124m sizes: \u001b[39m\u001b[38;5;132;01m{}\u001b[39;00m\u001b[38;5;130;01m\\n\u001b[39;00m\u001b[38;5;124m\"\u001b[39m\u001b[38;5;241m.\u001b[39mformat(\n\u001b[0;32m   1845\u001b[0m         label,\n\u001b[0;32m   1846\u001b[0m         \u001b[38;5;124m\"\u001b[39m\u001b[38;5;124m, \u001b[39m\u001b[38;5;124m\"\u001b[39m\u001b[38;5;241m.\u001b[39mjoin(\n\u001b[0;32m   1847\u001b[0m             \u001b[38;5;28mstr\u001b[39m(i\u001b[38;5;241m.\u001b[39mshape[\u001b[38;5;241m0\u001b[39m]) \u001b[38;5;28;01mfor\u001b[39;00m i \u001b[38;5;129;01min\u001b[39;00m tf\u001b[38;5;241m.\u001b[39mnest\u001b[38;5;241m.\u001b[39mflatten(single_data)\n\u001b[0;32m   1848\u001b[0m         ),\n\u001b[0;32m   1849\u001b[0m     )\n\u001b[0;32m   1850\u001b[0m msg \u001b[38;5;241m+\u001b[39m\u001b[38;5;241m=\u001b[39m \u001b[38;5;124m\"\u001b[39m\u001b[38;5;124mMake sure all arrays contain the same number of samples.\u001b[39m\u001b[38;5;124m\"\u001b[39m\n\u001b[1;32m-> 1851\u001b[0m \u001b[38;5;28;01mraise\u001b[39;00m \u001b[38;5;167;01mValueError\u001b[39;00m(msg)\n",
      "\u001b[1;31mValueError\u001b[0m: Data cardinality is ambiguous:\n  x sizes: 1\n  y sizes: 57229\nMake sure all arrays contain the same number of samples."
     ]
    }
   ],
   "source": [
    "model.compile(\n",
    "    loss=\"'binary_crossentropy\", optimizer=\"rmsprop\", metrics=[\"acc\"]\n",
    ")\n",
    "model.fit(x_train, y_train, batch_size=128, epochs=20, validation_data=(x_val, y_val))"
   ]
  }
 ],
 "metadata": {
  "kernelspec": {
   "display_name": "Python 3 (ipykernel)",
   "language": "python",
   "name": "python3"
  },
  "language_info": {
   "codemirror_mode": {
    "name": "ipython",
    "version": 3
   },
   "file_extension": ".py",
   "mimetype": "text/x-python",
   "name": "python",
   "nbconvert_exporter": "python",
   "pygments_lexer": "ipython3",
   "version": "3.10.4"
  }
 },
 "nbformat": 4,
 "nbformat_minor": 5
}
