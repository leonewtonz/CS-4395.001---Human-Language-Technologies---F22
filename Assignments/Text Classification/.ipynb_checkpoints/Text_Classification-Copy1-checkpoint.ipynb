{
 "cells": [
  {
   "cell_type": "markdown",
   "id": "133355dc",
   "metadata": {},
   "source": [
    "# Text Classicaition"
   ]
  },
  {
   "cell_type": "markdown",
   "id": "30434104",
   "metadata": {},
   "source": [
    "**CS 4395 - Intro to NLP**\n",
    "\n",
    "**Dr. Karen Mazidi**\n",
    "\n",
    "**Prepare by Leo Nguyen - ldn190002**"
   ]
  },
  {
   "cell_type": "markdown",
   "id": "0bca57b1",
   "metadata": {},
   "source": [
    "### Instruction 1\n",
    "\n",
    "    - Find a text classification data set that interests you. \n",
    "    - Divide into train/test\n",
    "    - Create a graph showing the distribution of the target classes.\n",
    "    - Describe the data set and what the model should be able to predict."
   ]
  },
  {
   "cell_type": "markdown",
   "id": "66f3e115",
   "metadata": {},
   "source": [
    "Import all require modules an packages\n"
   ]
  },
  {
   "cell_type": "code",
   "execution_count": 1,
   "id": "41f1c2e0",
   "metadata": {},
   "outputs": [],
   "source": [
    "# some necessary packages\n",
    "import tensorflow as tf\n",
    "from tensorflow.keras.preprocessing.text import Tokenizer\n",
    "from tensorflow.keras import layers, models\n",
    "\n",
    "from sklearn.preprocessing import LabelEncoder\n",
    "import pickle\n",
    "import numpy as np\n",
    "import pandas as pd\n",
    "import seaborn as sb\n",
    "\n",
    "# set seed for reproducibility\n",
    "np.random.seed(1234)"
   ]
  },
  {
   "cell_type": "markdown",
   "id": "6e970fa7",
   "metadata": {},
   "source": [
    "Read the dataset. Only read the: title, text and lable. Ignore the index column in the cvs file"
   ]
  },
  {
   "cell_type": "code",
   "execution_count": 2,
   "id": "8f40a962",
   "metadata": {
    "scrolled": true
   },
   "outputs": [
    {
     "name": "stdout",
     "output_type": "stream",
     "text": [
      "rows and columns: (72134, 3)\n",
      "                                               title  \\\n",
      "0  LAW ENFORCEMENT ON HIGH ALERT Following Threat...   \n",
      "1                                                NaN   \n",
      "2  UNBELIEVABLE! OBAMAâS ATTORNEY GENERAL SAYS ...   \n",
      "3  Bobby Jindal, raised Hindu, uses story of Chri...   \n",
      "4  SATAN 2: Russia unvelis an image of its terrif...   \n",
      "\n",
      "                                                text  label  \n",
      "0  No comment is expected from Barack Obama Membe...      1  \n",
      "1     Did they post their votes for Hillary already?      1  \n",
      "2   Now, most of the demonstrators gathered last ...      1  \n",
      "3  A dozen politically active pastors came here f...      0  \n",
      "4  The RS-28 Sarmat missile, dubbed Satan 2, will...      1  \n"
     ]
    }
   ],
   "source": [
    "df = pd.read_csv('WELFake_Dataset.csv', header=0, usecols=[1,2,3], encoding='latin-1')\n",
    "print('rows and columns:', df.shape)\n",
    "print(df.head())"
   ]
  },
  {
   "cell_type": "markdown",
   "id": "d8264855",
   "metadata": {},
   "source": [
    "Check the NAs value in entire dataset. Show counts for each column"
   ]
  },
  {
   "cell_type": "code",
   "execution_count": 3,
   "id": "a196c2f6",
   "metadata": {},
   "outputs": [
    {
     "data": {
      "text/plain": [
       "title    558\n",
       "text      39\n",
       "label      0\n",
       "dtype: int64"
      ]
     },
     "execution_count": 3,
     "metadata": {},
     "output_type": "execute_result"
    }
   ],
   "source": [
    "df.isnull().sum()"
   ]
  },
  {
   "cell_type": "markdown",
   "id": "09f95801",
   "metadata": {},
   "source": [
    "**Do some clean up on dataset**\n"
   ]
  },
  {
   "cell_type": "markdown",
   "id": "c69fc3c8",
   "metadata": {},
   "source": [
    "Delete rows with NAs. And output the new dimension"
   ]
  },
  {
   "cell_type": "code",
   "execution_count": 4,
   "id": "d81201e2",
   "metadata": {
    "scrolled": true
   },
   "outputs": [
    {
     "name": "stdout",
     "output_type": "stream",
     "text": [
      "\n",
      "Dimensions of data frame: (71537, 3)\n"
     ]
    }
   ],
   "source": [
    "df = df.dropna()\n",
    "print('\\nDimensions of data frame:', df.shape)"
   ]
  },
  {
   "cell_type": "markdown",
   "id": "ec08a4b9",
   "metadata": {},
   "source": [
    "**Divide into train/test**"
   ]
  },
  {
   "cell_type": "code",
   "execution_count": 5,
   "id": "08470d8e",
   "metadata": {},
   "outputs": [
    {
     "name": "stdout",
     "output_type": "stream",
     "text": [
      "train data size:  (57199, 3)\n",
      "test data size:  (14338, 3)\n"
     ]
    }
   ],
   "source": [
    "# split df into train and test\n",
    "i = np.random.rand(len(df)) < 0.8\n",
    "train = df[i]\n",
    "test = df[~i]\n",
    "print(\"train data size: \", train.shape)\n",
    "print(\"test data size: \", test.shape)"
   ]
  },
  {
   "cell_type": "markdown",
   "id": "1fc596b3",
   "metadata": {},
   "source": [
    "**Graph showing the distribution of the target classes for entire dataset**"
   ]
  },
  {
   "cell_type": "markdown",
   "id": "d3b37d34",
   "metadata": {},
   "source": [
    "The target class is the **label** column which classify which news is real, which is fake.\n",
    "\n",
    "Based on the graph, we can see that, we have almost equal amount of fake news and real news on the dataset.\n",
    "\n",
    "Label (0 = fake and 1 = real)."
   ]
  },
  {
   "cell_type": "code",
   "execution_count": 6,
   "id": "c13d57e5",
   "metadata": {},
   "outputs": [
    {
     "data": {
      "text/plain": [
       "<seaborn.axisgrid.FacetGrid at 0x297862ab550>"
      ]
     },
     "execution_count": 6,
     "metadata": {},
     "output_type": "execute_result"
    },
    {
     "data": {
      "image/png": "[encoded data removed]",
      "text/plain": [
       "<Figure size 500x500 with 1 Axes>"
      ]
     },
     "metadata": {},
     "output_type": "display_data"
    }
   ],
   "source": [
    "sb.catplot(data=df, x=\"label\", kind='count').set(title='Distribution of Fake - 0 /Real - 1 News')"
   ]
  },
  {
   "cell_type": "markdown",
   "id": "f3d05f7a",
   "metadata": {},
   "source": [
    "**Describe the data set and what the model should be able to predict.**"
   ]
  },
  {
   "cell_type": "markdown",
   "id": "dff71d6d",
   "metadata": {},
   "source": [
    "    -The dataset contains of 72,134 news articles with 35,028 real and 37,106 fake news. The dataset was merged from four popular news datasets: Kaggle, McIntire, Reuters, BuzzFeed Political to prevent over-fitting of classifiers and to provide more text data for better ML training.\n",
    "\n",
    "    -Dataset contains four columns: Serial number (starting from 0); Title (about the text news heading); Text (about the news content); and Label (0 = fake and 1 = real).\n",
    "\n",
    "    -However there is some NAs value inside the original dataset. After cleaning (Remove NAs value). The number of articles was reduce from 72,134 to 71,537.\n",
    "\n",
    "    -Cleaned dataset is divided into train/test (80/20). Then use the train set to build the model to predict which articles is real, which is fake. (0 = fake and 1 = real). \n",
    "\n",
    "    -We only use text column as the predictor for the models"
   ]
  },
  {
   "cell_type": "markdown",
   "id": "f0470952",
   "metadata": {},
   "source": [
    "### Intruction 2\n",
    "\n",
    "    - Create a sequential model\n",
    "    - Evaluate on the test data"
   ]
  },
  {
   "cell_type": "code",
   "execution_count": 7,
   "id": "e0bdfd7f",
   "metadata": {},
   "outputs": [
    {
     "data": {
      "text/html": [
       "<div>\n",
       "<style scoped>\n",
       "    .dataframe tbody tr th:only-of-type {\n",
       "        vertical-align: middle;\n",
       "    }\n",
       "\n",
       "    .dataframe tbody tr th {\n",
       "        vertical-align: top;\n",
       "    }\n",
       "\n",
       "    .dataframe thead th {\n",
       "        text-align: right;\n",
       "    }\n",
       "</style>\n",
       "<table border=\"1\" class=\"dataframe\">\n",
       "  <thead>\n",
       "    <tr style=\"text-align: right;\">\n",
       "      <th></th>\n",
       "      <th>title</th>\n",
       "      <th>text</th>\n",
       "      <th>label</th>\n",
       "    </tr>\n",
       "  </thead>\n",
       "  <tbody>\n",
       "    <tr>\n",
       "      <th>0</th>\n",
       "      <td>LAW ENFORCEMENT ON HIGH ALERT Following Threat...</td>\n",
       "      <td>No comment is expected from Barack Obama Membe...</td>\n",
       "      <td>1</td>\n",
       "    </tr>\n",
       "    <tr>\n",
       "      <th>2</th>\n",
       "      <td>UNBELIEVABLE! OBAMAâS ATTORNEY GENERAL SAYS ...</td>\n",
       "      <td>Now, most of the demonstrators gathered last ...</td>\n",
       "      <td>1</td>\n",
       "    </tr>\n",
       "    <tr>\n",
       "      <th>3</th>\n",
       "      <td>Bobby Jindal, raised Hindu, uses story of Chri...</td>\n",
       "      <td>A dozen politically active pastors came here f...</td>\n",
       "      <td>0</td>\n",
       "    </tr>\n",
       "    <tr>\n",
       "      <th>4</th>\n",
       "      <td>SATAN 2: Russia unvelis an image of its terrif...</td>\n",
       "      <td>The RS-28 Sarmat missile, dubbed Satan 2, will...</td>\n",
       "      <td>1</td>\n",
       "    </tr>\n",
       "    <tr>\n",
       "      <th>5</th>\n",
       "      <td>About Time! Christian Group Sues Amazon and SP...</td>\n",
       "      <td>All we can say on this one is it s about time ...</td>\n",
       "      <td>1</td>\n",
       "    </tr>\n",
       "  </tbody>\n",
       "</table>\n",
       "</div>"
      ],
      "text/plain": [
       "                                               title  \\\n",
       "0  LAW ENFORCEMENT ON HIGH ALERT Following Threat...   \n",
       "2  UNBELIEVABLE! OBAMAâS ATTORNEY GENERAL SAYS ...   \n",
       "3  Bobby Jindal, raised Hindu, uses story of Chri...   \n",
       "4  SATAN 2: Russia unvelis an image of its terrif...   \n",
       "5  About Time! Christian Group Sues Amazon and SP...   \n",
       "\n",
       "                                                text  label  \n",
       "0  No comment is expected from Barack Obama Membe...      1  \n",
       "2   Now, most of the demonstrators gathered last ...      1  \n",
       "3  A dozen politically active pastors came here f...      0  \n",
       "4  The RS-28 Sarmat missile, dubbed Satan 2, will...      1  \n",
       "5  All we can say on this one is it s about time ...      1  "
      ]
     },
     "execution_count": 7,
     "metadata": {},
     "output_type": "execute_result"
    }
   ],
   "source": [
    "df.head()"
   ]
  },
  {
   "cell_type": "markdown",
   "id": "2308b3a3",
   "metadata": {},
   "source": [
    "**Create a sequential model**"
   ]
  },
  {
   "cell_type": "code",
   "execution_count": null,
   "id": "3ef19986",
   "metadata": {},
   "outputs": [],
   "source": [
    "# set up X and Y\n",
    "num_labels = 2\n",
    "vocab_size = 25000\n",
    "batch_size = 100\n",
    "\n",
    "# fit the tokenizer on the training data\n",
    "tokenizer = Tokenizer(num_words=vocab_size)\n",
    "tokenizer.fit_on_texts(train.text)\n",
    "\n",
    "x_train = tokenizer.texts_to_matrix(train.text, mode='tfidf')\n",
    "x_test = tokenizer.texts_to_matrix(test.text, mode='tfidf')\n",
    "\n",
    "encoder = LabelEncoder()\n",
    "encoder.fit(train.lable)\n",
    "y_train = encoder.transform(train.lable)\n",
    "y_test = encoder.transform(test.lable)\n",
    "\n",
    "# check shape\n",
    "print(\"train shapes:\", x_train.shape, y_train.shape)\n",
    "print(\"test shapes:\", x_test.shape, y_test.shape)\n",
    "print(\"test first five labels:\", y_test[:5])"
   ]
  }
 ],
 "metadata": {
  "kernelspec": {
   "display_name": "Python 3 (ipykernel)",
   "language": "python",
   "name": "python3"
  },
  "language_info": {
   "codemirror_mode": {
    "name": "ipython",
    "version": 3
   },
   "file_extension": ".py",
   "mimetype": "text/x-python",
   "name": "python",
   "nbconvert_exporter": "python",
   "pygments_lexer": "ipython3",
   "version": "3.10.4"
  }
 },
 "nbformat": 4,
 "nbformat_minor": 5
}
