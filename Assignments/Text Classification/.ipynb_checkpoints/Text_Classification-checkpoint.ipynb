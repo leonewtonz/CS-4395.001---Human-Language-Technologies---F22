{
 "cells": [
  {
   "cell_type": "markdown",
   "id": "133355dc",
   "metadata": {},
   "source": [
    "# Text Classicaition"
   ]
  },
  {
   "cell_type": "markdown",
   "id": "30434104",
   "metadata": {},
   "source": [
    "**CS 4395 - Intro to NLP**\n",
    "\n",
    "**Dr. Karen Mazidi**\n",
    "\n",
    "**Prepare by Leo Nguyen - ldn190002**"
   ]
  },
  {
   "cell_type": "markdown",
   "id": "f6598cc7",
   "metadata": {},
   "source": [
    "### Instruction 1\n",
    "\n",
    "    - Find a text classification data set that interests you. \n",
    "    - Divide into train/test\n",
    "    - Create a graph showing the distribution of the target classes.\n",
    "    - Describe the data set and what the model should be able to predict."
   ]
  },
  {
   "cell_type": "markdown",
   "id": "66f3e115",
   "metadata": {},
   "source": [
    "Import all require modules an packages\n"
   ]
  },
  {
   "cell_type": "code",
   "execution_count": 1,
   "id": "41f1c2e0",
   "metadata": {},
   "outputs": [],
   "source": [
    "# some necessary packages\n",
    "import tensorflow as tf\n",
    "from tensorflow import keras\n",
    "from tensorflow.keras.preprocessing.text import Tokenizer\n",
    "from tensorflow.keras import datasets, layers, models, preprocessing\n",
    "\n",
    "from sklearn.preprocessing import LabelEncoder\n",
    "import pickle\n",
    "import numpy as np\n",
    "import pandas as pd\n",
    "import seaborn as sb\n",
    "from fast_ml.model_development import train_valid_test_split\n",
    "\n",
    "# set seed for reproducibility\n",
    "np.random.seed(1234)"
   ]
  },
  {
   "cell_type": "markdown",
   "id": "6e970fa7",
   "metadata": {},
   "source": [
    "Read the dataset. Only read the: title, text and lable. Ignore the index column in the cvs file"
   ]
  },
  {
   "cell_type": "code",
   "execution_count": 2,
   "id": "8f40a962",
   "metadata": {
    "scrolled": true
   },
   "outputs": [
    {
     "name": "stdout",
     "output_type": "stream",
     "text": [
      "rows and columns: (72134, 3)\n",
      "                                               title  \\\n",
      "0  LAW ENFORCEMENT ON HIGH ALERT Following Threat...   \n",
      "1                                                NaN   \n",
      "2  UNBELIEVABLE! OBAMAâS ATTORNEY GENERAL SAYS ...   \n",
      "3  Bobby Jindal, raised Hindu, uses story of Chri...   \n",
      "4  SATAN 2: Russia unvelis an image of its terrif...   \n",
      "\n",
      "                                                text  label  \n",
      "0  No comment is expected from Barack Obama Membe...      1  \n",
      "1     Did they post their votes for Hillary already?      1  \n",
      "2   Now, most of the demonstrators gathered last ...      1  \n",
      "3  A dozen politically active pastors came here f...      0  \n",
      "4  The RS-28 Sarmat missile, dubbed Satan 2, will...      1  \n"
     ]
    }
   ],
   "source": [
    "df = pd.read_csv('WELFake_Dataset.csv', header=0, usecols=[1,2,3], encoding='latin-1')\n",
    "print('rows and columns:', df.shape)\n",
    "print(df.head())"
   ]
  },
  {
   "cell_type": "markdown",
   "id": "4a59fd5c",
   "metadata": {},
   "source": [
    "Check the NAs value in entire dataset. Show counts for each column"
   ]
  },
  {
   "cell_type": "code",
   "execution_count": 3,
   "id": "b29fa6bc",
   "metadata": {},
   "outputs": [
    {
     "data": {
      "text/plain": [
       "title    558\n",
       "text      39\n",
       "label      0\n",
       "dtype: int64"
      ]
     },
     "execution_count": 3,
     "metadata": {},
     "output_type": "execute_result"
    }
   ],
   "source": [
    "df.isnull().sum()"
   ]
  },
  {
   "cell_type": "markdown",
   "id": "09f95801",
   "metadata": {},
   "source": [
    "**Do some clean up on dataset**\n"
   ]
  },
  {
   "cell_type": "markdown",
   "id": "f220aa99",
   "metadata": {},
   "source": [
    "Delete rows with NAs. And output the new dimension"
   ]
  },
  {
   "cell_type": "code",
   "execution_count": 4,
   "id": "159f5691",
   "metadata": {
    "scrolled": true
   },
   "outputs": [
    {
     "name": "stdout",
     "output_type": "stream",
     "text": [
      "\n",
      "Dimensions of data frame: (71537, 3)\n"
     ]
    }
   ],
   "source": [
    "df = df.dropna()\n",
    "print('\\nDimensions of data frame:', df.shape)"
   ]
  },
  {
   "cell_type": "markdown",
   "id": "c98f0a66",
   "metadata": {},
   "source": [
    "**Divide into train/test**"
   ]
  },
  {
   "cell_type": "code",
   "execution_count": 5,
   "id": "ee1af0eb",
   "metadata": {},
   "outputs": [
    {
     "name": "stdout",
     "output_type": "stream",
     "text": [
      "train data size:  (57199, 3)\n",
      "test data size:  (14338, 3)\n"
     ]
    }
   ],
   "source": [
    "# split df into train and test\n",
    "i = np.random.rand(len(df)) < 0.8\n",
    "train = df[i]\n",
    "test = df[~i]\n",
    "print(\"train data size: \", train.shape)\n",
    "print(\"test data size: \", test.shape)"
   ]
  },
  {
   "cell_type": "markdown",
   "id": "e4becb51",
   "metadata": {},
   "source": [
    "**Graph showing the distribution of the target classes for entire dataset**"
   ]
  },
  {
   "cell_type": "markdown",
   "id": "61306776",
   "metadata": {},
   "source": [
    "The target class is the **label** column which classify which news is real, which is fake.\n",
    "\n",
    "Based on the graph, we can see that, we have almost equal amount of fake news and real news on the dataset.\n",
    "\n",
    "Label (0 = fake and 1 = real)."
   ]
  },
  {
   "cell_type": "code",
   "execution_count": 6,
   "id": "13e22215",
   "metadata": {},
   "outputs": [
    {
     "data": {
      "text/plain": [
       "<seaborn.axisgrid.FacetGrid at 0x19d78eb5210>"
      ]
     },
     "execution_count": 6,
     "metadata": {},
     "output_type": "execute_result"
    },
    {
     "data": {
      "image/png": "[encoded data removed]",
      "text/plain": [
       "<Figure size 500x500 with 1 Axes>"
      ]
     },
     "metadata": {},
     "output_type": "display_data"
    }
   ],
   "source": [
    "sb.catplot(data=df, x=\"label\", kind='count').set(title='Distribution of Fake - 0 /Real - 1 News')"
   ]
  },
  {
   "cell_type": "markdown",
   "id": "15888f0f",
   "metadata": {},
   "source": [
    "**Describe the data set and what the model should be able to predict.**"
   ]
  },
  {
   "cell_type": "markdown",
   "id": "dd314716",
   "metadata": {},
   "source": [
    "    - Fake News Classification: https://www.kaggle.com/datasets/saurabhshahane/fake-news-classification\n",
    "    \n",
    "    - The dataset contains of 72,134 news articles with 35,028 real and 37,106 fake news. The dataset was merged from four popular news datasets: Kaggle, McIntire, Reuters, BuzzFeed Political to prevent over-fitting of classifiers and to provide more text data for better ML training.\n",
    "\n",
    "    - Dataset contains four columns: Serial number (starting from 0); Title (about the text news heading); Text (about the news content); and Label (0 = fake and 1 = real).\n",
    "\n",
    "    - However there is some NAs value inside the original dataset. After cleaning (Remove NAs value). The number of articles was reduce from 72,134 to 71,537.\n",
    "\n",
    "    - Cleaned dataset is divided into train/test (80/20). Then use the train set to build the model to predict which articles is real, which is fake. (0 = fake and 1 = real). \n",
    "    \n",
    "     - The models only use \"text\" column as a predictor to predict \"label\" columns. \n"
   ]
  },
  {
   "cell_type": "markdown",
   "id": "bdc324f7",
   "metadata": {},
   "source": [
    "### Intruction 2 - Sequential Model\n",
    "\n",
    "    - Create a sequential model\n",
    "    - Evaluate on the test data"
   ]
  },
  {
   "cell_type": "code",
   "execution_count": 7,
   "id": "30e5a758",
   "metadata": {},
   "outputs": [
    {
     "data": {
      "text/html": [
       "<div>\n",
       "<style scoped>\n",
       "    .dataframe tbody tr th:only-of-type {\n",
       "        vertical-align: middle;\n",
       "    }\n",
       "\n",
       "    .dataframe tbody tr th {\n",
       "        vertical-align: top;\n",
       "    }\n",
       "\n",
       "    .dataframe thead th {\n",
       "        text-align: right;\n",
       "    }\n",
       "</style>\n",
       "<table border=\"1\" class=\"dataframe\">\n",
       "  <thead>\n",
       "    <tr style=\"text-align: right;\">\n",
       "      <th></th>\n",
       "      <th>title</th>\n",
       "      <th>text</th>\n",
       "      <th>label</th>\n",
       "    </tr>\n",
       "  </thead>\n",
       "  <tbody>\n",
       "    <tr>\n",
       "      <th>0</th>\n",
       "      <td>LAW ENFORCEMENT ON HIGH ALERT Following Threat...</td>\n",
       "      <td>No comment is expected from Barack Obama Membe...</td>\n",
       "      <td>1</td>\n",
       "    </tr>\n",
       "    <tr>\n",
       "      <th>2</th>\n",
       "      <td>UNBELIEVABLE! OBAMAâS ATTORNEY GENERAL SAYS ...</td>\n",
       "      <td>Now, most of the demonstrators gathered last ...</td>\n",
       "      <td>1</td>\n",
       "    </tr>\n",
       "    <tr>\n",
       "      <th>3</th>\n",
       "      <td>Bobby Jindal, raised Hindu, uses story of Chri...</td>\n",
       "      <td>A dozen politically active pastors came here f...</td>\n",
       "      <td>0</td>\n",
       "    </tr>\n",
       "    <tr>\n",
       "      <th>4</th>\n",
       "      <td>SATAN 2: Russia unvelis an image of its terrif...</td>\n",
       "      <td>The RS-28 Sarmat missile, dubbed Satan 2, will...</td>\n",
       "      <td>1</td>\n",
       "    </tr>\n",
       "    <tr>\n",
       "      <th>5</th>\n",
       "      <td>About Time! Christian Group Sues Amazon and SP...</td>\n",
       "      <td>All we can say on this one is it s about time ...</td>\n",
       "      <td>1</td>\n",
       "    </tr>\n",
       "  </tbody>\n",
       "</table>\n",
       "</div>"
      ],
      "text/plain": [
       "                                               title  \\\n",
       "0  LAW ENFORCEMENT ON HIGH ALERT Following Threat...   \n",
       "2  UNBELIEVABLE! OBAMAâS ATTORNEY GENERAL SAYS ...   \n",
       "3  Bobby Jindal, raised Hindu, uses story of Chri...   \n",
       "4  SATAN 2: Russia unvelis an image of its terrif...   \n",
       "5  About Time! Christian Group Sues Amazon and SP...   \n",
       "\n",
       "                                                text  label  \n",
       "0  No comment is expected from Barack Obama Membe...      1  \n",
       "2   Now, most of the demonstrators gathered last ...      1  \n",
       "3  A dozen politically active pastors came here f...      0  \n",
       "4  The RS-28 Sarmat missile, dubbed Satan 2, will...      1  \n",
       "5  All we can say on this one is it s about time ...      1  "
      ]
     },
     "execution_count": 7,
     "metadata": {},
     "output_type": "execute_result"
    }
   ],
   "source": [
    "df.head()"
   ]
  },
  {
   "cell_type": "markdown",
   "id": "3e3986b3",
   "metadata": {},
   "source": [
    "**Create a sequential model**"
   ]
  },
  {
   "cell_type": "raw",
   "id": "06d983f9",
   "metadata": {},
   "source": [
    "Prepare the data before building model"
   ]
  },
  {
   "cell_type": "code",
   "execution_count": 8,
   "id": "f6202e57",
   "metadata": {},
   "outputs": [
    {
     "name": "stdout",
     "output_type": "stream",
     "text": [
      "train shapes: (57199, 25000) (57199,)\n",
      "test shapes: (14338, 25000) (14338,)\n",
      "test first five labels: [1 1 1 1 1]\n"
     ]
    }
   ],
   "source": [
    "# set up X and Y\n",
    "num_labels = 2\n",
    "vocab_size = 25000\n",
    "batch_size = 100\n",
    "\n",
    "# fit the tokenizer on the training data\n",
    "tokenizer = Tokenizer(num_words=vocab_size)\n",
    "tokenizer.fit_on_texts(train.text) # Only use text column as the predictor for the models\n",
    "\n",
    "x_train = tokenizer.texts_to_matrix(train.text, mode='tfidf')\n",
    "x_test = tokenizer.texts_to_matrix(test.text, mode='tfidf')\n",
    "\n",
    "encoder = LabelEncoder()\n",
    "encoder.fit(train.label)\n",
    "y_train = encoder.transform(train.label)\n",
    "y_test = encoder.transform(test.label)\n",
    "\n",
    "# check shape\n",
    "print(\"train shapes:\", x_train.shape, y_train.shape)\n",
    "print(\"test shapes:\", x_test.shape, y_test.shape)\n",
    "print(\"test first five labels:\", y_test[:5])"
   ]
  },
  {
   "cell_type": "markdown",
   "id": "57188e77",
   "metadata": {},
   "source": [
    "Build the model"
   ]
  },
  {
   "cell_type": "code",
   "execution_count": 9,
   "id": "145e1637",
   "metadata": {
    "scrolled": true
   },
   "outputs": [
    {
     "name": "stdout",
     "output_type": "stream",
     "text": [
      "Epoch 1/30\n",
      "515/515 [==============================] - 35s 63ms/step - loss: 0.1646 - accuracy: 0.9462 - val_loss: 0.0894 - val_accuracy: 0.9722\n",
      "Epoch 2/30\n",
      "515/515 [==============================] - 16s 31ms/step - loss: 0.0296 - accuracy: 0.9930 - val_loss: 0.0889 - val_accuracy: 0.9771\n",
      "Epoch 3/30\n",
      "515/515 [==============================] - 8s 15ms/step - loss: 0.0101 - accuracy: 0.9988 - val_loss: 0.0948 - val_accuracy: 0.9759\n",
      "Epoch 4/30\n",
      "515/515 [==============================] - 8s 15ms/step - loss: 0.0073 - accuracy: 0.9991 - val_loss: 0.1256 - val_accuracy: 0.9753\n",
      "Epoch 5/30\n",
      "515/515 [==============================] - 8s 15ms/step - loss: 0.0066 - accuracy: 0.9990 - val_loss: 0.1296 - val_accuracy: 0.9752\n",
      "Epoch 6/30\n",
      "515/515 [==============================] - 8s 15ms/step - loss: 0.0074 - accuracy: 0.9986 - val_loss: 0.1387 - val_accuracy: 0.9724\n",
      "Epoch 7/30\n",
      "515/515 [==============================] - 8s 15ms/step - loss: 0.0065 - accuracy: 0.9988 - val_loss: 0.1529 - val_accuracy: 0.9743\n",
      "Epoch 8/30\n",
      "515/515 [==============================] - 8s 15ms/step - loss: 0.0095 - accuracy: 0.9985 - val_loss: 0.1529 - val_accuracy: 0.9740\n",
      "Epoch 9/30\n",
      "515/515 [==============================] - 8s 15ms/step - loss: 0.0059 - accuracy: 0.9990 - val_loss: 0.1542 - val_accuracy: 0.9745\n",
      "Epoch 10/30\n",
      "515/515 [==============================] - 8s 15ms/step - loss: 0.0029 - accuracy: 0.9996 - val_loss: 0.1637 - val_accuracy: 0.9745\n",
      "Epoch 11/30\n",
      "515/515 [==============================] - 8s 15ms/step - loss: 0.0031 - accuracy: 0.9995 - val_loss: 0.1967 - val_accuracy: 0.9715\n",
      "Epoch 12/30\n",
      "515/515 [==============================] - 8s 15ms/step - loss: 0.0040 - accuracy: 0.9993 - val_loss: 0.1745 - val_accuracy: 0.9743\n",
      "Epoch 13/30\n",
      "515/515 [==============================] - 8s 15ms/step - loss: 0.0014 - accuracy: 0.9998 - val_loss: 0.1796 - val_accuracy: 0.9750\n",
      "Epoch 14/30\n",
      "515/515 [==============================] - 8s 15ms/step - loss: 9.5645e-04 - accuracy: 0.9999 - val_loss: 0.2068 - val_accuracy: 0.9726\n",
      "Epoch 15/30\n",
      "515/515 [==============================] - 8s 15ms/step - loss: 3.8724e-04 - accuracy: 1.0000 - val_loss: 0.2020 - val_accuracy: 0.9757\n",
      "Epoch 16/30\n",
      "515/515 [==============================] - 8s 15ms/step - loss: 3.1645e-04 - accuracy: 1.0000 - val_loss: 0.2115 - val_accuracy: 0.9752\n",
      "Epoch 17/30\n",
      "515/515 [==============================] - 8s 15ms/step - loss: 2.7281e-04 - accuracy: 1.0000 - val_loss: 0.2213 - val_accuracy: 0.9750\n",
      "Epoch 18/30\n",
      "515/515 [==============================] - 8s 15ms/step - loss: 2.3997e-04 - accuracy: 1.0000 - val_loss: 0.2313 - val_accuracy: 0.9752\n",
      "Epoch 19/30\n",
      "515/515 [==============================] - 8s 15ms/step - loss: 2.1521e-04 - accuracy: 1.0000 - val_loss: 0.2399 - val_accuracy: 0.9750\n",
      "Epoch 20/30\n",
      "515/515 [==============================] - 8s 15ms/step - loss: 1.9436e-04 - accuracy: 1.0000 - val_loss: 0.2496 - val_accuracy: 0.9748\n",
      "Epoch 21/30\n",
      "515/515 [==============================] - 8s 15ms/step - loss: 1.7862e-04 - accuracy: 1.0000 - val_loss: 0.2589 - val_accuracy: 0.9748\n",
      "Epoch 22/30\n",
      "515/515 [==============================] - 8s 16ms/step - loss: 1.6451e-04 - accuracy: 1.0000 - val_loss: 0.2679 - val_accuracy: 0.9747\n",
      "Epoch 23/30\n",
      "515/515 [==============================] - 8s 15ms/step - loss: 1.5245e-04 - accuracy: 1.0000 - val_loss: 0.2791 - val_accuracy: 0.9747\n",
      "Epoch 24/30\n",
      "515/515 [==============================] - 8s 15ms/step - loss: 1.4418e-04 - accuracy: 1.0000 - val_loss: 0.2900 - val_accuracy: 0.9748\n",
      "Epoch 25/30\n",
      "515/515 [==============================] - 8s 15ms/step - loss: 1.3509e-04 - accuracy: 1.0000 - val_loss: 0.2983 - val_accuracy: 0.9743\n",
      "Epoch 26/30\n",
      "515/515 [==============================] - 8s 15ms/step - loss: 1.2891e-04 - accuracy: 1.0000 - val_loss: 0.3089 - val_accuracy: 0.9745\n",
      "Epoch 27/30\n",
      "515/515 [==============================] - 8s 15ms/step - loss: 1.2458e-04 - accuracy: 1.0000 - val_loss: 0.3169 - val_accuracy: 0.9743\n",
      "Epoch 28/30\n",
      "515/515 [==============================] - 8s 15ms/step - loss: 1.1880e-04 - accuracy: 1.0000 - val_loss: 0.3292 - val_accuracy: 0.9750\n",
      "Epoch 29/30\n",
      "515/515 [==============================] - 8s 15ms/step - loss: 1.1579e-04 - accuracy: 1.0000 - val_loss: 0.3344 - val_accuracy: 0.9740\n",
      "Epoch 30/30\n",
      "515/515 [==============================] - 8s 15ms/step - loss: 1.1046e-04 - accuracy: 1.0000 - val_loss: 0.3474 - val_accuracy: 0.9747\n"
     ]
    }
   ],
   "source": [
    "# fit model\n",
    "model1 = models.Sequential()\n",
    "model1.add(layers.Dense(32, input_dim=vocab_size, kernel_initializer='normal', activation='relu'))\n",
    "model1.add(layers.Dense(1, kernel_initializer='normal', activation='sigmoid'))\n",
    " \n",
    "# compile\n",
    "model1.compile(loss='binary_crossentropy',\n",
    "              optimizer='adam',\n",
    "              metrics=['accuracy'])\n",
    "\n",
    "# train\n",
    "history = model1.fit(x_train, y_train,\n",
    "                    batch_size=batch_size,\n",
    "                    epochs=30,\n",
    "                    verbose=1,\n",
    "                    validation_split=0.1)"
   ]
  },
  {
   "cell_type": "code",
   "execution_count": 10,
   "id": "7f55d09e",
   "metadata": {},
   "outputs": [
    {
     "name": "stdout",
     "output_type": "stream",
     "text": [
      "Model: \"sequential\"\n",
      "_________________________________________________________________\n",
      " Layer (type)                Output Shape              Param #   \n",
      "=================================================================\n",
      " dense (Dense)               (None, 32)                800032    \n",
      "                                                                 \n",
      " dense_1 (Dense)             (None, 1)                 33        \n",
      "                                                                 \n",
      "=================================================================\n",
      "Total params: 800,065\n",
      "Trainable params: 800,065\n",
      "Non-trainable params: 0\n",
      "_________________________________________________________________\n"
     ]
    }
   ],
   "source": [
    "# Show model summary\n",
    "model1.summary()"
   ]
  },
  {
   "cell_type": "markdown",
   "id": "07fb6d68",
   "metadata": {},
   "source": [
    "**Evaluation**"
   ]
  },
  {
   "cell_type": "markdown",
   "id": "51181bc8",
   "metadata": {},
   "source": [
    "Use model to predict the target on test data"
   ]
  },
  {
   "cell_type": "code",
   "execution_count": 11,
   "id": "16234622",
   "metadata": {
    "scrolled": true
   },
   "outputs": [
    {
     "name": "stdout",
     "output_type": "stream",
     "text": [
      "449/449 [==============================] - 3s 4ms/step\n"
     ]
    },
    {
     "data": {
      "text/plain": [
       "array([[1.0000000e+00],\n",
       "       [1.0000000e+00],\n",
       "       [1.0000000e+00],\n",
       "       [1.0000000e+00],\n",
       "       [9.9999946e-01],\n",
       "       [4.2885760e-24],\n",
       "       [1.0620265e-26],\n",
       "       [1.0000000e+00],\n",
       "       [1.0000000e+00],\n",
       "       [1.0000000e+00]], dtype=float32)"
      ]
     },
     "execution_count": 11,
     "metadata": {},
     "output_type": "execute_result"
    }
   ],
   "source": [
    "# get predictions so we can calculate more metrics\n",
    "pred = model1.predict(x_test)\n",
    "pred_labels = [1 if p>0.5 else 0 for p in pred]\n",
    "pred[:10]"
   ]
  },
  {
   "cell_type": "markdown",
   "id": "eae1e6ab",
   "metadata": {},
   "source": [
    "Evaluate and calculate the metrics"
   ]
  },
  {
   "cell_type": "code",
   "execution_count": 12,
   "id": "6d95dec9",
   "metadata": {
    "scrolled": true
   },
   "outputs": [
    {
     "name": "stdout",
     "output_type": "stream",
     "text": [
      "accuracy score:  0.9745431719905148\n",
      "precision score:  0.9727137646899905\n",
      "recall score:  0.9778652906029331\n",
      "f1 score:  0.9752827249949211\n"
     ]
    }
   ],
   "source": [
    "from sklearn.metrics import accuracy_score, precision_score, recall_score, f1_score\n",
    "print('accuracy score: ', accuracy_score(y_test, pred_labels))\n",
    "print('precision score: ', precision_score(y_test, pred_labels))\n",
    "print('recall score: ', recall_score(y_test, pred_labels))\n",
    "print('f1 score: ', f1_score(y_test, pred_labels))"
   ]
  },
  {
   "cell_type": "markdown",
   "id": "d111cc64",
   "metadata": {},
   "source": [
    "### Instruction 3 - Sequential Model with RNN, CNN Architecture\n",
    "\n",
    "Try different architecture like RNN, CNN, etc and evaluate on the test data"
   ]
  },
  {
   "cell_type": "markdown",
   "id": "79e8ef46",
   "metadata": {},
   "source": [
    "### RNN Architecture"
   ]
  },
  {
   "cell_type": "markdown",
   "id": "995bf126",
   "metadata": {},
   "source": [
    "Prepare the data before building model"
   ]
  },
  {
   "cell_type": "code",
   "execution_count": 13,
   "id": "e8e91199",
   "metadata": {},
   "outputs": [],
   "source": [
    "# Try different set up for X and Y \n",
    "max_features = 10000\n",
    "maxlen = 500\n",
    "batch_size = 32\n",
    "\n",
    "\n",
    "# pad the data to maxlen\n",
    "train_data = preprocessing.sequence.pad_sequences(x_train, maxlen=maxlen)\n",
    "test_data = preprocessing.sequence.pad_sequences(x_test, maxlen=maxlen)"
   ]
  },
  {
   "cell_type": "markdown",
   "id": "373f910f",
   "metadata": {},
   "source": [
    "Build model with RNN Architecture\n"
   ]
  },
  {
   "cell_type": "code",
   "execution_count": 14,
   "id": "9f4c51d2",
   "metadata": {},
   "outputs": [
    {
     "name": "stdout",
     "output_type": "stream",
     "text": [
      "Epoch 1/10\n",
      "358/358 [==============================] - 46s 124ms/step - loss: 0.6938 - accuracy: 0.5047 - val_loss: 0.6933 - val_accuracy: 0.4938\n",
      "Epoch 2/10\n",
      "358/358 [==============================] - 43s 119ms/step - loss: 0.6934 - accuracy: 0.5079 - val_loss: 0.6925 - val_accuracy: 0.5122\n",
      "Epoch 3/10\n",
      "358/358 [==============================] - 43s 119ms/step - loss: 0.6936 - accuracy: 0.5063 - val_loss: 0.6923 - val_accuracy: 0.5095\n",
      "Epoch 4/10\n",
      "358/358 [==============================] - 43s 119ms/step - loss: 0.6937 - accuracy: 0.5063 - val_loss: 0.6926 - val_accuracy: 0.5109\n",
      "Epoch 5/10\n",
      "358/358 [==============================] - 44s 122ms/step - loss: 0.6929 - accuracy: 0.5094 - val_loss: 0.6940 - val_accuracy: 0.4932\n",
      "Epoch 6/10\n",
      "358/358 [==============================] - 43s 120ms/step - loss: 0.6932 - accuracy: 0.5030 - val_loss: 0.6928 - val_accuracy: 0.5106\n",
      "Epoch 7/10\n",
      "358/358 [==============================] - 42s 118ms/step - loss: 0.6930 - accuracy: 0.5102 - val_loss: 0.6961 - val_accuracy: 0.5096\n",
      "Epoch 8/10\n",
      "358/358 [==============================] - 42s 116ms/step - loss: 0.6935 - accuracy: 0.5049 - val_loss: 0.6942 - val_accuracy: 0.5097\n",
      "Epoch 9/10\n",
      "358/358 [==============================] - 42s 116ms/step - loss: 0.6931 - accuracy: 0.5020 - val_loss: 0.6931 - val_accuracy: 0.5099\n",
      "Epoch 10/10\n",
      "358/358 [==============================] - 41s 115ms/step - loss: 0.6936 - accuracy: 0.5059 - val_loss: 0.6921 - val_accuracy: 0.5097\n"
     ]
    }
   ],
   "source": [
    "# build a Sequential model with Embedding and SimpleRNN layers\n",
    "\n",
    "model2 = models.Sequential()\n",
    "model2.add(layers.Embedding(max_features, 32))\n",
    "model2.add(layers.SimpleRNN(32))\n",
    "model2.add(layers.Dense(1, activation='sigmoid'))\n",
    "\n",
    "# compile\n",
    "model2.compile(optimizer='rmsprop',\n",
    "              loss='binary_crossentropy',\n",
    "              metrics=['accuracy'])\n",
    "\n",
    "# train\n",
    "history = model2.fit(train_data,\n",
    "                    y_train,\n",
    "                    epochs=10,\n",
    "                    batch_size=128,\n",
    "                    validation_split=0.2)"
   ]
  },
  {
   "cell_type": "code",
   "execution_count": 15,
   "id": "8614fcf1",
   "metadata": {
    "scrolled": true
   },
   "outputs": [
    {
     "name": "stdout",
     "output_type": "stream",
     "text": [
      "Model: \"sequential_1\"\n",
      "_________________________________________________________________\n",
      " Layer (type)                Output Shape              Param #   \n",
      "=================================================================\n",
      " embedding (Embedding)       (None, None, 32)          320000    \n",
      "                                                                 \n",
      " simple_rnn (SimpleRNN)      (None, 32)                2080      \n",
      "                                                                 \n",
      " dense_2 (Dense)             (None, 1)                 33        \n",
      "                                                                 \n",
      "=================================================================\n",
      "Total params: 322,113\n",
      "Trainable params: 322,113\n",
      "Non-trainable params: 0\n",
      "_________________________________________________________________\n"
     ]
    }
   ],
   "source": [
    "# Show model summary\n",
    "model2.summary()"
   ]
  },
  {
   "cell_type": "markdown",
   "id": "4ddf97fa",
   "metadata": {},
   "source": [
    "**Evaluation of RNN**"
   ]
  },
  {
   "cell_type": "markdown",
   "id": "891b964d",
   "metadata": {},
   "source": [
    "Evaluate and calculate the metrics"
   ]
  },
  {
   "cell_type": "code",
   "execution_count": 16,
   "id": "4c640691",
   "metadata": {},
   "outputs": [
    {
     "name": "stdout",
     "output_type": "stream",
     "text": [
      "449/449 [==============================] - 10s 22ms/step\n",
      "              precision    recall  f1-score   support\n",
      "\n",
      "           0       0.52      0.02      0.03      6974\n",
      "           1       0.51      0.99      0.68      7364\n",
      "\n",
      "    accuracy                           0.51     14338\n",
      "   macro avg       0.52      0.50      0.35     14338\n",
      "weighted avg       0.52      0.51      0.36     14338\n",
      "\n"
     ]
    }
   ],
   "source": [
    "from sklearn.metrics import classification_report\n",
    "\n",
    "# get predictions so we can calculate more metrics\n",
    "pred = model2.predict(test_data)\n",
    "pred_labels = [1 if p>0.5 else 0 for p in pred]\n",
    "print(classification_report(y_test, pred_labels))"
   ]
  },
  {
   "cell_type": "markdown",
   "id": "71a4d6ad",
   "metadata": {},
   "source": [
    "### CNN Architecture"
   ]
  },
  {
   "cell_type": "markdown",
   "id": "ffc985df",
   "metadata": {},
   "source": [
    "Build model with CNN Architecture"
   ]
  },
  {
   "cell_type": "code",
   "execution_count": 17,
   "id": "75e7caa6",
   "metadata": {},
   "outputs": [
    {
     "name": "stdout",
     "output_type": "stream",
     "text": [
      "Epoch 1/10\n",
      "358/358 [==============================] - 116s 323ms/step - loss: 0.7252 - accuracy: 0.4977 - val_loss: 0.6930 - val_accuracy: 0.4983\n",
      "Epoch 2/10\n",
      "358/358 [==============================] - 115s 320ms/step - loss: 0.6935 - accuracy: 0.5026 - val_loss: 0.6928 - val_accuracy: 0.5087\n",
      "Epoch 3/10\n",
      "358/358 [==============================] - 114s 317ms/step - loss: 0.6936 - accuracy: 0.5006 - val_loss: 0.6928 - val_accuracy: 0.5087\n",
      "Epoch 4/10\n",
      "358/358 [==============================] - 113s 317ms/step - loss: 0.6936 - accuracy: 0.5025 - val_loss: 0.6934 - val_accuracy: 0.4963\n",
      "Epoch 5/10\n",
      "358/358 [==============================] - 114s 317ms/step - loss: 0.6934 - accuracy: 0.5018 - val_loss: 0.6932 - val_accuracy: 0.5087\n",
      "Epoch 6/10\n",
      "358/358 [==============================] - 116s 324ms/step - loss: 0.6933 - accuracy: 0.5002 - val_loss: 0.6926 - val_accuracy: 0.5087\n",
      "Epoch 7/10\n",
      "358/358 [==============================] - 116s 324ms/step - loss: 0.6932 - accuracy: 0.5040 - val_loss: 0.6948 - val_accuracy: 0.4962\n",
      "Epoch 8/10\n",
      "358/358 [==============================] - 114s 318ms/step - loss: 0.6929 - accuracy: 0.5065 - val_loss: 0.6945 - val_accuracy: 0.4959\n",
      "Epoch 9/10\n",
      "358/358 [==============================] - 114s 318ms/step - loss: 0.6930 - accuracy: 0.5044 - val_loss: 0.6937 - val_accuracy: 0.5087\n",
      "Epoch 10/10\n",
      "358/358 [==============================] - 113s 317ms/step - loss: 0.6931 - accuracy: 0.5047 - val_loss: 0.6924 - val_accuracy: 0.4960\n"
     ]
    }
   ],
   "source": [
    "# build a Sequential model 1D convnet\n",
    "\n",
    "model3 = models.Sequential()\n",
    "model3.add(layers.Embedding(max_features, 128, input_length=maxlen)) \n",
    "model3.add(layers.Conv1D(32, 7, activation='relu')) \n",
    "model3.add(layers.MaxPooling1D(5)) \n",
    "model3.add(layers.Conv1D(32, 7, activation='relu')) \n",
    "model3.add(layers.GlobalMaxPooling1D())\n",
    "model3.add(layers.Dense(1))\n",
    "\n",
    "# compile\n",
    "model3.compile(optimizer=tf.keras.optimizers.RMSprop(learning_rate=1e-4),  # set learning rate\n",
    "              loss='binary_crossentropy',\n",
    "              metrics=['accuracy'])\n",
    "\n",
    "# train\n",
    "history = model3.fit(train_data,\n",
    "                    y_train,\n",
    "                    epochs=10,\n",
    "                    batch_size=128,\n",
    "                    validation_split=0.2)"
   ]
  },
  {
   "cell_type": "code",
   "execution_count": 18,
   "id": "87a1af45",
   "metadata": {},
   "outputs": [
    {
     "name": "stdout",
     "output_type": "stream",
     "text": [
      "Model: \"sequential_2\"\n",
      "_________________________________________________________________\n",
      " Layer (type)                Output Shape              Param #   \n",
      "=================================================================\n",
      " embedding_1 (Embedding)     (None, 500, 128)          1280000   \n",
      "                                                                 \n",
      " conv1d (Conv1D)             (None, 494, 32)           28704     \n",
      "                                                                 \n",
      " max_pooling1d (MaxPooling1D  (None, 98, 32)           0         \n",
      " )                                                               \n",
      "                                                                 \n",
      " conv1d_1 (Conv1D)           (None, 92, 32)            7200      \n",
      "                                                                 \n",
      " global_max_pooling1d (Globa  (None, 32)               0         \n",
      " lMaxPooling1D)                                                  \n",
      "                                                                 \n",
      " dense_3 (Dense)             (None, 1)                 33        \n",
      "                                                                 \n",
      "=================================================================\n",
      "Total params: 1,315,937\n",
      "Trainable params: 1,315,937\n",
      "Non-trainable params: 0\n",
      "_________________________________________________________________\n"
     ]
    }
   ],
   "source": [
    "# Show model summary\n",
    "model3.summary()"
   ]
  },
  {
   "cell_type": "markdown",
   "id": "3dbbdf38",
   "metadata": {},
   "source": [
    "**Evaluation of CNN**"
   ]
  },
  {
   "cell_type": "markdown",
   "id": "c5f0905b",
   "metadata": {},
   "source": [
    "Evaluate and calculate the metrics"
   ]
  },
  {
   "cell_type": "code",
   "execution_count": 19,
   "id": "ea56602a",
   "metadata": {},
   "outputs": [
    {
     "name": "stdout",
     "output_type": "stream",
     "text": [
      "449/449 [==============================] - 7s 16ms/step\n",
      "              precision    recall  f1-score   support\n",
      "\n",
      "           0       0.49      0.97      0.65      6974\n",
      "           1       0.54      0.04      0.07      7364\n",
      "\n",
      "    accuracy                           0.49     14338\n",
      "   macro avg       0.51      0.50      0.36     14338\n",
      "weighted avg       0.51      0.49      0.35     14338\n",
      "\n"
     ]
    }
   ],
   "source": [
    "from sklearn.metrics import classification_report\n",
    "\n",
    "# get predictions so we can calculate more metrics\n",
    "pred = model3.predict(test_data)\n",
    "pred_labels = [1 if p>0.5 else 0 for p in pred]\n",
    "print(classification_report(y_test, pred_labels))"
   ]
  },
  {
   "cell_type": "markdown",
   "id": "8c88e00f",
   "metadata": {},
   "source": [
    "### Instruction 4 - Model with Embedded Layer Approaches\n",
    "\n",
    "    - Try different embedding approaches and evaluate on the test data"
   ]
  },
  {
   "cell_type": "markdown",
   "id": "1b66edb3",
   "metadata": {},
   "source": [
    "Preprocessing data before building and feeding into model"
   ]
  },
  {
   "cell_type": "code",
   "execution_count": 20,
   "id": "c1112754",
   "metadata": {
    "scrolled": true
   },
   "outputs": [
    {
     "data": {
      "text/html": [
       "<div>\n",
       "<style scoped>\n",
       "    .dataframe tbody tr th:only-of-type {\n",
       "        vertical-align: middle;\n",
       "    }\n",
       "\n",
       "    .dataframe tbody tr th {\n",
       "        vertical-align: top;\n",
       "    }\n",
       "\n",
       "    .dataframe thead th {\n",
       "        text-align: right;\n",
       "    }\n",
       "</style>\n",
       "<table border=\"1\" class=\"dataframe\">\n",
       "  <thead>\n",
       "    <tr style=\"text-align: right;\">\n",
       "      <th></th>\n",
       "      <th>title</th>\n",
       "      <th>text</th>\n",
       "      <th>label</th>\n",
       "    </tr>\n",
       "  </thead>\n",
       "  <tbody>\n",
       "    <tr>\n",
       "      <th>0</th>\n",
       "      <td>LAW ENFORCEMENT ON HIGH ALERT Following Threat...</td>\n",
       "      <td>No comment is expected from Barack Obama Membe...</td>\n",
       "      <td>1</td>\n",
       "    </tr>\n",
       "    <tr>\n",
       "      <th>2</th>\n",
       "      <td>UNBELIEVABLE! OBAMAâS ATTORNEY GENERAL SAYS ...</td>\n",
       "      <td>Now, most of the demonstrators gathered last ...</td>\n",
       "      <td>1</td>\n",
       "    </tr>\n",
       "    <tr>\n",
       "      <th>3</th>\n",
       "      <td>Bobby Jindal, raised Hindu, uses story of Chri...</td>\n",
       "      <td>A dozen politically active pastors came here f...</td>\n",
       "      <td>0</td>\n",
       "    </tr>\n",
       "    <tr>\n",
       "      <th>4</th>\n",
       "      <td>SATAN 2: Russia unvelis an image of its terrif...</td>\n",
       "      <td>The RS-28 Sarmat missile, dubbed Satan 2, will...</td>\n",
       "      <td>1</td>\n",
       "    </tr>\n",
       "    <tr>\n",
       "      <th>5</th>\n",
       "      <td>About Time! Christian Group Sues Amazon and SP...</td>\n",
       "      <td>All we can say on this one is it s about time ...</td>\n",
       "      <td>1</td>\n",
       "    </tr>\n",
       "  </tbody>\n",
       "</table>\n",
       "</div>"
      ],
      "text/plain": [
       "                                               title  \\\n",
       "0  LAW ENFORCEMENT ON HIGH ALERT Following Threat...   \n",
       "2  UNBELIEVABLE! OBAMAâS ATTORNEY GENERAL SAYS ...   \n",
       "3  Bobby Jindal, raised Hindu, uses story of Chri...   \n",
       "4  SATAN 2: Russia unvelis an image of its terrif...   \n",
       "5  About Time! Christian Group Sues Amazon and SP...   \n",
       "\n",
       "                                                text  label  \n",
       "0  No comment is expected from Barack Obama Membe...      1  \n",
       "2   Now, most of the demonstrators gathered last ...      1  \n",
       "3  A dozen politically active pastors came here f...      0  \n",
       "4  The RS-28 Sarmat missile, dubbed Satan 2, will...      1  \n",
       "5  All we can say on this one is it s about time ...      1  "
      ]
     },
     "execution_count": 20,
     "metadata": {},
     "output_type": "execute_result"
    }
   ],
   "source": [
    "df.head()"
   ]
  },
  {
   "cell_type": "code",
   "execution_count": 21,
   "id": "6270bab8",
   "metadata": {
    "scrolled": true
   },
   "outputs": [
    {
     "data": {
      "text/html": [
       "<div>\n",
       "<style scoped>\n",
       "    .dataframe tbody tr th:only-of-type {\n",
       "        vertical-align: middle;\n",
       "    }\n",
       "\n",
       "    .dataframe tbody tr th {\n",
       "        vertical-align: top;\n",
       "    }\n",
       "\n",
       "    .dataframe thead th {\n",
       "        text-align: right;\n",
       "    }\n",
       "</style>\n",
       "<table border=\"1\" class=\"dataframe\">\n",
       "  <thead>\n",
       "    <tr style=\"text-align: right;\">\n",
       "      <th></th>\n",
       "      <th>text</th>\n",
       "      <th>label</th>\n",
       "    </tr>\n",
       "  </thead>\n",
       "  <tbody>\n",
       "    <tr>\n",
       "      <th>0</th>\n",
       "      <td>No comment is expected from Barack Obama Membe...</td>\n",
       "      <td>1</td>\n",
       "    </tr>\n",
       "    <tr>\n",
       "      <th>2</th>\n",
       "      <td>Now, most of the demonstrators gathered last ...</td>\n",
       "      <td>1</td>\n",
       "    </tr>\n",
       "    <tr>\n",
       "      <th>3</th>\n",
       "      <td>A dozen politically active pastors came here f...</td>\n",
       "      <td>0</td>\n",
       "    </tr>\n",
       "    <tr>\n",
       "      <th>4</th>\n",
       "      <td>The RS-28 Sarmat missile, dubbed Satan 2, will...</td>\n",
       "      <td>1</td>\n",
       "    </tr>\n",
       "    <tr>\n",
       "      <th>5</th>\n",
       "      <td>All we can say on this one is it s about time ...</td>\n",
       "      <td>1</td>\n",
       "    </tr>\n",
       "  </tbody>\n",
       "</table>\n",
       "</div>"
      ],
      "text/plain": [
       "                                                text  label\n",
       "0  No comment is expected from Barack Obama Membe...      1\n",
       "2   Now, most of the demonstrators gathered last ...      1\n",
       "3  A dozen politically active pastors came here f...      0\n",
       "4  The RS-28 Sarmat missile, dubbed Satan 2, will...      1\n",
       "5  All we can say on this one is it s about time ...      1"
      ]
     },
     "execution_count": 21,
     "metadata": {},
     "output_type": "execute_result"
    }
   ],
   "source": [
    "# Removing the title from dataset\n",
    "df1 = df.drop(columns=['title'])\n",
    "df1.head()"
   ]
  },
  {
   "cell_type": "markdown",
   "id": "bc3fb604",
   "metadata": {},
   "source": [
    "The original size of dataset is too big for my computer to process.\n",
    "\n",
    "Try with google colab. It is still not be able to process unless i upgrage to Pro Version\n",
    "\n",
    "==> Reduce the dataset to 1/3 of its original. So it could be process with my own computer"
   ]
  },
  {
   "cell_type": "code",
   "execution_count": 22,
   "id": "beb15536",
   "metadata": {},
   "outputs": [],
   "source": [
    "df1 = df1.sample(frac=0.3)  # Reduce dataset to 1/3 of it original size"
   ]
  },
  {
   "cell_type": "markdown",
   "id": "92ebecd0",
   "metadata": {},
   "source": [
    "Encoding and decoding the string data so it could be vectorizer later"
   ]
  },
  {
   "cell_type": "code",
   "execution_count": 23,
   "id": "574e273a",
   "metadata": {},
   "outputs": [],
   "source": [
    "df1['text'] = df1['text'].apply(lambda x: x.encode(\"latin-1\").decode(\"ascii\",\"ignore\"))"
   ]
  },
  {
   "cell_type": "markdown",
   "id": "0d8c53ed",
   "metadata": {},
   "source": [
    "### Split into train/validation/test using fast_ml package"
   ]
  },
  {
   "cell_type": "code",
   "execution_count": 24,
   "id": "fca011d5",
   "metadata": {
    "scrolled": true
   },
   "outputs": [
    {
     "name": "stdout",
     "output_type": "stream",
     "text": [
      "Labels sizes of train, validation, test: 17168 2146 2147\n",
      "Samples sizes of train, validation, test: 17168 2146 2147\n"
     ]
    }
   ],
   "source": [
    "train_samples, train_labels, val_samples, val_labels, test_samples, test_labels = train_valid_test_split(df1, target = 'label', \n",
    "                                                                            train_size=0.8, valid_size=0.1, test_size=0.1)\n",
    "\n",
    "print('Labels sizes of train, validation, test:', len(train_labels), len(val_labels), len(test_labels))\n",
    "print('Samples sizes of train, validation, test:', len(train_samples), len(val_samples), len(test_samples))"
   ]
  },
  {
   "cell_type": "code",
   "execution_count": 25,
   "id": "1b80fa59",
   "metadata": {
    "scrolled": true
   },
   "outputs": [
    {
     "data": {
      "text/plain": [
       "(17168, 1)"
      ]
     },
     "execution_count": 25,
     "metadata": {},
     "output_type": "execute_result"
    }
   ],
   "source": [
    "train_samples.shape"
   ]
  },
  {
   "cell_type": "code",
   "execution_count": 26,
   "id": "a7dc5e2c",
   "metadata": {},
   "outputs": [
    {
     "data": {
      "text/plain": [
       "(17168,)"
      ]
     },
     "execution_count": 26,
     "metadata": {},
     "output_type": "execute_result"
    }
   ],
   "source": [
    "train_labels.shape"
   ]
  },
  {
   "cell_type": "markdown",
   "id": "da073bc2",
   "metadata": {},
   "source": [
    "**Set up the vectorizer**\n",
    "\n",
    "    - Use Keras's TextVectorization() function to vectorize the data, using only the top 20K words. Each sample will be truncated or padded to a length of 200"
   ]
  },
  {
   "cell_type": "code",
   "execution_count": 27,
   "id": "b11e16f1",
   "metadata": {},
   "outputs": [],
   "source": [
    "from tensorflow.keras.layers.experimental.preprocessing import TextVectorization\n",
    "\n",
    "vectorizer = TextVectorization(max_tokens=20000, output_sequence_length=200)\n",
    "text_ds = tf.data.Dataset.from_tensor_slices(train_samples).batch(128)\n",
    "vectorizer.adapt(text_ds)"
   ]
  },
  {
   "cell_type": "code",
   "execution_count": 28,
   "id": "003db9a8",
   "metadata": {
    "scrolled": false
   },
   "outputs": [
    {
     "data": {
      "text/plain": [
       "20000"
      ]
     },
     "execution_count": 28,
     "metadata": {},
     "output_type": "execute_result"
    }
   ],
   "source": [
    "# create a word index dictionary in which words map to indices\n",
    "voc = vectorizer.get_vocabulary()\n",
    "word_index = dict(zip(voc, range(len(voc))))\n",
    "len(word_index)"
   ]
  },
  {
   "cell_type": "markdown",
   "id": "22c2d1e0",
   "metadata": {},
   "source": [
    "### Building the model:\n",
    "\n",
    "    - The model will included:\n",
    "            \n",
    "                - Several layers of Conv1D followed by pooling.\n",
    "                - Ending in a softmax classification layer.\n",
    "                - Instead of the usual Keras syntax, this example uses syntax from the Functional API:"
   ]
  },
  {
   "cell_type": "markdown",
   "id": "324af097",
   "metadata": {},
   "source": [
    "**Set up the embedding layer**"
   ]
  },
  {
   "cell_type": "code",
   "execution_count": 29,
   "id": "93ec21f9",
   "metadata": {},
   "outputs": [],
   "source": [
    "EMBEDDING_DIM = 128\n",
    "MAX_SEQUENCE_LENGTH = 200\n",
    "\n",
    "embedding_layer = layers.Embedding(len(word_index) + 1,\n",
    "                            EMBEDDING_DIM,\n",
    "                            input_length=MAX_SEQUENCE_LENGTH)"
   ]
  },
  {
   "cell_type": "markdown",
   "id": "dd9c8b22",
   "metadata": {},
   "source": [
    "**Building model using syntax from the Functional API**"
   ]
  },
  {
   "cell_type": "code",
   "execution_count": 30,
   "id": "7af0df60",
   "metadata": {},
   "outputs": [
    {
     "name": "stdout",
     "output_type": "stream",
     "text": [
      "Model: \"model\"\n",
      "_________________________________________________________________\n",
      " Layer (type)                Output Shape              Param #   \n",
      "=================================================================\n",
      " input_1 (InputLayer)        [(None, None)]            0         \n",
      "                                                                 \n",
      " embedding_2 (Embedding)     (None, None, 128)         2560128   \n",
      "                                                                 \n",
      " conv1d_2 (Conv1D)           (None, None, 128)         82048     \n",
      "                                                                 \n",
      " max_pooling1d_1 (MaxPooling  (None, None, 128)        0         \n",
      " 1D)                                                             \n",
      "                                                                 \n",
      " conv1d_3 (Conv1D)           (None, None, 128)         82048     \n",
      "                                                                 \n",
      " max_pooling1d_2 (MaxPooling  (None, None, 128)        0         \n",
      " 1D)                                                             \n",
      "                                                                 \n",
      " conv1d_4 (Conv1D)           (None, None, 128)         82048     \n",
      "                                                                 \n",
      " global_max_pooling1d_1 (Glo  (None, 128)              0         \n",
      " balMaxPooling1D)                                                \n",
      "                                                                 \n",
      " dense_4 (Dense)             (None, 128)               16512     \n",
      "                                                                 \n",
      " dropout (Dropout)           (None, 128)               0         \n",
      "                                                                 \n",
      " dense_5 (Dense)             (None, 1)                 129       \n",
      "                                                                 \n",
      "=================================================================\n",
      "Total params: 2,822,913\n",
      "Trainable params: 2,822,913\n",
      "Non-trainable params: 0\n",
      "_________________________________________________________________\n"
     ]
    }
   ],
   "source": [
    "# add more layers\n",
    "\n",
    "int_sequences_input = keras.Input(shape=(None,), dtype=\"int64\")\n",
    "embedded_sequences = embedding_layer(int_sequences_input)\n",
    "x = layers.Conv1D(128, 5, activation=\"relu\")(embedded_sequences)\n",
    "x = layers.MaxPooling1D(5)(x)\n",
    "x = layers.Conv1D(128, 5, activation=\"relu\")(x)\n",
    "x = layers.MaxPooling1D(5)(x)\n",
    "x = layers.Conv1D(128, 5, activation=\"relu\")(x)\n",
    "x = layers.GlobalMaxPooling1D()(x)\n",
    "x = layers.Dense(128, activation=\"relu\")(x)\n",
    "x = layers.Dropout(0.5)(x)\n",
    "preds = layers.Dense(1, activation=\"softmax\")(x) \n",
    "model4 = keras.Model(int_sequences_input, preds)\n",
    "model4.summary()"
   ]
  },
  {
   "cell_type": "markdown",
   "id": "c3dee226",
   "metadata": {},
   "source": [
    "**Vectorize train and validation sets**"
   ]
  },
  {
   "cell_type": "markdown",
   "id": "4900aa91",
   "metadata": {},
   "source": [
    "Converting the samples/predictor of train and validation to list of string before vectorizer"
   ]
  },
  {
   "cell_type": "code",
   "execution_count": 31,
   "id": "6f3dfa6c",
   "metadata": {},
   "outputs": [
    {
     "data": {
      "text/plain": [
       "pandas.core.frame.DataFrame"
      ]
     },
     "execution_count": 31,
     "metadata": {},
     "output_type": "execute_result"
    }
   ],
   "source": [
    "type(val_samples)"
   ]
  },
  {
   "cell_type": "code",
   "execution_count": 32,
   "id": "7178c53d",
   "metadata": {},
   "outputs": [
    {
     "data": {
      "text/html": [
       "<div>\n",
       "<style scoped>\n",
       "    .dataframe tbody tr th:only-of-type {\n",
       "        vertical-align: middle;\n",
       "    }\n",
       "\n",
       "    .dataframe tbody tr th {\n",
       "        vertical-align: top;\n",
       "    }\n",
       "\n",
       "    .dataframe thead th {\n",
       "        text-align: right;\n",
       "    }\n",
       "</style>\n",
       "<table border=\"1\" class=\"dataframe\">\n",
       "  <thead>\n",
       "    <tr style=\"text-align: right;\">\n",
       "      <th></th>\n",
       "      <th>text</th>\n",
       "    </tr>\n",
       "  </thead>\n",
       "  <tbody>\n",
       "    <tr>\n",
       "      <th>4702</th>\n",
       "      <td>If a grand jury indicts Donald Trump, one Fox ...</td>\n",
       "    </tr>\n",
       "    <tr>\n",
       "      <th>30075</th>\n",
       "      <td>Share on Facebook Share on Twitter This is som...</td>\n",
       "    </tr>\n",
       "    <tr>\n",
       "      <th>7079</th>\n",
       "      <td>One way or another, she s going to have to fa...</td>\n",
       "    </tr>\n",
       "    <tr>\n",
       "      <th>43755</th>\n",
       "      <td>WASHINGTON (Reuters) - The U.S. Supreme Court ...</td>\n",
       "    </tr>\n",
       "    <tr>\n",
       "      <th>11634</th>\n",
       "      <td>Mises.org October 28, 2016 \\nA recent op-ed pi...</td>\n",
       "    </tr>\n",
       "  </tbody>\n",
       "</table>\n",
       "</div>"
      ],
      "text/plain": [
       "                                                    text\n",
       "4702   If a grand jury indicts Donald Trump, one Fox ...\n",
       "30075  Share on Facebook Share on Twitter This is som...\n",
       "7079    One way or another, she s going to have to fa...\n",
       "43755  WASHINGTON (Reuters) - The U.S. Supreme Court ...\n",
       "11634  Mises.org October 28, 2016 \\nA recent op-ed pi..."
      ]
     },
     "execution_count": 32,
     "metadata": {},
     "output_type": "execute_result"
    }
   ],
   "source": [
    "val_samples.head()"
   ]
  },
  {
   "cell_type": "markdown",
   "id": "119ac6a3",
   "metadata": {},
   "source": [
    "Converting the train and validation dataframe to list of string so it can be convert to numpy array then vecterizor"
   ]
  },
  {
   "cell_type": "code",
   "execution_count": 33,
   "id": "ac5acb26",
   "metadata": {},
   "outputs": [],
   "source": [
    "x_train = train_samples.text.values.tolist()\n",
    "x_val = val_samples.text.values.tolist()"
   ]
  },
  {
   "cell_type": "markdown",
   "id": "439a4935",
   "metadata": {},
   "source": [
    "Vectorizer the data to right-pad the samples"
   ]
  },
  {
   "cell_type": "code",
   "execution_count": 34,
   "id": "f685734b",
   "metadata": {},
   "outputs": [],
   "source": [
    "x_train = vectorizer(np.array([[s] for s in x_train])).numpy()\n",
    "x_val = vectorizer(np.array([[s] for s in x_val])).numpy()\n",
    "\n",
    "y_train = np.array(train_labels)\n",
    "y_val = np.array(val_labels)"
   ]
  },
  {
   "cell_type": "code",
   "execution_count": 35,
   "id": "bb8a7a68",
   "metadata": {
    "scrolled": true
   },
   "outputs": [
    {
     "name": "stdout",
     "output_type": "stream",
     "text": [
      "Size of train sample after padding: 17168\n",
      "Size of train label after padding: 17168\n"
     ]
    }
   ],
   "source": [
    "print('Size of train sample after padding:', len(x_train))\n",
    "print('Size of train label after padding:', len(y_train))"
   ]
  },
  {
   "cell_type": "code",
   "execution_count": 36,
   "id": "25430356",
   "metadata": {},
   "outputs": [
    {
     "name": "stdout",
     "output_type": "stream",
     "text": [
      "Size of val sample after padding: 2146\n",
      "Size of val label after padding: 2146\n"
     ]
    }
   ],
   "source": [
    "print('Size of val sample after padding:', len(x_val))\n",
    "print('Size of val label after padding:', len(y_val))"
   ]
  },
  {
   "cell_type": "markdown",
   "id": "702171cf",
   "metadata": {},
   "source": [
    "**Train the embedded layer model**\n",
    "\n",
    "    - Binary_crossentropy is used because the final layer is have only either 0 or 1."
   ]
  },
  {
   "cell_type": "code",
   "execution_count": 37,
   "id": "3b43c8b2",
   "metadata": {},
   "outputs": [
    {
     "name": "stdout",
     "output_type": "stream",
     "text": [
      "Epoch 1/20\n",
      "135/135 [==============================] - 33s 232ms/step - loss: 0.3739 - acc: 0.5086 - val_loss: 0.1804 - val_acc: 0.4902\n",
      "Epoch 2/20\n",
      "135/135 [==============================] - 31s 229ms/step - loss: 0.1117 - acc: 0.5086 - val_loss: 0.1606 - val_acc: 0.4902\n",
      "Epoch 3/20\n",
      "135/135 [==============================] - 31s 232ms/step - loss: 0.0561 - acc: 0.5086 - val_loss: 0.2385 - val_acc: 0.4902\n",
      "Epoch 4/20\n",
      "135/135 [==============================] - 32s 239ms/step - loss: 0.0316 - acc: 0.5086 - val_loss: 0.1725 - val_acc: 0.4902\n",
      "Epoch 5/20\n",
      "135/135 [==============================] - 32s 234ms/step - loss: 0.0142 - acc: 0.5086 - val_loss: 0.2503 - val_acc: 0.4902\n",
      "Epoch 6/20\n",
      "135/135 [==============================] - 31s 228ms/step - loss: 0.0115 - acc: 0.5086 - val_loss: 0.2937 - val_acc: 0.4902\n",
      "Epoch 7/20\n",
      "135/135 [==============================] - 31s 228ms/step - loss: 0.0072 - acc: 0.5086 - val_loss: 0.3531 - val_acc: 0.4902\n",
      "Epoch 8/20\n",
      "135/135 [==============================] - 31s 230ms/step - loss: 0.0023 - acc: 0.5086 - val_loss: 0.4437 - val_acc: 0.4902\n",
      "Epoch 9/20\n",
      "135/135 [==============================] - 31s 228ms/step - loss: 0.0078 - acc: 0.5086 - val_loss: 0.5241 - val_acc: 0.4902\n",
      "Epoch 10/20\n",
      "135/135 [==============================] - 31s 228ms/step - loss: 0.0012 - acc: 0.5086 - val_loss: 0.6783 - val_acc: 0.4902\n",
      "Epoch 11/20\n",
      "135/135 [==============================] - 31s 227ms/step - loss: 0.0092 - acc: 0.5086 - val_loss: 0.6510 - val_acc: 0.4902\n",
      "Epoch 12/20\n",
      "135/135 [==============================] - 31s 228ms/step - loss: 0.0022 - acc: 0.5086 - val_loss: 0.6193 - val_acc: 0.4902\n",
      "Epoch 13/20\n",
      "135/135 [==============================] - 31s 228ms/step - loss: 0.0044 - acc: 0.5086 - val_loss: 0.5316 - val_acc: 0.4902\n",
      "Epoch 14/20\n",
      "135/135 [==============================] - 31s 228ms/step - loss: 0.0020 - acc: 0.5086 - val_loss: 0.6765 - val_acc: 0.4902\n",
      "Epoch 15/20\n",
      "135/135 [==============================] - 31s 227ms/step - loss: 9.3415e-04 - acc: 0.5086 - val_loss: 0.7531 - val_acc: 0.4902\n",
      "Epoch 16/20\n",
      "135/135 [==============================] - 31s 230ms/step - loss: 0.0017 - acc: 0.5086 - val_loss: 0.8555 - val_acc: 0.4902\n",
      "Epoch 17/20\n",
      "135/135 [==============================] - 31s 233ms/step - loss: 4.4786e-04 - acc: 0.5086 - val_loss: 1.0549 - val_acc: 0.4902\n",
      "Epoch 18/20\n",
      "135/135 [==============================] - 31s 227ms/step - loss: 0.0024 - acc: 0.5086 - val_loss: 1.0349 - val_acc: 0.4902\n",
      "Epoch 19/20\n",
      "135/135 [==============================] - 31s 232ms/step - loss: 0.0086 - acc: 0.5086 - val_loss: 1.0098 - val_acc: 0.4902\n",
      "Epoch 20/20\n",
      "135/135 [==============================] - 31s 232ms/step - loss: 8.4002e-04 - acc: 0.5086 - val_loss: 0.9996 - val_acc: 0.4902\n"
     ]
    },
    {
     "data": {
      "text/plain": [
       "<keras.callbacks.History at 0x19d1236ebf0>"
      ]
     },
     "execution_count": 37,
     "metadata": {},
     "output_type": "execute_result"
    }
   ],
   "source": [
    "# compile\n",
    "model4.compile(loss=\"binary_crossentropy\",\n",
    "              optimizer=\"rmsprop\",\n",
    "              metrics=[\"acc\"])\n",
    "\n",
    "# train\n",
    "model4.fit(x_train, y_train,\n",
    "          batch_size=128,\n",
    "          epochs=20,\n",
    "          validation_data=(x_val, y_val))"
   ]
  },
  {
   "cell_type": "markdown",
   "id": "91758249",
   "metadata": {},
   "source": [
    "**Evaluation using Embedded_layer approach**"
   ]
  },
  {
   "cell_type": "markdown",
   "id": "244a5bd9",
   "metadata": {},
   "source": [
    "Converting test_sample dataframe to list of string\n",
    "\n",
    "Vectorizer the data to right-pad the samples"
   ]
  },
  {
   "cell_type": "code",
   "execution_count": 38,
   "id": "5a3ea000",
   "metadata": {},
   "outputs": [],
   "source": [
    "test_x = test_samples.text.values.tolist()\n",
    "test_x = vectorizer(np.array([[s] for s in test_x])).numpy()"
   ]
  },
  {
   "cell_type": "markdown",
   "id": "3a99aa60",
   "metadata": {},
   "source": [
    "Evaluate and calculate the metrics"
   ]
  },
  {
   "cell_type": "code",
   "execution_count": 39,
   "id": "076dd29c",
   "metadata": {},
   "outputs": [
    {
     "name": "stdout",
     "output_type": "stream",
     "text": [
      "68/68 [==============================] - 1s 17ms/step\n",
      "              precision    recall  f1-score   support\n",
      "\n",
      "           0       0.49      1.00      0.65      1045\n",
      "           1       0.00      0.00      0.00      1102\n",
      "\n",
      "    accuracy                           0.49      2147\n",
      "   macro avg       0.24      0.50      0.33      2147\n",
      "weighted avg       0.24      0.49      0.32      2147\n",
      "\n"
     ]
    }
   ],
   "source": [
    "from sklearn.metrics import classification_report\n",
    "\n",
    "preds = model4.predict(test_x)\n",
    "pred_labels = [np.argmax(p) for p in preds]\n",
    "print(classification_report(test_labels, pred_labels))"
   ]
  },
  {
   "cell_type": "markdown",
   "id": "b2160952",
   "metadata": {},
   "source": [
    "### Instruction 4\n",
    "\n",
    "    - Analysis of the performance of various approaches"
   ]
  },
  {
   "cell_type": "markdown",
   "id": "2b6fcaff",
   "metadata": {},
   "source": [
    "    - Among the 4 different approaches: Dense Sequential, RNN, CNN and Embedded Layer. The 1st approach-Dense Sequential have the most accuracy number (97%). That is a very high result even though we only use simple one hidden layer with 32 nodes. It is becauase Dense Sequential performs a matrix-vector multiplication which can learns features from all combinational features of the previous layer.\n",
    "    \n",
    "    - The 2nd approach-RNN have its accuracy drop significantly compare to Dense Sequential from 97% to 51%. It is because event though RNN is more suitable for text compate to CNN. It will not perform well on a long sequence of text which is exactly the case of this dataset example when we have around 20,000 word vocabulary. \n",
    "    \n",
    "    - The 3nd approach-CNN also have a very low accuracy which is 49%. This number is even lower than the RNN because, CNN usualy work better on images or video processing. And our dataset is purely string of text.\n",
    "    \n",
    "    - The last approach-Embedded Layer also have a very low and simlar accuracy to CNN which is 49%. It is because this approach is very hard to train, especially the softmax function was used as activartor. Moreover, the poor performance also come from the fact that have a very large categories - size of vocabulary = word_index = 20,000. Together with this large number and the nature of word after vectorizer is usually not distributed uniformally lead to the insufficient utilizing of vector."
   ]
  }
 ],
 "metadata": {
  "kernelspec": {
   "display_name": "Python 3 (ipykernel)",
   "language": "python",
   "name": "python3"
  },
  "language_info": {
   "codemirror_mode": {
    "name": "ipython",
    "version": 3
   },
   "file_extension": ".py",
   "mimetype": "text/x-python",
   "name": "python",
   "nbconvert_exporter": "python",
   "pygments_lexer": "ipython3",
   "version": "3.10.4"
  }
 },
 "nbformat": 4,
 "nbformat_minor": 5
}
