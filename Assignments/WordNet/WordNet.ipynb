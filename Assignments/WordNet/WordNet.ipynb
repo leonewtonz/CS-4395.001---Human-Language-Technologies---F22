{
 "cells": [
  {
   "cell_type": "markdown",
   "id": "4e27d2e9",
   "metadata": {},
   "source": [
    "# WordNet"
   ]
  },
  {
   "cell_type": "markdown",
   "id": "ee34702c",
   "metadata": {},
   "source": [
    "**CS 4395 - Intro to NLP**\n",
    "\n",
    "**Dr. Karen Mazidi**\n",
    "\n",
    "**Prepare by Leo Nguyen - ldn190002**"
   ]
  },
  {
   "cell_type": "markdown",
   "id": "528cba6a",
   "metadata": {},
   "source": [
    "### Instruction 1"
   ]
  },
  {
   "cell_type": "markdown",
   "id": "d92e59d8",
   "metadata": {},
   "source": [
    "**Summary of WordNet**\n",
    "\n",
    "WordNet is a lexical database of English. Nouns, verbs, adjectives and adverbs are organized into a hierarchy of synsets. A synset is a cognitive synonym set, each expressing a distinct concept."
   ]
  },
  {
   "cell_type": "markdown",
   "id": "a6bf2424",
   "metadata": {},
   "source": [
    "### Intruction 2"
   ]
  },
  {
   "cell_type": "markdown",
   "id": "f7e27d70",
   "metadata": {},
   "source": [
    "Import WordNet"
   ]
  },
  {
   "cell_type": "code",
   "execution_count": 1,
   "id": "75eb0810",
   "metadata": {},
   "outputs": [],
   "source": [
    "from nltk.corpus import wordnet as wn"
   ]
  },
  {
   "cell_type": "markdown",
   "id": "f5f9a498",
   "metadata": {},
   "source": [
    "Get all synsets of noun 'book'"
   ]
  },
  {
   "cell_type": "code",
   "execution_count": 2,
   "id": "e62d1ed5",
   "metadata": {
    "scrolled": true
   },
   "outputs": [
    {
     "data": {
      "text/plain": [
       "[Synset('house.n.01'),\n",
       " Synset('firm.n.01'),\n",
       " Synset('house.n.03'),\n",
       " Synset('house.n.04'),\n",
       " Synset('house.n.05'),\n",
       " Synset('house.n.06'),\n",
       " Synset('house.n.07'),\n",
       " Synset('sign_of_the_zodiac.n.01'),\n",
       " Synset('house.n.09'),\n",
       " Synset('family.n.01'),\n",
       " Synset('theater.n.01'),\n",
       " Synset('house.n.12'),\n",
       " Synset('house.v.01'),\n",
       " Synset('house.v.02')]"
      ]
     },
     "execution_count": 2,
     "metadata": {},
     "output_type": "execute_result"
    }
   ],
   "source": [
    "wn.synsets('house')"
   ]
  },
  {
   "cell_type": "markdown",
   "id": "350313de",
   "metadata": {},
   "source": [
    "### Instruction 3"
   ]
  },
  {
   "cell_type": "markdown",
   "id": "f12ca22d",
   "metadata": {},
   "source": [
    "From selected synset - **Synset('house.n.01')** we can extract:\n",
    "\n",
    "    - Definition\n",
    "    - Usage examples\n",
    "    - Lemmas"
   ]
  },
  {
   "cell_type": "markdown",
   "id": "fa95fa48",
   "metadata": {},
   "source": [
    "Extract definition"
   ]
  },
  {
   "cell_type": "code",
   "execution_count": 3,
   "id": "a6c0f50a",
   "metadata": {},
   "outputs": [
    {
     "data": {
      "text/plain": [
       "'a dwelling that serves as living quarters for one or more families'"
      ]
     },
     "execution_count": 3,
     "metadata": {},
     "output_type": "execute_result"
    }
   ],
   "source": [
    "house = wn.synset('house.n.01') # Assign the selected synset to house\n",
    "house.definition() "
   ]
  },
  {
   "cell_type": "markdown",
   "id": "641e42d5",
   "metadata": {},
   "source": [
    "Extract usage examples"
   ]
  },
  {
   "cell_type": "code",
   "execution_count": 4,
   "id": "a4a2ccab",
   "metadata": {},
   "outputs": [
    {
     "data": {
      "text/plain": [
       "['he has a house on Cape Cod', 'she felt she had to get out of the house']"
      ]
     },
     "execution_count": 4,
     "metadata": {},
     "output_type": "execute_result"
    }
   ],
   "source": [
    "house.examples()"
   ]
  },
  {
   "cell_type": "markdown",
   "id": "576745dd",
   "metadata": {},
   "source": [
    "Extract lemmas"
   ]
  },
  {
   "cell_type": "code",
   "execution_count": 5,
   "id": "5e945a46",
   "metadata": {},
   "outputs": [
    {
     "data": {
      "text/plain": [
       "[Lemma('house.n.01.house')]"
      ]
     },
     "execution_count": 5,
     "metadata": {},
     "output_type": "execute_result"
    }
   ],
   "source": [
    "house.lemmas()"
   ]
  },
  {
   "cell_type": "markdown",
   "id": "b18464bd",
   "metadata": {},
   "source": [
    "**Traverse up the WordNet hierarchy for noun**"
   ]
  },
  {
   "cell_type": "markdown",
   "id": "3cd0c31e",
   "metadata": {},
   "source": [
    "The hierarchy for nouns has 'entity' at the top."
   ]
  },
  {
   "cell_type": "markdown",
   "id": "f08fbb52",
   "metadata": {},
   "source": [
    "As the selected synset above is noun. So it's top level is 'entity'.\n",
    "\n",
    "We can verify that with the code below"
   ]
  },
  {
   "cell_type": "code",
   "execution_count": 6,
   "id": "8e8a3510",
   "metadata": {},
   "outputs": [
    {
     "data": {
      "text/plain": [
       "[Synset('entity.n.01')]"
      ]
     },
     "execution_count": 6,
     "metadata": {},
     "output_type": "execute_result"
    }
   ],
   "source": [
    "house.root_hypernyms()"
   ]
  },
  {
   "cell_type": "markdown",
   "id": "217437e3",
   "metadata": {},
   "source": [
    "The code below traverse up the WordNet hierarchy of selected synset and print out each level as we go.\n",
    "\n",
    "The loop stop when it reach the top level which is 'entity'"
   ]
  },
  {
   "cell_type": "code",
   "execution_count": 7,
   "id": "2ceb7c80",
   "metadata": {
    "scrolled": true
   },
   "outputs": [
    {
     "name": "stdout",
     "output_type": "stream",
     "text": [
      "Synset('building.n.01')\n",
      "Synset('structure.n.01')\n",
      "Synset('artifact.n.01')\n",
      "Synset('whole.n.02')\n",
      "Synset('object.n.01')\n",
      "Synset('physical_entity.n.01')\n",
      "Synset('entity.n.01')\n"
     ]
    }
   ],
   "source": [
    "hyp = house.hypernyms()[0]\n",
    "top = wn.synset('entity.n.01')  \n",
    "while hyp:\n",
    "    print(hyp)\n",
    "    if hyp == top:\n",
    "        break\n",
    "    if hyp.hypernyms():\n",
    "        hyp = hyp.hypernyms()[0]"
   ]
  },
  {
   "cell_type": "markdown",
   "id": "dd1da73e",
   "metadata": {},
   "source": [
    "**WordNet hierarchy for nouns**\n",
    "\n",
    "    - The WordNet hierarchy for nouns was organized into different levels. The upper levels are more general and more abstract concepts compare to the lower levels. The top of the hierarchy for nouns is 'entity'"
   ]
  },
  {
   "cell_type": "markdown",
   "id": "432627bc",
   "metadata": {},
   "source": [
    "### Intruction 4"
   ]
  },
  {
   "cell_type": "markdown",
   "id": "d27617d4",
   "metadata": {},
   "source": [
    "**For each synset we can extract:**\n",
    "\n",
    "    - Hypernyms (higher)\n",
    "    - Hyponyms (lower)\n",
    "    - Meronyms (part of)\n",
    "    - Holonyms (whole)\n",
    "    - Antonyms (opposite)"
   ]
  },
  {
   "cell_type": "markdown",
   "id": "716b385f",
   "metadata": {},
   "source": [
    "**Hypernyms**: higher, more general concept.\n",
    "\n",
    "The code below output the house's hypernyms"
   ]
  },
  {
   "cell_type": "code",
   "execution_count": 8,
   "id": "f2678aa3",
   "metadata": {
    "scrolled": true
   },
   "outputs": [
    {
     "data": {
      "text/plain": [
       "[Synset('building.n.01'), Synset('dwelling.n.01')]"
      ]
     },
     "execution_count": 8,
     "metadata": {},
     "output_type": "execute_result"
    }
   ],
   "source": [
    "house.hypernyms()"
   ]
  },
  {
   "cell_type": "markdown",
   "id": "253456bd",
   "metadata": {},
   "source": [
    "**Hyponyms** : lower, more specific concept\n",
    "\n",
    "The code below output the house's hyponyms"
   ]
  },
  {
   "cell_type": "code",
   "execution_count": 9,
   "id": "4086dd4b",
   "metadata": {
    "scrolled": true
   },
   "outputs": [
    {
     "data": {
      "text/plain": [
       "[Synset('beach_house.n.01'),\n",
       " Synset('boarding_house.n.01'),\n",
       " Synset('bungalow.n.01'),\n",
       " Synset('cabin.n.02'),\n",
       " Synset('chalet.n.01'),\n",
       " Synset('chapterhouse.n.02'),\n",
       " Synset('country_house.n.01'),\n",
       " Synset('detached_house.n.01'),\n",
       " Synset('dollhouse.n.01'),\n",
       " Synset('duplex_house.n.01'),\n",
       " Synset('farmhouse.n.01'),\n",
       " Synset('gatehouse.n.01'),\n",
       " Synset('guesthouse.n.01'),\n",
       " Synset('hacienda.n.02'),\n",
       " Synset('lodge.n.04'),\n",
       " Synset('lodging_house.n.01'),\n",
       " Synset('maisonette.n.02'),\n",
       " Synset('mansion.n.02'),\n",
       " Synset('ranch_house.n.01'),\n",
       " Synset('residence.n.02'),\n",
       " Synset('row_house.n.01'),\n",
       " Synset('safe_house.n.01'),\n",
       " Synset('saltbox.n.01'),\n",
       " Synset('sod_house.n.01'),\n",
       " Synset('solar_house.n.01'),\n",
       " Synset('tract_house.n.01'),\n",
       " Synset('villa.n.02')]"
      ]
     },
     "execution_count": 9,
     "metadata": {},
     "output_type": "execute_result"
    }
   ],
   "source": [
    "house.hyponyms()\n"
   ]
  },
  {
   "cell_type": "markdown",
   "id": "774e2a91",
   "metadata": {},
   "source": [
    "**Meronyms**: a part of something. It coud be:\n",
    "\n",
    "    - part_meronyms(): by parts\n",
    "    - substance_meronyms(): by substances"
   ]
  },
  {
   "cell_type": "markdown",
   "id": "b27c4cac",
   "metadata": {},
   "source": [
    "The code below output the house's meronyms by parts"
   ]
  },
  {
   "cell_type": "code",
   "execution_count": 10,
   "id": "14eba6de",
   "metadata": {
    "scrolled": false
   },
   "outputs": [
    {
     "data": {
      "text/plain": [
       "[Synset('library.n.01'),\n",
       " Synset('loft.n.02'),\n",
       " Synset('porch.n.01'),\n",
       " Synset('study.n.05')]"
      ]
     },
     "execution_count": 10,
     "metadata": {},
     "output_type": "execute_result"
    }
   ],
   "source": [
    "house.part_meronyms()"
   ]
  },
  {
   "cell_type": "markdown",
   "id": "95714144",
   "metadata": {},
   "source": [
    "The code below output the house's meronyms by substance.\n",
    "\n",
    "It is empty because house is not subtances of anything"
   ]
  },
  {
   "cell_type": "code",
   "execution_count": 11,
   "id": "e36ee2f4",
   "metadata": {
    "scrolled": false
   },
   "outputs": [
    {
     "data": {
      "text/plain": [
       "[]"
      ]
     },
     "execution_count": 11,
     "metadata": {},
     "output_type": "execute_result"
    }
   ],
   "source": [
    "house.substance_meronyms()"
   ]
  },
  {
   "cell_type": "markdown",
   "id": "d7ab1f51",
   "metadata": {},
   "source": [
    "**Holonyms**: a whole of something. It could be:\n",
    "\n",
    "    - part_holonyms(): by parts\n",
    "    - substance_holonyms(): by substances"
   ]
  },
  {
   "cell_type": "markdown",
   "id": "66f95565",
   "metadata": {},
   "source": [
    "The code below output the house's holonyms by parts"
   ]
  },
  {
   "cell_type": "code",
   "execution_count": 12,
   "id": "22f3b208",
   "metadata": {
    "scrolled": true
   },
   "outputs": [
    {
     "data": {
      "text/plain": [
       "[]"
      ]
     },
     "execution_count": 12,
     "metadata": {},
     "output_type": "execute_result"
    }
   ],
   "source": [
    "house.part_holonyms()"
   ]
  },
  {
   "cell_type": "markdown",
   "id": "9669de46",
   "metadata": {},
   "source": [
    "The code below output the house's holonyms by substances"
   ]
  },
  {
   "cell_type": "code",
   "execution_count": 13,
   "id": "70f49e74",
   "metadata": {
    "scrolled": false
   },
   "outputs": [
    {
     "data": {
      "text/plain": [
       "[]"
      ]
     },
     "execution_count": 13,
     "metadata": {},
     "output_type": "execute_result"
    }
   ],
   "source": [
    "house.part_holonyms()"
   ]
  },
  {
   "cell_type": "markdown",
   "id": "69811611",
   "metadata": {},
   "source": [
    "**Antonyms**: oppostite of something.\n",
    "\n",
    "The code below output the house's antonyms.\n",
    "\n",
    "The list is empty even we try it the lemmas() function. \n",
    "\n",
    "This mostly happen with nouns. We can easily find the antonyms with verbs or adjectives"
   ]
  },
  {
   "cell_type": "code",
   "execution_count": 14,
   "id": "4d388d3c",
   "metadata": {
    "scrolled": false
   },
   "outputs": [
    {
     "data": {
      "text/plain": [
       "[[]]"
      ]
     },
     "execution_count": 14,
     "metadata": {},
     "output_type": "execute_result"
    }
   ],
   "source": [
    "[lemma.antonyms() for lemma in house.lemmas()]"
   ]
  },
  {
   "cell_type": "markdown",
   "id": "f6d62330",
   "metadata": {},
   "source": [
    "### Instruction 5"
   ]
  },
  {
   "cell_type": "markdown",
   "id": "efd8925b",
   "metadata": {},
   "source": [
    "Get all synsets of verb 'run'"
   ]
  },
  {
   "cell_type": "code",
   "execution_count": 15,
   "id": "4b1e823c",
   "metadata": {
    "scrolled": false
   },
   "outputs": [
    {
     "data": {
      "text/plain": [
       "[Synset('run.n.01'),\n",
       " Synset('test.n.05'),\n",
       " Synset('footrace.n.01'),\n",
       " Synset('streak.n.01'),\n",
       " Synset('run.n.05'),\n",
       " Synset('run.n.06'),\n",
       " Synset('run.n.07'),\n",
       " Synset('run.n.08'),\n",
       " Synset('run.n.09'),\n",
       " Synset('run.n.10'),\n",
       " Synset('rivulet.n.01'),\n",
       " Synset('political_campaign.n.01'),\n",
       " Synset('run.n.13'),\n",
       " Synset('discharge.n.06'),\n",
       " Synset('run.n.15'),\n",
       " Synset('run.n.16'),\n",
       " Synset('run.v.01'),\n",
       " Synset('scat.v.01'),\n",
       " Synset('run.v.03'),\n",
       " Synset('operate.v.01'),\n",
       " Synset('run.v.05'),\n",
       " Synset('run.v.06'),\n",
       " Synset('function.v.01'),\n",
       " Synset('range.v.01'),\n",
       " Synset('campaign.v.01'),\n",
       " Synset('play.v.18'),\n",
       " Synset('run.v.11'),\n",
       " Synset('tend.v.01'),\n",
       " Synset('run.v.13'),\n",
       " Synset('run.v.14'),\n",
       " Synset('run.v.15'),\n",
       " Synset('run.v.16'),\n",
       " Synset('prevail.v.03'),\n",
       " Synset('run.v.18'),\n",
       " Synset('run.v.19'),\n",
       " Synset('carry.v.15'),\n",
       " Synset('run.v.21'),\n",
       " Synset('guide.v.05'),\n",
       " Synset('run.v.23'),\n",
       " Synset('run.v.24'),\n",
       " Synset('run.v.25'),\n",
       " Synset('run.v.26'),\n",
       " Synset('run.v.27'),\n",
       " Synset('run.v.28'),\n",
       " Synset('run.v.29'),\n",
       " Synset('run.v.30'),\n",
       " Synset('run.v.31'),\n",
       " Synset('run.v.32'),\n",
       " Synset('run.v.33'),\n",
       " Synset('run.v.34'),\n",
       " Synset('ply.v.03'),\n",
       " Synset('hunt.v.01'),\n",
       " Synset('race.v.02'),\n",
       " Synset('move.v.13'),\n",
       " Synset('melt.v.01'),\n",
       " Synset('ladder.v.01'),\n",
       " Synset('run.v.41')]"
      ]
     },
     "execution_count": 15,
     "metadata": {},
     "output_type": "execute_result"
    }
   ],
   "source": [
    "wn.synsets('run')"
   ]
  },
  {
   "cell_type": "markdown",
   "id": "8bf77bee",
   "metadata": {},
   "source": [
    "### Instruction 6"
   ]
  },
  {
   "cell_type": "markdown",
   "id": "ba8ff068",
   "metadata": {},
   "source": [
    "From selected synset - **Synset('run.v.01')** we can extract:\n",
    "\n",
    "    - Definition\n",
    "    - Usage examples\n",
    "    - Lemmas"
   ]
  },
  {
   "cell_type": "markdown",
   "id": "5309908e",
   "metadata": {},
   "source": [
    "Extract definition"
   ]
  },
  {
   "cell_type": "code",
   "execution_count": 16,
   "id": "40128756",
   "metadata": {},
   "outputs": [
    {
     "data": {
      "text/plain": [
       "\"move fast by using one's feet, with one foot off the ground at any given time\""
      ]
     },
     "execution_count": 16,
     "metadata": {},
     "output_type": "execute_result"
    }
   ],
   "source": [
    "run = wn.synset('run.v.01')  # Assign selected synset to run\n",
    "run.definition()"
   ]
  },
  {
   "cell_type": "markdown",
   "id": "a2bfcae6",
   "metadata": {},
   "source": [
    "Extract usage examples"
   ]
  },
  {
   "cell_type": "code",
   "execution_count": 17,
   "id": "ed408185",
   "metadata": {
    "scrolled": true
   },
   "outputs": [
    {
     "data": {
      "text/plain": [
       "[\"Don't run--you'll be out of breath\", 'The children ran to the store']"
      ]
     },
     "execution_count": 17,
     "metadata": {},
     "output_type": "execute_result"
    }
   ],
   "source": [
    "run.examples()"
   ]
  },
  {
   "cell_type": "markdown",
   "id": "ee6bac39",
   "metadata": {},
   "source": [
    "Extract lemmas"
   ]
  },
  {
   "cell_type": "code",
   "execution_count": 18,
   "id": "d17210e7",
   "metadata": {
    "scrolled": true
   },
   "outputs": [
    {
     "data": {
      "text/plain": [
       "[Lemma('run.v.01.run')]"
      ]
     },
     "execution_count": 18,
     "metadata": {},
     "output_type": "execute_result"
    }
   ],
   "source": [
    "run.lemmas()"
   ]
  },
  {
   "cell_type": "markdown",
   "id": "0fdc7ded",
   "metadata": {},
   "source": [
    "**Traverse up the WordNet hierarchy for verb**"
   ]
  },
  {
   "cell_type": "code",
   "execution_count": 19,
   "id": "b6065fa5",
   "metadata": {
    "scrolled": true
   },
   "outputs": [
    {
     "data": {
      "text/plain": [
       "[Synset('travel_rapidly.v.01'), Synset('travel.v.01')]"
      ]
     },
     "execution_count": 19,
     "metadata": {},
     "output_type": "execute_result"
    }
   ],
   "source": [
    "hyper = lambda s: s.hypernyms()\n",
    "list(run.closure(hyper))"
   ]
  },
  {
   "cell_type": "markdown",
   "id": "0e5d4a3d",
   "metadata": {},
   "source": [
    "**WordNet hierarchy for verb**\n",
    "\n",
    "    - The WordNet hierarchy for verb is different from nouns. There is no top level for verb's hierarchy."
   ]
  },
  {
   "cell_type": "markdown",
   "id": "f417976f",
   "metadata": {},
   "source": [
    "### Instruction 7"
   ]
  },
  {
   "cell_type": "markdown",
   "id": "b0c5f7d3",
   "metadata": {},
   "source": [
    "Morphy: mean base form of the word.\n",
    "\n",
    "We can use morphy() function to do so"
   ]
  }
 ],
 "metadata": {
  "kernelspec": {
   "display_name": "Python 3 (ipykernel)",
   "language": "python",
   "name": "python3"
  },
  "language_info": {
   "codemirror_mode": {
    "name": "ipython",
    "version": 3
   },
   "file_extension": ".py",
   "mimetype": "text/x-python",
   "name": "python",
   "nbconvert_exporter": "python",
   "pygments_lexer": "ipython3",
   "version": "3.10.4"
  }
 },
 "nbformat": 4,
 "nbformat_minor": 5
}
