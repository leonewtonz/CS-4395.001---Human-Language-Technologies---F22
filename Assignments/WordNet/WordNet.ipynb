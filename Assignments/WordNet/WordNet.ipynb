{
 "cells": [
  {
   "cell_type": "markdown",
   "id": "4e27d2e9",
   "metadata": {},
   "source": [
    "# WordNet"
   ]
  },
  {
   "cell_type": "markdown",
   "id": "ee34702c",
   "metadata": {},
   "source": [
    "**CS 4395 - Intro to NLP**\n",
    "\n",
    "**Dr. Karen Mazidi**\n",
    "\n",
    "**Prepare by Leo Nguyen - ldn190002**"
   ]
  },
  {
   "cell_type": "markdown",
   "id": "528cba6a",
   "metadata": {},
   "source": [
    "### Instruction 1"
   ]
  },
  {
   "cell_type": "markdown",
   "id": "d92e59d8",
   "metadata": {},
   "source": [
    "**Summary of WordNet**\n",
    "\n",
    "WordNet is a lexical database of English. Nouns, verbs, adjectives and adverbs are organized into a hierarchy of synsets. A synset is a cognitive synonym set, each expressing a distinct concept."
   ]
  },
  {
   "cell_type": "markdown",
   "id": "a6bf2424",
   "metadata": {},
   "source": [
    "### Intruction 2"
   ]
  },
  {
   "cell_type": "markdown",
   "id": "f7e27d70",
   "metadata": {},
   "source": [
    "Import WordNet"
   ]
  },
  {
   "cell_type": "code",
   "execution_count": 1,
   "id": "75eb0810",
   "metadata": {},
   "outputs": [],
   "source": [
    "from nltk.corpus import wordnet as wn"
   ]
  },
  {
   "cell_type": "markdown",
   "id": "f5f9a498",
   "metadata": {},
   "source": [
    "Get all synsets of noun 'book'"
   ]
  },
  {
   "cell_type": "code",
   "execution_count": 2,
   "id": "e62d1ed5",
   "metadata": {
    "scrolled": true
   },
   "outputs": [
    {
     "data": {
      "text/plain": [
       "[Synset('house.n.01'),\n",
       " Synset('firm.n.01'),\n",
       " Synset('house.n.03'),\n",
       " Synset('house.n.04'),\n",
       " Synset('house.n.05'),\n",
       " Synset('house.n.06'),\n",
       " Synset('house.n.07'),\n",
       " Synset('sign_of_the_zodiac.n.01'),\n",
       " Synset('house.n.09'),\n",
       " Synset('family.n.01'),\n",
       " Synset('theater.n.01'),\n",
       " Synset('house.n.12'),\n",
       " Synset('house.v.01'),\n",
       " Synset('house.v.02')]"
      ]
     },
     "execution_count": 2,
     "metadata": {},
     "output_type": "execute_result"
    }
   ],
   "source": [
    "wn.synsets('house')"
   ]
  },
  {
   "cell_type": "markdown",
   "id": "350313de",
   "metadata": {},
   "source": [
    "### Instruction 3"
   ]
  },
  {
   "cell_type": "markdown",
   "id": "f12ca22d",
   "metadata": {},
   "source": [
    "From selected synset - **Synset('house.n.01')** we can extract:\n",
    "\n",
    "    - Definition\n",
    "    - Usage examples\n",
    "    - Lemmas"
   ]
  },
  {
   "cell_type": "markdown",
   "id": "fa95fa48",
   "metadata": {},
   "source": [
    "Extract definition"
   ]
  },
  {
   "cell_type": "code",
   "execution_count": 3,
   "id": "a6c0f50a",
   "metadata": {},
   "outputs": [
    {
     "data": {
      "text/plain": [
       "'a dwelling that serves as living quarters for one or more families'"
      ]
     },
     "execution_count": 3,
     "metadata": {},
     "output_type": "execute_result"
    }
   ],
   "source": [
    "house = wn.synset('house.n.01') # Assign the selected synset to house\n",
    "house.definition() "
   ]
  },
  {
   "cell_type": "markdown",
   "id": "641e42d5",
   "metadata": {},
   "source": [
    "Extract usage examples"
   ]
  },
  {
   "cell_type": "code",
   "execution_count": 4,
   "id": "a4a2ccab",
   "metadata": {},
   "outputs": [
    {
     "data": {
      "text/plain": [
       "['he has a house on Cape Cod', 'she felt she had to get out of the house']"
      ]
     },
     "execution_count": 4,
     "metadata": {},
     "output_type": "execute_result"
    }
   ],
   "source": [
    "house.examples()"
   ]
  },
  {
   "cell_type": "markdown",
   "id": "576745dd",
   "metadata": {},
   "source": [
    "Extract lemmas"
   ]
  },
  {
   "cell_type": "code",
   "execution_count": 5,
   "id": "5e945a46",
   "metadata": {},
   "outputs": [
    {
     "data": {
      "text/plain": [
       "[Lemma('house.n.01.house')]"
      ]
     },
     "execution_count": 5,
     "metadata": {},
     "output_type": "execute_result"
    }
   ],
   "source": [
    "house.lemmas()"
   ]
  },
  {
   "cell_type": "markdown",
   "id": "b18464bd",
   "metadata": {},
   "source": [
    "**Traverse up the WordNet hierarchy for noun**"
   ]
  },
  {
   "cell_type": "markdown",
   "id": "f5b23640",
   "metadata": {},
   "source": [
    "The hierarchy for nouns has 'entity' at the top."
   ]
  },
  {
   "cell_type": "markdown",
   "id": "d8af4be8",
   "metadata": {},
   "source": [
    "As the selected synset above is noun. So it's top level is 'entity'.\n",
    "\n",
    "We can verify that with the code below"
   ]
  },
  {
   "cell_type": "code",
   "execution_count": 6,
   "id": "d28e7f22",
   "metadata": {},
   "outputs": [
    {
     "data": {
      "text/plain": [
       "[Synset('entity.n.01')]"
      ]
     },
     "execution_count": 6,
     "metadata": {},
     "output_type": "execute_result"
    }
   ],
   "source": [
    "house.root_hypernyms()"
   ]
  },
  {
   "cell_type": "markdown",
   "id": "6c3ebb73",
   "metadata": {},
   "source": [
    "The code below traverse up the WordNet hierarchy of selected synset and print out each level as we go.\n",
    "\n",
    "The loop stop when it reach the top level which is 'entity'"
   ]
  },
  {
   "cell_type": "code",
   "execution_count": 7,
   "id": "eff54934",
   "metadata": {
    "scrolled": true
   },
   "outputs": [
    {
     "name": "stdout",
     "output_type": "stream",
     "text": [
      "Synset('building.n.01')\n",
      "Synset('structure.n.01')\n",
      "Synset('artifact.n.01')\n",
      "Synset('whole.n.02')\n",
      "Synset('object.n.01')\n",
      "Synset('physical_entity.n.01')\n",
      "Synset('entity.n.01')\n"
     ]
    }
   ],
   "source": [
    "hyp = house.hypernyms()[0]\n",
    "top = wn.synset('entity.n.01')  \n",
    "while hyp:\n",
    "    print(hyp)\n",
    "    if hyp == top:\n",
    "        break\n",
    "    if hyp.hypernyms():\n",
    "        hyp = hyp.hypernyms()[0]"
   ]
  },
  {
   "cell_type": "markdown",
   "id": "dd1da73e",
   "metadata": {},
   "source": [
    "**Observation on WordNet hierarchy for nouns**\n",
    "\n",
    "- The WordNet hierarchy for nouns was organized into different levels. The upper levels are more general and more   abstract concepts compare to the lower levels. The top of the hierarchy for nouns is 'entity'"
   ]
  },
  {
   "cell_type": "markdown",
   "id": "432627bc",
   "metadata": {},
   "source": [
    "### Intruction 4"
   ]
  },
  {
   "cell_type": "markdown",
   "id": "d27617d4",
   "metadata": {},
   "source": [
    "**For each synset we can extract:**\n",
    "\n",
    "    - Hypernyms (higher)\n",
    "    - Hyponyms (lower)\n",
    "    - Meronyms (part of)\n",
    "    - Holonyms (whole)\n",
    "    - Antonyms (opposite)"
   ]
  },
  {
   "cell_type": "markdown",
   "id": "716b385f",
   "metadata": {},
   "source": [
    "**Hypernyms**: higher, more general concept.\n",
    "\n",
    "The code below output the house's hypernyms"
   ]
  },
  {
   "cell_type": "code",
   "execution_count": 8,
   "id": "f2678aa3",
   "metadata": {
    "scrolled": true
   },
   "outputs": [
    {
     "data": {
      "text/plain": [
       "[Synset('building.n.01'), Synset('dwelling.n.01')]"
      ]
     },
     "execution_count": 8,
     "metadata": {},
     "output_type": "execute_result"
    }
   ],
   "source": [
    "house.hypernyms()"
   ]
  },
  {
   "cell_type": "markdown",
   "id": "0c4348f2",
   "metadata": {},
   "source": [
    "**Hyponyms** : lower, more specific concept\n",
    "\n",
    "The code below output the house's hyponyms"
   ]
  },
  {
   "cell_type": "code",
   "execution_count": 9,
   "id": "020752a9",
   "metadata": {
    "scrolled": true
   },
   "outputs": [
    {
     "data": {
      "text/plain": [
       "[Synset('beach_house.n.01'),\n",
       " Synset('boarding_house.n.01'),\n",
       " Synset('bungalow.n.01'),\n",
       " Synset('cabin.n.02'),\n",
       " Synset('chalet.n.01'),\n",
       " Synset('chapterhouse.n.02'),\n",
       " Synset('country_house.n.01'),\n",
       " Synset('detached_house.n.01'),\n",
       " Synset('dollhouse.n.01'),\n",
       " Synset('duplex_house.n.01'),\n",
       " Synset('farmhouse.n.01'),\n",
       " Synset('gatehouse.n.01'),\n",
       " Synset('guesthouse.n.01'),\n",
       " Synset('hacienda.n.02'),\n",
       " Synset('lodge.n.04'),\n",
       " Synset('lodging_house.n.01'),\n",
       " Synset('maisonette.n.02'),\n",
       " Synset('mansion.n.02'),\n",
       " Synset('ranch_house.n.01'),\n",
       " Synset('residence.n.02'),\n",
       " Synset('row_house.n.01'),\n",
       " Synset('safe_house.n.01'),\n",
       " Synset('saltbox.n.01'),\n",
       " Synset('sod_house.n.01'),\n",
       " Synset('solar_house.n.01'),\n",
       " Synset('tract_house.n.01'),\n",
       " Synset('villa.n.02')]"
      ]
     },
     "execution_count": 9,
     "metadata": {},
     "output_type": "execute_result"
    }
   ],
   "source": [
    "house.hyponyms()\n"
   ]
  },
  {
   "cell_type": "markdown",
   "id": "3f58abcb",
   "metadata": {},
   "source": [
    "**Meronyms**: a part of something. It coud be:\n",
    "\n",
    "    - part_meronyms(): by parts\n",
    "    - substance_meronyms(): by substances"
   ]
  },
  {
   "cell_type": "markdown",
   "id": "3e7f9515",
   "metadata": {},
   "source": [
    "The code below output the house's meronyms by parts"
   ]
  },
  {
   "cell_type": "code",
   "execution_count": 10,
   "id": "a1542c6b",
   "metadata": {
    "scrolled": false
   },
   "outputs": [
    {
     "data": {
      "text/plain": [
       "[Synset('library.n.01'),\n",
       " Synset('loft.n.02'),\n",
       " Synset('porch.n.01'),\n",
       " Synset('study.n.05')]"
      ]
     },
     "execution_count": 10,
     "metadata": {},
     "output_type": "execute_result"
    }
   ],
   "source": [
    "house.part_meronyms()"
   ]
  },
  {
   "cell_type": "markdown",
   "id": "3dd87764",
   "metadata": {},
   "source": [
    "The code below output the house's meronyms by substance.\n",
    "\n",
    "It is empty because house is not subtances of anything"
   ]
  },
  {
   "cell_type": "code",
   "execution_count": 11,
   "id": "b5b9e6ea",
   "metadata": {
    "scrolled": false
   },
   "outputs": [
    {
     "data": {
      "text/plain": [
       "[]"
      ]
     },
     "execution_count": 11,
     "metadata": {},
     "output_type": "execute_result"
    }
   ],
   "source": [
    "house.substance_meronyms()"
   ]
  },
  {
   "cell_type": "markdown",
   "id": "3fc13f0f",
   "metadata": {},
   "source": [
    "**Holonyms**: a whole of something. It could be:\n",
    "\n",
    "    - part_holonyms(): by parts\n",
    "    - substance_holonyms(): by substances"
   ]
  },
  {
   "cell_type": "markdown",
   "id": "1d0945c0",
   "metadata": {},
   "source": [
    "The code below output the house's holonyms by parts"
   ]
  },
  {
   "cell_type": "code",
   "execution_count": 12,
   "id": "b164cbf7",
   "metadata": {
    "scrolled": true
   },
   "outputs": [
    {
     "data": {
      "text/plain": [
       "[]"
      ]
     },
     "execution_count": 12,
     "metadata": {},
     "output_type": "execute_result"
    }
   ],
   "source": [
    "house.part_holonyms()"
   ]
  },
  {
   "cell_type": "markdown",
   "id": "17db1e81",
   "metadata": {},
   "source": [
    "The code below output the house's holonyms by substances"
   ]
  },
  {
   "cell_type": "code",
   "execution_count": 13,
   "id": "60ec01be",
   "metadata": {
    "scrolled": false
   },
   "outputs": [
    {
     "data": {
      "text/plain": [
       "[]"
      ]
     },
     "execution_count": 13,
     "metadata": {},
     "output_type": "execute_result"
    }
   ],
   "source": [
    "house.part_holonyms()"
   ]
  },
  {
   "cell_type": "markdown",
   "id": "30775648",
   "metadata": {},
   "source": [
    "**Antonyms**: oppostite of something.\n",
    "\n",
    "The code below output the house's antonyms.\n",
    "\n",
    "The list is empty even we try it the lemmas() function. \n",
    "\n",
    "This mostly happen with nouns. We can easily find the antonyms with verbs or adjectives"
   ]
  },
  {
   "cell_type": "code",
   "execution_count": 14,
   "id": "56e9e030",
   "metadata": {
    "scrolled": false
   },
   "outputs": [
    {
     "data": {
      "text/plain": [
       "[[]]"
      ]
     },
     "execution_count": 14,
     "metadata": {},
     "output_type": "execute_result"
    }
   ],
   "source": [
    "[lemma.antonyms() for lemma in house.lemmas()]"
   ]
  },
  {
   "cell_type": "markdown",
   "id": "31247519",
   "metadata": {},
   "source": [
    "### Instruction 5"
   ]
  },
  {
   "cell_type": "markdown",
   "id": "c01b662f",
   "metadata": {},
   "source": [
    "Get all synsets of verb 'run'"
   ]
  },
  {
   "cell_type": "code",
   "execution_count": 15,
   "id": "f40d4c1e",
   "metadata": {
    "scrolled": false
   },
   "outputs": [
    {
     "data": {
      "text/plain": [
       "[Synset('run.n.01'),\n",
       " Synset('test.n.05'),\n",
       " Synset('footrace.n.01'),\n",
       " Synset('streak.n.01'),\n",
       " Synset('run.n.05'),\n",
       " Synset('run.n.06'),\n",
       " Synset('run.n.07'),\n",
       " Synset('run.n.08'),\n",
       " Synset('run.n.09'),\n",
       " Synset('run.n.10'),\n",
       " Synset('rivulet.n.01'),\n",
       " Synset('political_campaign.n.01'),\n",
       " Synset('run.n.13'),\n",
       " Synset('discharge.n.06'),\n",
       " Synset('run.n.15'),\n",
       " Synset('run.n.16'),\n",
       " Synset('run.v.01'),\n",
       " Synset('scat.v.01'),\n",
       " Synset('run.v.03'),\n",
       " Synset('operate.v.01'),\n",
       " Synset('run.v.05'),\n",
       " Synset('run.v.06'),\n",
       " Synset('function.v.01'),\n",
       " Synset('range.v.01'),\n",
       " Synset('campaign.v.01'),\n",
       " Synset('play.v.18'),\n",
       " Synset('run.v.11'),\n",
       " Synset('tend.v.01'),\n",
       " Synset('run.v.13'),\n",
       " Synset('run.v.14'),\n",
       " Synset('run.v.15'),\n",
       " Synset('run.v.16'),\n",
       " Synset('prevail.v.03'),\n",
       " Synset('run.v.18'),\n",
       " Synset('run.v.19'),\n",
       " Synset('carry.v.15'),\n",
       " Synset('run.v.21'),\n",
       " Synset('guide.v.05'),\n",
       " Synset('run.v.23'),\n",
       " Synset('run.v.24'),\n",
       " Synset('run.v.25'),\n",
       " Synset('run.v.26'),\n",
       " Synset('run.v.27'),\n",
       " Synset('run.v.28'),\n",
       " Synset('run.v.29'),\n",
       " Synset('run.v.30'),\n",
       " Synset('run.v.31'),\n",
       " Synset('run.v.32'),\n",
       " Synset('run.v.33'),\n",
       " Synset('run.v.34'),\n",
       " Synset('ply.v.03'),\n",
       " Synset('hunt.v.01'),\n",
       " Synset('race.v.02'),\n",
       " Synset('move.v.13'),\n",
       " Synset('melt.v.01'),\n",
       " Synset('ladder.v.01'),\n",
       " Synset('run.v.41')]"
      ]
     },
     "execution_count": 15,
     "metadata": {},
     "output_type": "execute_result"
    }
   ],
   "source": [
    "wn.synsets('run')"
   ]
  },
  {
   "cell_type": "markdown",
   "id": "263e40f2",
   "metadata": {},
   "source": [
    "### Instruction 6"
   ]
  },
  {
   "cell_type": "markdown",
   "id": "7728ecb0",
   "metadata": {},
   "source": [
    "From selected synset - **Synset('run.v.01')** we can extract:\n",
    "\n",
    "    - Definition\n",
    "    - Usage examples\n",
    "    - Lemmas"
   ]
  },
  {
   "cell_type": "markdown",
   "id": "cb78b691",
   "metadata": {},
   "source": [
    "Extract definition"
   ]
  },
  {
   "cell_type": "code",
   "execution_count": 16,
   "id": "562dda80",
   "metadata": {},
   "outputs": [
    {
     "data": {
      "text/plain": [
       "\"move fast by using one's feet, with one foot off the ground at any given time\""
      ]
     },
     "execution_count": 16,
     "metadata": {},
     "output_type": "execute_result"
    }
   ],
   "source": [
    "run = wn.synset('run.v.01')  # Assign selected synset to run\n",
    "run.definition()"
   ]
  },
  {
   "cell_type": "markdown",
   "id": "603a0984",
   "metadata": {},
   "source": [
    "Extract usage examples"
   ]
  },
  {
   "cell_type": "code",
   "execution_count": 17,
   "id": "4bb9f845",
   "metadata": {
    "scrolled": true
   },
   "outputs": [
    {
     "data": {
      "text/plain": [
       "[\"Don't run--you'll be out of breath\", 'The children ran to the store']"
      ]
     },
     "execution_count": 17,
     "metadata": {},
     "output_type": "execute_result"
    }
   ],
   "source": [
    "run.examples()"
   ]
  },
  {
   "cell_type": "markdown",
   "id": "2da98831",
   "metadata": {},
   "source": [
    "Extract lemmas"
   ]
  },
  {
   "cell_type": "code",
   "execution_count": 18,
   "id": "0b4b69b5",
   "metadata": {
    "scrolled": true
   },
   "outputs": [
    {
     "data": {
      "text/plain": [
       "[Lemma('run.v.01.run')]"
      ]
     },
     "execution_count": 18,
     "metadata": {},
     "output_type": "execute_result"
    }
   ],
   "source": [
    "run.lemmas()"
   ]
  },
  {
   "cell_type": "markdown",
   "id": "95928c03",
   "metadata": {},
   "source": [
    "**Traverse up the WordNet hierarchy for verb**"
   ]
  },
  {
   "cell_type": "code",
   "execution_count": 19,
   "id": "dbe6d071",
   "metadata": {
    "scrolled": true
   },
   "outputs": [
    {
     "data": {
      "text/plain": [
       "[Synset('travel_rapidly.v.01'), Synset('travel.v.01')]"
      ]
     },
     "execution_count": 19,
     "metadata": {},
     "output_type": "execute_result"
    }
   ],
   "source": [
    "hyper = lambda s: s.hypernyms()\n",
    "list(run.closure(hyper))"
   ]
  },
  {
   "cell_type": "markdown",
   "id": "1746f869",
   "metadata": {},
   "source": [
    "**Observation on WordNet hierarchy for verb**\n",
    "\n",
    "    - The WordNet hierarchy for verb is different from nouns. There is no top level for verb's hierarchy."
   ]
  },
  {
   "cell_type": "markdown",
   "id": "b69571b6",
   "metadata": {},
   "source": [
    "### Instruction 7"
   ]
  },
  {
   "cell_type": "markdown",
   "id": "f5c7d210",
   "metadata": {},
   "source": [
    "Morphy: mean base form of the word.\n",
    "\n",
    "We can use morphy() function to do so"
   ]
  },
  {
   "cell_type": "markdown",
   "id": "3251bd3c",
   "metadata": {},
   "source": [
    "The code below find the different form of the word **'interest'** by:\n",
    "\n",
    "    - Get all the English words\n",
    "    - Go through each word and get it base form. Then compare it the target word.\n",
    "    - If it is the same, add the the list forms\n",
    "    - Remove the duplicate by using set()"
   ]
  },
  {
   "cell_type": "code",
   "execution_count": 20,
   "id": "135003fe",
   "metadata": {},
   "outputs": [
    {
     "name": "stdout",
     "output_type": "stream",
     "text": [
      "Different forms of the word - interest: {'interest', 'interested', 'interesting'}\n"
     ]
    }
   ],
   "source": [
    "from nltk.corpus import words\n",
    "\n",
    "en_words = words.words()  # Get all English words\n",
    "forms = []\n",
    "word = 'interest'\n",
    "\n",
    "for w in en_words:\n",
    "    if wn.morphy(w) == word: # Check if the word has the same base form of the target word\n",
    "        forms.append(w)\n",
    "        \n",
    "forms = set(forms) # Remove duplicate words\n",
    "print('Different forms of the word - interest:', forms)"
   ]
  },
  {
   "cell_type": "markdown",
   "id": "62896397",
   "metadata": {},
   "source": [
    "### Instruction 8"
   ]
  },
  {
   "cell_type": "markdown",
   "id": "94245d32",
   "metadata": {},
   "source": [
    "**Word Similarity:**\n",
    "\n",
    " - We can find the similarity score between 2 word by using the Wu-Palmer metric or the Lesk algorithm.\n",
    "\n",
    "        - The Wu-Palmer imilarity score range from 0 (little similarity) to 1 (identity)\n",
    "        - The Lesk algorithm using Word-sense disambiguation (WSD) to find the synset with the highest number of overlapping words between the context sentence and the defitions in each synset for target word.\n"
   ]
  },
  {
   "cell_type": "markdown",
   "id": "5bd9b729",
   "metadata": {},
   "source": [
    "We will compare **'jet'** and **'helicopter'** using 2 algorithm above."
   ]
  },
  {
   "cell_type": "markdown",
   "id": "bb9301a7",
   "metadata": {},
   "source": [
    "Check similarity using **Wu-Palmer Metric**\n",
    "\n",
    "First let check the definition of each word for specific synset that we use"
   ]
  },
  {
   "cell_type": "markdown",
   "id": "15a8b52a",
   "metadata": {},
   "source": [
    "**Case 1**: Both have the same part of speech (POS)"
   ]
  },
  {
   "cell_type": "code",
   "execution_count": 21,
   "id": "f50fc77a",
   "metadata": {
    "scrolled": true
   },
   "outputs": [
    {
     "name": "stdout",
     "output_type": "stream",
     "text": [
      "Jet definition ( as a noun):  an airplane powered by one or more jet engines\n",
      "Helicopter definition (as a noun):  an aircraft without wings that obtains its lift from the rotation of overhead blades\n"
     ]
    }
   ],
   "source": [
    "jet_noun= wn.synset('jet.n.01') # For\n",
    "print('Jet definition ( as a noun): ', jet_noun.definition())\n",
    "\n",
    "helicopter_noun = wn.synset('helicopter.n.01')\n",
    "print('Helicopter definition (as a noun): ', helicopter_noun.definition())"
   ]
  },
  {
   "cell_type": "markdown",
   "id": "7bd3d229",
   "metadata": {},
   "source": [
    "Output the Wu-Palmer score (Same POS, both words are noun)"
   ]
  },
  {
   "cell_type": "code",
   "execution_count": 22,
   "id": "2db7dbbe",
   "metadata": {
    "scrolled": true
   },
   "outputs": [
    {
     "data": {
      "text/plain": [
       "0.88"
      ]
     },
     "execution_count": 22,
     "metadata": {},
     "output_type": "execute_result"
    }
   ],
   "source": [
    "wn.wup_similarity(jet_noun,helicopter_noun)"
   ]
  },
  {
   "cell_type": "markdown",
   "id": "66fd91f3",
   "metadata": {},
   "source": [
    "**Case 2:** Two word have different POS"
   ]
  },
  {
   "cell_type": "code",
   "execution_count": 23,
   "id": "c7a5d1c5",
   "metadata": {},
   "outputs": [
    {
     "name": "stdout",
     "output_type": "stream",
     "text": [
      "Jet definition ( as a verb):  issue in a jet; come out in a jet; stream or spring forth\n",
      "Helicopter definition (as a noun):  an aircraft without wings that obtains its lift from the rotation of overhead blades\n"
     ]
    }
   ],
   "source": [
    "jet_verb= wn.synset('jet.v.01')\n",
    "print('Jet definition ( as a verb): ', jet_verb.definition())\n",
    "\n",
    "helicopter_noun = wn.synset('helicopter.n.01')\n",
    "print('Helicopter definition (as a noun): ', helicopter_noun.definition())"
   ]
  },
  {
   "cell_type": "markdown",
   "id": "20e7ad95",
   "metadata": {},
   "source": [
    "Output the Wu-Palmer score(Different POS, Jet is verb, Helicoprer is noun"
   ]
  },
  {
   "cell_type": "code",
   "execution_count": 24,
   "id": "f71588d3",
   "metadata": {},
   "outputs": [
    {
     "data": {
      "text/plain": [
       "0.11764705882352941"
      ]
     },
     "execution_count": 24,
     "metadata": {},
     "output_type": "execute_result"
    }
   ],
   "source": [
    "wn.wup_similarity(jet_verb,helicopter_noun)"
   ]
  },
  {
   "cell_type": "markdown",
   "id": "cba98228",
   "metadata": {},
   "source": [
    "Check similarity using **Lesk Algorithm**"
   ]
  },
  {
   "cell_type": "code",
   "execution_count": 25,
   "id": "9256a25a",
   "metadata": {},
   "outputs": [],
   "source": [
    "from nltk.wsd import lesk # Importing the leak before using it"
   ]
  },
  {
   "cell_type": "markdown",
   "id": "871ffbaa",
   "metadata": {},
   "source": [
    "First, we look at all the definition for word **'jet'**"
   ]
  },
  {
   "cell_type": "code",
   "execution_count": 26,
   "id": "ea3a02c3",
   "metadata": {
    "scrolled": true
   },
   "outputs": [
    {
     "name": "stdout",
     "output_type": "stream",
     "text": [
      "Synset('jet.n.01') an airplane powered by one or more jet engines\n",
      "Synset('jet.n.02') the occurrence of a sudden discharge (as of liquid)\n",
      "Synset('jet.n.03') a hard black form of lignite that takes a brilliant polish and is used in jewelry or ornamentation\n",
      "Synset('jet.n.04') atmospheric discharges (lasting 10 msec) bursting from the tops of giant storm clouds in blue cones that widen as they flash upward\n",
      "Synset('k.n.07') street names for ketamine\n",
      "Synset('fountain.n.03') an artificially produced flow of water\n",
      "Synset('jet.v.01') issue in a jet; come out in a jet; stream or spring forth\n",
      "Synset('jet.v.02') fly a jet plane\n",
      "Synset('coal-black.s.01') of the blackest black; similar to the color of jet or coal\n"
     ]
    }
   ],
   "source": [
    "for ss in wn.synsets('jet'):\n",
    "    print(ss, ss.definition())"
   ]
  },
  {
   "cell_type": "markdown",
   "id": "e66a95cf",
   "metadata": {},
   "source": [
    "As, we can see, there are many different definition for the word 'jet' depend on which synset that we choose.\n",
    "\n",
    "We can find which synset has the best definition for contect text below:\n",
    "\n",
    "    \"A water jet cutter, also known as a water jet or waterjet, is an industrial tool capable of cutting a wide variety of materials using an extremely high-pressure jet of water, or a mixture of water and an abrasive substance.\""
   ]
  },
  {
   "cell_type": "markdown",
   "id": "2af24ef5",
   "metadata": {},
   "source": [
    "The code below tokenize the text into word and save to list tokens."
   ]
  },
  {
   "cell_type": "code",
   "execution_count": 27,
   "id": "8ea40cc4",
   "metadata": {},
   "outputs": [],
   "source": [
    "from nltk import word_tokenize\n",
    "text = \"A water jet cutter, also known as a water jet or waterjet, is an industrial tool capable of cutting a wide variety of materials using an extremely high-pressure jet of water, or a mixture of water and an abrasive substance.\"\n",
    "tokens = word_tokenize(text)"
   ]
  },
  {
   "cell_type": "markdown",
   "id": "1b3cf66f",
   "metadata": {},
   "source": [
    "**Using Lesk algoritm without specify the part of speech (POS) to use.**\n",
    "\n",
    "As we can that, the lesk did not do a good job. The output synset does not have the definition match with text's context"
   ]
  },
  {
   "cell_type": "code",
   "execution_count": 28,
   "id": "c1a4730e",
   "metadata": {
    "scrolled": true
   },
   "outputs": [
    {
     "name": "stdout",
     "output_type": "stream",
     "text": [
      "Definition of Synset('jet.n.03') : a hard black form of lignite that takes a brilliant polish and is used in jewelry or ornamentation\n"
     ]
    }
   ],
   "source": [
    "syn1 = lesk(tokens, 'jet')\n",
    "print(\"Definition of\", syn1, ':', syn1.definition())"
   ]
  },
  {
   "cell_type": "markdown",
   "id": "f52dde1e",
   "metadata": {},
   "source": [
    "**Using Lesk algoritm with specify the part of speech (POS) to use.**\n",
    "\n",
    "As we can see, the lesk also not perform a good job even though we specify the pos"
   ]
  },
  {
   "cell_type": "code",
   "execution_count": 29,
   "id": "937d52bb",
   "metadata": {
    "scrolled": true
   },
   "outputs": [
    {
     "name": "stdout",
     "output_type": "stream",
     "text": [
      "Definition of Synset('jet.v.02') : fly a jet plane\n"
     ]
    }
   ],
   "source": [
    "syn2 = lesk(tokens, 'jet', 'v')\n",
    "print(\"Definition of\", syn2, ':', syn2.definition())"
   ]
  },
  {
   "cell_type": "code",
   "execution_count": 30,
   "id": "32b98a59",
   "metadata": {
    "scrolled": true
   },
   "outputs": [
    {
     "name": "stdout",
     "output_type": "stream",
     "text": [
      "Definition of Synset('jet.n.03') : a hard black form of lignite that takes a brilliant polish and is used in jewelry or ornamentation\n"
     ]
    }
   ],
   "source": [
    "syn3 = lesk(tokens, 'jet', 'n')\n",
    "print(\"Definition of\", syn3, ':', syn3.definition())"
   ]
  },
  {
   "cell_type": "markdown",
   "id": "999f6a7b",
   "metadata": {},
   "source": [
    "**Observation on Wu-Palmer and Lesk Algorithm**\n",
    "\n",
    "   - The Wu-Palmer output is score. The result is more accurate if the selected synset of both words have the same POS compare when they are not.\n",
    "   - The Lesk Algorithm output is a synset. There is still a lot improvement to make on the Lesk Algorithm. As we can see in the example above, even though we specifiy the POS, the algorithm could not produce the correct answer. It is because, it compare the target word with context, and the context could be anything not like in the Wu-Palmer - a built database as  WordNet hierarchy"
   ]
  },
  {
   "cell_type": "markdown",
   "id": "29f2d139",
   "metadata": {},
   "source": [
    "### Instruction 9"
   ]
  },
  {
   "cell_type": "markdown",
   "id": "b22dbf46",
   "metadata": {},
   "source": [
    "**SentiWordNet** is a lexical resourse for opinion minining. It divides sentiment scores of each synset into 3 classifications: positivity, negativity, and objectivity with the sum of 3 values is always 1. It was built on top of WordNet. The SentiWordNet can be used check the popularity of a product, people by analyzing the sentiment level on reviews, comments about the product, people on multimedia platform such as: Twitter, Instagram, etc."
   ]
  },
  {
   "cell_type": "markdown",
   "id": "a86dd0a3",
   "metadata": {},
   "source": [
    "Importing the SentiWordNet"
   ]
  },
  {
   "cell_type": "code",
   "execution_count": 31,
   "id": "b8e666a8",
   "metadata": {},
   "outputs": [],
   "source": [
    "from nltk.corpus import sentiwordnet as swn\n",
    "from nltk.corpus import stopwords"
   ]
  },
  {
   "cell_type": "markdown",
   "id": "1d829219",
   "metadata": {},
   "source": [
    "The code below find a list of senti-synsets of the the word **'fast'**, and print out the polarity score for each synset"
   ]
  },
  {
   "cell_type": "code",
   "execution_count": 32,
   "id": "b17038d2",
   "metadata": {
    "scrolled": false
   },
   "outputs": [
    {
     "name": "stdout",
     "output_type": "stream",
     "text": [
      "<fast.n.01: PosScore=0.0 NegScore=0.0>\n",
      "<fast.v.01: PosScore=0.0 NegScore=0.0>\n",
      "<fast.v.02: PosScore=0.0 NegScore=0.0>\n",
      "<fast.a.01: PosScore=0.0 NegScore=0.0>\n",
      "<fast.a.02: PosScore=0.0 NegScore=0.0>\n",
      "<fast.a.03: PosScore=0.0 NegScore=0.0>\n",
      "<fast.s.04: PosScore=0.0 NegScore=0.0>\n",
      "<fast.s.05: PosScore=0.125 NegScore=0.0>\n",
      "<debauched.s.01: PosScore=0.375 NegScore=0.625>\n",
      "<flying.s.02: PosScore=0.25 NegScore=0.25>\n",
      "<fast.s.08: PosScore=0.0 NegScore=0.0>\n",
      "<firm.s.10: PosScore=0.5 NegScore=0.0>\n",
      "<fast.s.10: PosScore=0.25 NegScore=0.0>\n",
      "<fast.r.01: PosScore=0.0 NegScore=0.0>\n",
      "<fast.r.02: PosScore=0.0 NegScore=0.0>\n"
     ]
    }
   ],
   "source": [
    "senti_list = list(swn.senti_synsets('fast'))\n",
    "for item in senti_list:\n",
    "    print(item)"
   ]
  },
  {
   "cell_type": "markdown",
   "id": "0b8731f3",
   "metadata": {},
   "source": [
    "The polarity of the word 'fast'"
   ]
  },
  {
   "cell_type": "code",
   "execution_count": 33,
   "id": "66c42c9e",
   "metadata": {},
   "outputs": [
    {
     "name": "stdout",
     "output_type": "stream",
     "text": [
      "The polarity score of word 'fast': \n",
      "Positive: 0.10\n",
      "Negative: 0.06\n",
      "Objective: 0.84\n"
     ]
    }
   ],
   "source": [
    "pos = 0\n",
    "neg = 0\n",
    "obj = 0\n",
    "\n",
    "for item in senti_list:\n",
    "    pos += item.pos_score()\n",
    "    neg += item.neg_score()\n",
    "    obj += item.obj_score()\n",
    "print(\"The polarity score of word 'fast': \")\n",
    "pos = \"%.2f\" % (pos/len(senti_list))\n",
    "neg = \"%.2f\" % (neg/len(senti_list))\n",
    "obj = \"%.2f\" % (obj/len(senti_list))\n",
    "print('Positive:', pos)\n",
    "print('Negative:', neg)\n",
    "print('Objective:', obj)"
   ]
  },
  {
   "cell_type": "markdown",
   "id": "304ebbdb",
   "metadata": {},
   "source": [
    "Output the polarity for each word in the sentence.\n",
    "\n",
    "    - Before we can calculate the polarity, we need to remove number, stopword and punctuation in the text\n",
    "    - Make unique list, so we only output each word once"
   ]
  },
  {
   "cell_type": "code",
   "execution_count": 34,
   "id": "f6fdb59e",
   "metadata": {},
   "outputs": [],
   "source": [
    "senti_list = list(swn.senti_synsets('the'))\n",
    "for item in senti_list:\n",
    "    print(item)"
   ]
  },
  {
   "cell_type": "code",
   "execution_count": 35,
   "id": "0d9f1eb1",
   "metadata": {
    "scrolled": true
   },
   "outputs": [
    {
     "name": "stdout",
     "output_type": "stream",
     "text": [
      "\n",
      "The polarity score of word - Today -\n",
      "Positive: 0.09\n",
      "Negative: 0.00\n",
      "Objective: 0.91\n",
      "\n",
      "The polarity score of word - is -\n",
      "Positive: 0.03\n",
      "Negative: 0.02\n",
      "Objective: 0.95\n",
      "\n",
      "The polarity score of word - a -\n",
      "Positive: 0.02\n",
      "Negative: 0.04\n",
      "Objective: 0.95\n",
      "\n",
      "The polarity score of word - beautiful -\n",
      "Positive: 0.69\n",
      "Negative: 0.00\n",
      "Objective: 0.31\n",
      "\n",
      "The polarity score of word - day -\n",
      "Positive: 0.05\n",
      "Negative: 0.00\n",
      "Objective: 0.95\n"
     ]
    }
   ],
   "source": [
    "sent = 'Today is a beautiful day'\n",
    "\n",
    "tokens = word_tokenize(sent)\n",
    "\n",
    "for token in tokens:\n",
    "    senti_list = list(swn.senti_synsets(token))\n",
    "    pos = 0\n",
    "    neg = 0\n",
    "    obj = 0\n",
    "\n",
    "    for item in senti_list:\n",
    "        pos += item.pos_score()\n",
    "        neg += item.neg_score()\n",
    "        obj += item.obj_score()\n",
    "    print(\"\\nThe polarity score of word -\",token, \"-\")\n",
    "    pos = \"%.2f\" % (pos/len(senti_list))\n",
    "    neg = \"%.2f\" % (neg/len(senti_list))\n",
    "    obj = \"%.2f\" % (obj/len(senti_list))\n",
    "    print('Positive:', pos)\n",
    "    print('Negative:', neg)\n",
    "    print('Objective:', obj)\n",
    "   \n",
    "      "
   ]
  },
  {
   "cell_type": "markdown",
   "id": "82c09e41",
   "metadata": {},
   "source": [
    "**Observation for SentiWordNet**\n",
    "\n",
    "    - In general, if the word is noun or verb, it will properly get the high objective score. By knowing the polarity score of each word in the sentences (context), we can use them to calculate the general sentiment of the whole context."
   ]
  },
  {
   "cell_type": "markdown",
   "id": "31630ea3",
   "metadata": {},
   "source": [
    "### Instruction 10"
   ]
  },
  {
   "cell_type": "markdown",
   "id": "e078861a",
   "metadata": {},
   "source": [
    "**Collocations** are words that usually appear together to form a greater meaning or unique concept than the sum of their parts. It is because there are many case that a group of word usually appear together but do not provide greater meaning such as 'of the'."
   ]
  },
  {
   "cell_type": "markdown",
   "id": "0329c13a",
   "metadata": {},
   "source": [
    "Import the book objects"
   ]
  },
  {
   "cell_type": "code",
   "execution_count": 36,
   "id": "a0a914c4",
   "metadata": {
    "scrolled": false
   },
   "outputs": [
    {
     "name": "stdout",
     "output_type": "stream",
     "text": [
      "*** Introductory Examples for the NLTK Book ***\n",
      "Loading text1, ..., text9 and sent1, ..., sent9\n",
      "Type the name of the text or sentence to view it.\n",
      "Type: 'texts()' or 'sents()' to list the materials.\n",
      "text1: Moby Dick by Herman Melville 1851\n",
      "text2: Sense and Sensibility by Jane Austen 1811\n",
      "text3: The Book of Genesis\n",
      "text4: Inaugural Address Corpus\n",
      "text5: Chat Corpus\n",
      "text6: Monty Python and the Holy Grail\n",
      "text7: Wall Street Journal\n",
      "text8: Personals Corpus\n",
      "text9: The Man Who Was Thursday by G . K . Chesterton 1908\n"
     ]
    }
   ],
   "source": [
    "from nltk.book import *\n"
   ]
  },
  {
   "cell_type": "markdown",
   "id": "24c0a0b8",
   "metadata": {},
   "source": [
    "Output collocations for text4"
   ]
  },
  {
   "cell_type": "code",
   "execution_count": 37,
   "id": "6bd92bbb",
   "metadata": {
    "scrolled": true
   },
   "outputs": [
    {
     "name": "stdout",
     "output_type": "stream",
     "text": [
      "United States; fellow citizens; years ago; four years; Federal\n",
      "Government; General Government; American people; Vice President; God\n",
      "bless; Chief Justice; one another; fellow Americans; Old World;\n",
      "Almighty God; Fellow citizens; Chief Magistrate; every citizen; Indian\n",
      "tribes; public debt; foreign nations\n"
     ]
    }
   ],
   "source": [
    "text4.collocations()"
   ]
  },
  {
   "cell_type": "markdown",
   "id": "6c98dc9c",
   "metadata": {},
   "source": [
    "Calculating the pointwise mutual information (PMI) for **\"United States\"** and **'of the'**"
   ]
  },
  {
   "cell_type": "markdown",
   "id": "3cd4e7b9",
   "metadata": {},
   "source": [
    "For **United States**"
   ]
  },
  {
   "cell_type": "code",
   "execution_count": 38,
   "id": "343dff59",
   "metadata": {
    "scrolled": true
   },
   "outputs": [
    {
     "name": "stdout",
     "output_type": "stream",
     "text": [
      "p(United States) =  0.015860349127182045\n",
      "p(United) =  0.0170573566084788\n",
      "p(States) =  0.03301745635910224\n",
      "pmi =  4.815657649820885\n"
     ]
    }
   ],
   "source": [
    "text = ' '.join(text4.tokens)\n",
    "\n",
    "import math\n",
    "vocab = len(set(text4))\n",
    "us = text.count('United States')/vocab\n",
    "print(\"p(United States) = \",us )\n",
    "u = text.count('United')/vocab\n",
    "print(\"p(United) = \", u)\n",
    "s = text.count('States')/vocab\n",
    "print(\"p(States) = \", s)\n",
    "pmi = math.log2(us / (u * s))\n",
    "print('pmi = ', pmi)"
   ]
  },
  {
   "cell_type": "markdown",
   "id": "33b3ddf1",
   "metadata": {},
   "source": [
    "For **of the**"
   ]
  },
  {
   "cell_type": "code",
   "execution_count": 39,
   "id": "3a71b48c",
   "metadata": {
    "scrolled": true
   },
   "outputs": [
    {
     "name": "stdout",
     "output_type": "stream",
     "text": [
      "p(of the) =  0.20089775561097256\n",
      "p(of) =  0.7487281795511221\n",
      "p(the) =  0.9533167082294264\n",
      "pmi =  -1.8290080938996587\n"
     ]
    }
   ],
   "source": [
    "hg = text.count('of the')/vocab\n",
    "print(\"p(of the) = \",hg )\n",
    "o = text.count('of')/vocab\n",
    "print(\"p(of) = \", o)\n",
    "t = text.count('the ')/vocab # space so it doesn't capture 'their' etc.\n",
    "print('p(the) = ', t)\n",
    "pmi = math.log2(hg / (o * t))\n",
    "print('pmi = ', pmi)"
   ]
  },
  {
   "cell_type": "markdown",
   "id": "481063c5",
   "metadata": {},
   "source": [
    "**Comments and Interpretation**\n",
    "\n",
    "    - If a group of words has a higher score on PMI, it is more likely to be a collocation. This can be see clear when comparing the PMI between 'United States' and 'of the'.\n",
    "    - The PMI based on the idea that if a group of words has the high join probability, and some of them, or all of them have the high probabilty seperately. It is more likely that the group was formed by chance, and not convey any special meaning. However, of each have high probability and the join probabilty is low. It mean, there must be a reason for them to stay close together, to create a higher meaning."
   ]
  }
 ],
 "metadata": {
  "kernelspec": {
   "display_name": "Python 3 (ipykernel)",
   "language": "python",
   "name": "python3"
  },
  "language_info": {
   "codemirror_mode": {
    "name": "ipython",
    "version": 3
   },
   "file_extension": ".py",
   "mimetype": "text/x-python",
   "name": "python",
   "nbconvert_exporter": "python",
   "pygments_lexer": "ipython3",
   "version": "3.10.4"
  }
 },
 "nbformat": 4,
 "nbformat_minor": 5
}
