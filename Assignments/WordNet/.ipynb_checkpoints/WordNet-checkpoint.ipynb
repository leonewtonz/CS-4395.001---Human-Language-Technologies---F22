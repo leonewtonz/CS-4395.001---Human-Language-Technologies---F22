{
 "cells": [
  {
   "cell_type": "markdown",
   "id": "4e27d2e9",
   "metadata": {},
   "source": [
    "# WordNet"
   ]
  },
  {
   "cell_type": "markdown",
   "id": "ee34702c",
   "metadata": {},
   "source": [
    "**CS 4395 - Intro to NLP**\n",
    "\n",
    "**Dr. Karen Mazidi**\n",
    "\n",
    "**Prepare by Leo Nguyen - ldn190002**"
   ]
  },
  {
   "cell_type": "markdown",
   "id": "528cba6a",
   "metadata": {},
   "source": [
    "### Instruction 1"
   ]
  },
  {
   "cell_type": "markdown",
   "id": "d92e59d8",
   "metadata": {},
   "source": [
    "**Summary of WordNet**\n",
    "\n",
    "WordNet is a lexical database of English. Nouns, verbs, adjectives and adverbs are organized into a hierarchy of synsets. A synset is a cognitive synonym set, each expressing a distinct concept."
   ]
  },
  {
   "cell_type": "markdown",
   "id": "a6bf2424",
   "metadata": {},
   "source": [
    "### Intruction 2"
   ]
  },
  {
   "cell_type": "markdown",
   "id": "f7e27d70",
   "metadata": {},
   "source": [
    "Import WordNet"
   ]
  },
  {
   "cell_type": "code",
   "execution_count": 1,
   "id": "75eb0810",
   "metadata": {},
   "outputs": [],
   "source": [
    "from nltk.corpus import wordnet as wn"
   ]
  },
  {
   "cell_type": "markdown",
   "id": "f5f9a498",
   "metadata": {},
   "source": [
    "Get all synsets of 'book'"
   ]
  },
  {
   "cell_type": "code",
   "execution_count": 54,
   "id": "e62d1ed5",
   "metadata": {
    "scrolled": true
   },
   "outputs": [
    {
     "data": {
      "text/plain": [
       "[Synset('house.n.01'),\n",
       " Synset('firm.n.01'),\n",
       " Synset('house.n.03'),\n",
       " Synset('house.n.04'),\n",
       " Synset('house.n.05'),\n",
       " Synset('house.n.06'),\n",
       " Synset('house.n.07'),\n",
       " Synset('sign_of_the_zodiac.n.01'),\n",
       " Synset('house.n.09'),\n",
       " Synset('family.n.01'),\n",
       " Synset('theater.n.01'),\n",
       " Synset('house.n.12'),\n",
       " Synset('house.v.01'),\n",
       " Synset('house.v.02')]"
      ]
     },
     "execution_count": 54,
     "metadata": {},
     "output_type": "execute_result"
    }
   ],
   "source": [
    "wn.synsets('house')"
   ]
  },
  {
   "cell_type": "markdown",
   "id": "350313de",
   "metadata": {},
   "source": [
    "### Instruction 3"
   ]
  },
  {
   "cell_type": "markdown",
   "id": "f12ca22d",
   "metadata": {},
   "source": [
    "**For each synset we can extract:**\n",
    "\n",
    "    - Definition\n",
    "    - Usage examples\n",
    "    - Lemmas"
   ]
  },
  {
   "cell_type": "markdown",
   "id": "fa95fa48",
   "metadata": {},
   "source": [
    "Extract definition"
   ]
  },
  {
   "cell_type": "code",
   "execution_count": 55,
   "id": "a6c0f50a",
   "metadata": {},
   "outputs": [
    {
     "data": {
      "text/plain": [
       "'a dwelling that serves as living quarters for one or more families'"
      ]
     },
     "execution_count": 55,
     "metadata": {},
     "output_type": "execute_result"
    }
   ],
   "source": [
    "wn.synset('house.n.01').definition() "
   ]
  },
  {
   "cell_type": "markdown",
   "id": "641e42d5",
   "metadata": {},
   "source": [
    "Extract usage examples"
   ]
  },
  {
   "cell_type": "code",
   "execution_count": 56,
   "id": "a4a2ccab",
   "metadata": {},
   "outputs": [
    {
     "data": {
      "text/plain": [
       "['he has a house on Cape Cod', 'she felt she had to get out of the house']"
      ]
     },
     "execution_count": 56,
     "metadata": {},
     "output_type": "execute_result"
    }
   ],
   "source": [
    "wn.synset('house.n.01').examples()"
   ]
  },
  {
   "cell_type": "markdown",
   "id": "576745dd",
   "metadata": {},
   "source": [
    "Extract lemmas"
   ]
  },
  {
   "cell_type": "code",
   "execution_count": 57,
   "id": "5e945a46",
   "metadata": {},
   "outputs": [
    {
     "data": {
      "text/plain": [
       "[Lemma('house.n.01.house')]"
      ]
     },
     "execution_count": 57,
     "metadata": {},
     "output_type": "execute_result"
    }
   ],
   "source": [
    "wn.synset('house.n.01').lemmas()"
   ]
  },
  {
   "cell_type": "markdown",
   "id": "b18464bd",
   "metadata": {},
   "source": [
    "**Traverse up the WordNet hierarchy**"
   ]
  },
  {
   "cell_type": "code",
   "execution_count": 60,
   "id": "25143427",
   "metadata": {},
   "outputs": [
    {
     "data": {
      "text/plain": [
       "[Synset('building.n.01'),\n",
       " Synset('dwelling.n.01'),\n",
       " Synset('structure.n.01'),\n",
       " Synset('housing.n.01'),\n",
       " Synset('artifact.n.01'),\n",
       " Synset('whole.n.02'),\n",
       " Synset('object.n.01'),\n",
       " Synset('physical_entity.n.01'),\n",
       " Synset('entity.n.01')]"
      ]
     },
     "execution_count": 60,
     "metadata": {},
     "output_type": "execute_result"
    }
   ],
   "source": [
    "house = wn.synset('house.n.01')\n",
    "hyper = lambda s: s.hypernyms()\n",
    "list(house.closure(hyper))"
   ]
  },
  {
   "cell_type": "markdown",
   "id": "dd1da73e",
   "metadata": {},
   "source": [
    "**WordNet hierarchy for nouns**"
   ]
  },
  {
   "cell_type": "markdown",
   "id": "08146c6d",
   "metadata": {},
   "source": [
    "The WordNet hierarchy for nouns was organized into different levels. The upper levels are more general and more abstract compare to the lower levels. The top of the hierarchy for nouns is 'entity'"
   ]
  },
  {
   "cell_type": "markdown",
   "id": "432627bc",
   "metadata": {},
   "source": [
    "### Intruction 4"
   ]
  },
  {
   "cell_type": "markdown",
   "id": "d27617d4",
   "metadata": {},
   "source": [
    "**For each synset we can extract:**\n",
    "\n",
    "    - Hypernyms (higher)\n",
    "    - Hyponyms (lower)\n",
    "    - Meronyms (part of)\n",
    "    - Holonyms (whole)\n",
    "    - Antonyms (opposite)"
   ]
  },
  {
   "cell_type": "code",
   "execution_count": 64,
   "id": "2002cfbd",
   "metadata": {
    "scrolled": true
   },
   "outputs": [
    {
     "name": "stdout",
     "output_type": "stream",
     "text": [
      "Hypernyms:  [Synset('building.n.01'), Synset('dwelling.n.01')]\n",
      "\n",
      "Hyponyms:  [Synset('beach_house.n.01'), Synset('boarding_house.n.01'), Synset('bungalow.n.01'), Synset('cabin.n.02'), Synset('chalet.n.01'), Synset('chapterhouse.n.02'), Synset('country_house.n.01'), Synset('detached_house.n.01'), Synset('dollhouse.n.01'), Synset('duplex_house.n.01'), Synset('farmhouse.n.01'), Synset('gatehouse.n.01'), Synset('guesthouse.n.01'), Synset('hacienda.n.02'), Synset('lodge.n.04'), Synset('lodging_house.n.01'), Synset('maisonette.n.02'), Synset('mansion.n.02'), Synset('ranch_house.n.01'), Synset('residence.n.02'), Synset('row_house.n.01'), Synset('safe_house.n.01'), Synset('saltbox.n.01'), Synset('sod_house.n.01'), Synset('solar_house.n.01'), Synset('tract_house.n.01'), Synset('villa.n.02')]\n",
      "\n",
      "Meronyms:  [Synset('library.n.01'), Synset('loft.n.02'), Synset('porch.n.01'), Synset('study.n.05')]\n",
      "\n",
      "Meronyms:  []\n",
      "\n",
      "Holonyms:  []\n"
     ]
    }
   ],
   "source": [
    "house = wn.synset('house.n.01')\n",
    "print('Hypernyms: ', house.hypernyms())\n",
    "print('\\nHyponyms: ', house.hyponyms())\n",
    "print('\\nMeronyms: ', house.part_meronyms())\n",
    "print('\\nMeronyms: ', house.substance_meronyms())\n",
    "print('\\nHolonyms: ', house.member_holonyms())"
   ]
  },
  {
   "cell_type": "code",
   "execution_count": 66,
   "id": "4aa71016",
   "metadata": {},
   "outputs": [
    {
     "ename": "AttributeError",
     "evalue": "'Synset' object has no attribute 'antonyms'",
     "output_type": "error",
     "traceback": [
      "\u001b[1;31m---------------------------------------------------------------------------\u001b[0m",
      "\u001b[1;31mAttributeError\u001b[0m                            Traceback (most recent call last)",
      "Input \u001b[1;32mIn [66]\u001b[0m, in \u001b[0;36m<cell line: 1>\u001b[1;34m()\u001b[0m\n\u001b[1;32m----> 1\u001b[0m \u001b[38;5;28mprint\u001b[39m(\u001b[38;5;124m'\u001b[39m\u001b[38;5;130;01m\\n\u001b[39;00m\u001b[38;5;124mAntonyms: \u001b[39m\u001b[38;5;124m'\u001b[39m, \u001b[43mhouse\u001b[49m\u001b[38;5;241;43m.\u001b[39;49m\u001b[43mantonyms\u001b[49m())\n",
      "\u001b[1;31mAttributeError\u001b[0m: 'Synset' object has no attribute 'antonyms'"
     ]
    }
   ],
   "source": [
    "print('\\nAntonyms: ', house.antonyms())"
   ]
  }
 ],
 "metadata": {
  "kernelspec": {
   "display_name": "Python 3 (ipykernel)",
   "language": "python",
   "name": "python3"
  },
  "language_info": {
   "codemirror_mode": {
    "name": "ipython",
    "version": 3
   },
   "file_extension": ".py",
   "mimetype": "text/x-python",
   "name": "python",
   "nbconvert_exporter": "python",
   "pygments_lexer": "ipython3",
   "version": "3.10.4"
  }
 },
 "nbformat": 4,
 "nbformat_minor": 5
}
