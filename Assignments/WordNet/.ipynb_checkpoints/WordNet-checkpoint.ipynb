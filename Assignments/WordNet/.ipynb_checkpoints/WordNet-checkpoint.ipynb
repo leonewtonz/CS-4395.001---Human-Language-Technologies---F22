{
 "cells": [
  {
   "cell_type": "markdown",
   "id": "4e27d2e9",
   "metadata": {},
   "source": [
    "# WordNet"
   ]
  },
  {
   "cell_type": "markdown",
   "id": "ee34702c",
   "metadata": {},
   "source": [
    "**CS 4395 - Intro to NLP**\n",
    "\n",
    "**Dr. Karen Mazidi**\n",
    "\n",
    "**Prepare by Leo Nguyen - ldn190002**"
   ]
  },
  {
   "cell_type": "markdown",
   "id": "528cba6a",
   "metadata": {},
   "source": [
    "### Instruction 1"
   ]
  },
  {
   "cell_type": "markdown",
   "id": "d92e59d8",
   "metadata": {},
   "source": [
    "**Summary of WordNet**\n",
    "\n",
    "WordNet is a lexical database of English. Nouns, verbs, adjectives and adverbs are organized into a hierarchy of synsets. A synset is a cognitive synonym set, each expressing a distinct concept."
   ]
  },
  {
   "cell_type": "markdown",
   "id": "a6bf2424",
   "metadata": {},
   "source": [
    "### Intruction 2"
   ]
  },
  {
   "cell_type": "markdown",
   "id": "f7e27d70",
   "metadata": {},
   "source": [
    "Import WordNet"
   ]
  },
  {
   "cell_type": "code",
   "execution_count": 1,
   "id": "75eb0810",
   "metadata": {},
   "outputs": [],
   "source": [
    "from nltk.corpus import wordnet as wn"
   ]
  },
  {
   "cell_type": "markdown",
   "id": "f5f9a498",
   "metadata": {},
   "source": [
    "Get all synsets of 'book'"
   ]
  },
  {
   "cell_type": "code",
   "execution_count": 2,
   "id": "e62d1ed5",
   "metadata": {
    "scrolled": true
   },
   "outputs": [
    {
     "data": {
      "text/plain": [
       "[Synset('house.n.01'),\n",
       " Synset('firm.n.01'),\n",
       " Synset('house.n.03'),\n",
       " Synset('house.n.04'),\n",
       " Synset('house.n.05'),\n",
       " Synset('house.n.06'),\n",
       " Synset('house.n.07'),\n",
       " Synset('sign_of_the_zodiac.n.01'),\n",
       " Synset('house.n.09'),\n",
       " Synset('family.n.01'),\n",
       " Synset('theater.n.01'),\n",
       " Synset('house.n.12'),\n",
       " Synset('house.v.01'),\n",
       " Synset('house.v.02')]"
      ]
     },
     "execution_count": 2,
     "metadata": {},
     "output_type": "execute_result"
    }
   ],
   "source": [
    "wn.synsets('house')"
   ]
  },
  {
   "cell_type": "markdown",
   "id": "350313de",
   "metadata": {},
   "source": [
    "### Instruction 3"
   ]
  },
  {
   "cell_type": "markdown",
   "id": "f12ca22d",
   "metadata": {},
   "source": [
    "**For each synset we can extract:**\n",
    "\n",
    "    - Definition\n",
    "    - Usage examples\n",
    "    - Lemmas"
   ]
  },
  {
   "cell_type": "markdown",
   "id": "fa95fa48",
   "metadata": {},
   "source": [
    "Extract definition"
   ]
  },
  {
   "cell_type": "code",
   "execution_count": 3,
   "id": "a6c0f50a",
   "metadata": {},
   "outputs": [
    {
     "data": {
      "text/plain": [
       "'a dwelling that serves as living quarters for one or more families'"
      ]
     },
     "execution_count": 3,
     "metadata": {},
     "output_type": "execute_result"
    }
   ],
   "source": [
    "house = wn.synset('house.n.01') # Assign the selected synset to house\n",
    "house.definition() "
   ]
  },
  {
   "cell_type": "markdown",
   "id": "641e42d5",
   "metadata": {},
   "source": [
    "Extract usage examples"
   ]
  },
  {
   "cell_type": "code",
   "execution_count": 4,
   "id": "a4a2ccab",
   "metadata": {},
   "outputs": [
    {
     "data": {
      "text/plain": [
       "['he has a house on Cape Cod', 'she felt she had to get out of the house']"
      ]
     },
     "execution_count": 4,
     "metadata": {},
     "output_type": "execute_result"
    }
   ],
   "source": [
    "house.examples()"
   ]
  },
  {
   "cell_type": "markdown",
   "id": "576745dd",
   "metadata": {},
   "source": [
    "Extract lemmas"
   ]
  },
  {
   "cell_type": "code",
   "execution_count": 5,
   "id": "5e945a46",
   "metadata": {},
   "outputs": [
    {
     "data": {
      "text/plain": [
       "[Lemma('house.n.01.house')]"
      ]
     },
     "execution_count": 5,
     "metadata": {},
     "output_type": "execute_result"
    }
   ],
   "source": [
    "house.lemmas()"
   ]
  },
  {
   "cell_type": "markdown",
   "id": "b18464bd",
   "metadata": {},
   "source": [
    "**Traverse up the WordNet hierarchy**"
   ]
  },
  {
   "cell_type": "markdown",
   "id": "75a59ad5",
   "metadata": {},
   "source": [
    "The hierarchy for nouns has 'entity' at the top."
   ]
  },
  {
   "cell_type": "markdown",
   "id": "5e3baaf3",
   "metadata": {},
   "source": [
    "As the selected synset above is noun. So it's top level is 'entity'.\n",
    "\n",
    "We can verify that with the code below"
   ]
  },
  {
   "cell_type": "code",
   "execution_count": 6,
   "id": "f917b837",
   "metadata": {},
   "outputs": [
    {
     "data": {
      "text/plain": [
       "[Synset('entity.n.01')]"
      ]
     },
     "execution_count": 6,
     "metadata": {},
     "output_type": "execute_result"
    }
   ],
   "source": [
    "house.root_hypernyms()"
   ]
  },
  {
   "cell_type": "markdown",
   "id": "50668b3a",
   "metadata": {},
   "source": [
    "The code below traverse up the WordNet hierarchy of selected synset and print out each level as we go.\n",
    "\n",
    "The loop stop when it reach the top level which is 'entity'"
   ]
  },
  {
   "cell_type": "code",
   "execution_count": 7,
   "id": "31b3fd7c",
   "metadata": {
    "scrolled": true
   },
   "outputs": [
    {
     "name": "stdout",
     "output_type": "stream",
     "text": [
      "Synset('building.n.01')\n",
      "Synset('structure.n.01')\n",
      "Synset('artifact.n.01')\n",
      "Synset('whole.n.02')\n",
      "Synset('object.n.01')\n",
      "Synset('physical_entity.n.01')\n",
      "Synset('entity.n.01')\n"
     ]
    }
   ],
   "source": [
    "hyp = house.hypernyms()[0]\n",
    "top = wn.synset('entity.n.01')  \n",
    "while hyp:\n",
    "    print(hyp)\n",
    "    if hyp == top:\n",
    "        break\n",
    "    if hyp.hypernyms():\n",
    "        hyp = hyp.hypernyms()[0]"
   ]
  },
  {
   "cell_type": "markdown",
   "id": "dd1da73e",
   "metadata": {},
   "source": [
    "**WordNet hierarchy for nouns**"
   ]
  },
  {
   "cell_type": "markdown",
   "id": "08146c6d",
   "metadata": {},
   "source": [
    "The WordNet hierarchy for nouns was organized into different levels. The upper levels are more general and more abstract concepts compare to the lower levels. The top of the hierarchy for nouns is 'entity'"
   ]
  },
  {
   "cell_type": "markdown",
   "id": "432627bc",
   "metadata": {},
   "source": [
    "### Intruction 4"
   ]
  },
  {
   "cell_type": "markdown",
   "id": "d27617d4",
   "metadata": {},
   "source": [
    "**For each synset we can extract:**\n",
    "\n",
    "    - Hypernyms (higher)\n",
    "    - Hyponyms (lower)\n",
    "    - Meronyms (part of)\n",
    "    - Holonyms (whole)\n",
    "    - Antonyms (opposite)"
   ]
  },
  {
   "cell_type": "markdown",
   "id": "716b385f",
   "metadata": {},
   "source": [
    "**Hypernyms**: higher, more general concept.\n",
    "\n",
    "The code below output the house's hypernyms"
   ]
  },
  {
   "cell_type": "code",
   "execution_count": 8,
   "id": "f2678aa3",
   "metadata": {
    "scrolled": true
   },
   "outputs": [
    {
     "data": {
      "text/plain": [
       "[Synset('building.n.01'), Synset('dwelling.n.01')]"
      ]
     },
     "execution_count": 8,
     "metadata": {},
     "output_type": "execute_result"
    }
   ],
   "source": [
    "house.hypernyms()"
   ]
  },
  {
   "cell_type": "markdown",
   "id": "f5a903c4",
   "metadata": {},
   "source": [
    "**Hyponyms** : lower, more specific concept\n",
    "\n",
    "The code below output the house's hyponyms"
   ]
  },
  {
   "cell_type": "code",
   "execution_count": 9,
   "id": "6e72e83e",
   "metadata": {
    "scrolled": true
   },
   "outputs": [
    {
     "data": {
      "text/plain": [
       "[Synset('beach_house.n.01'),\n",
       " Synset('boarding_house.n.01'),\n",
       " Synset('bungalow.n.01'),\n",
       " Synset('cabin.n.02'),\n",
       " Synset('chalet.n.01'),\n",
       " Synset('chapterhouse.n.02'),\n",
       " Synset('country_house.n.01'),\n",
       " Synset('detached_house.n.01'),\n",
       " Synset('dollhouse.n.01'),\n",
       " Synset('duplex_house.n.01'),\n",
       " Synset('farmhouse.n.01'),\n",
       " Synset('gatehouse.n.01'),\n",
       " Synset('guesthouse.n.01'),\n",
       " Synset('hacienda.n.02'),\n",
       " Synset('lodge.n.04'),\n",
       " Synset('lodging_house.n.01'),\n",
       " Synset('maisonette.n.02'),\n",
       " Synset('mansion.n.02'),\n",
       " Synset('ranch_house.n.01'),\n",
       " Synset('residence.n.02'),\n",
       " Synset('row_house.n.01'),\n",
       " Synset('safe_house.n.01'),\n",
       " Synset('saltbox.n.01'),\n",
       " Synset('sod_house.n.01'),\n",
       " Synset('solar_house.n.01'),\n",
       " Synset('tract_house.n.01'),\n",
       " Synset('villa.n.02')]"
      ]
     },
     "execution_count": 9,
     "metadata": {},
     "output_type": "execute_result"
    }
   ],
   "source": [
    "house.hyponyms()\n"
   ]
  },
  {
   "cell_type": "markdown",
   "id": "858f0bd5",
   "metadata": {},
   "source": [
    "**Meronyms**: a part of something. It coud be:\n",
    "\n",
    "    - part_meronyms(): by parts\n",
    "    - substance_meronyms(): by substances"
   ]
  },
  {
   "cell_type": "markdown",
   "id": "1b344322",
   "metadata": {},
   "source": [
    "The code below output the house's meronyms by parts"
   ]
  },
  {
   "cell_type": "code",
   "execution_count": 10,
   "id": "8b906248",
   "metadata": {
    "scrolled": false
   },
   "outputs": [
    {
     "data": {
      "text/plain": [
       "[Synset('library.n.01'),\n",
       " Synset('loft.n.02'),\n",
       " Synset('porch.n.01'),\n",
       " Synset('study.n.05')]"
      ]
     },
     "execution_count": 10,
     "metadata": {},
     "output_type": "execute_result"
    }
   ],
   "source": [
    "house.part_meronyms()"
   ]
  },
  {
   "cell_type": "markdown",
   "id": "c489946e",
   "metadata": {},
   "source": [
    "The code below output the house's meronyms by substance.\n",
    "\n",
    "It is empty because house is not subtances of anything"
   ]
  },
  {
   "cell_type": "code",
   "execution_count": 11,
   "id": "d6d070ad",
   "metadata": {
    "scrolled": false
   },
   "outputs": [
    {
     "data": {
      "text/plain": [
       "[]"
      ]
     },
     "execution_count": 11,
     "metadata": {},
     "output_type": "execute_result"
    }
   ],
   "source": [
    "house.substance_meronyms()"
   ]
  },
  {
   "cell_type": "markdown",
   "id": "e4490757",
   "metadata": {},
   "source": [
    "**Holonyms**: a whole of something. It could be:\n",
    "\n",
    "    - part_holonyms(): by parts\n",
    "    - substance_holonyms(): by substances"
   ]
  },
  {
   "cell_type": "markdown",
   "id": "50cb49be",
   "metadata": {},
   "source": [
    "The code below output the house's holonyms by parts"
   ]
  },
  {
   "cell_type": "code",
   "execution_count": 12,
   "id": "9876f7ce",
   "metadata": {
    "scrolled": true
   },
   "outputs": [
    {
     "data": {
      "text/plain": [
       "[]"
      ]
     },
     "execution_count": 12,
     "metadata": {},
     "output_type": "execute_result"
    }
   ],
   "source": [
    "house.part_holonyms()"
   ]
  },
  {
   "cell_type": "markdown",
   "id": "ad7636b0",
   "metadata": {},
   "source": [
    "The code below output the house's holonyms by substances"
   ]
  },
  {
   "cell_type": "code",
   "execution_count": 21,
   "id": "94eb3986",
   "metadata": {
    "scrolled": false
   },
   "outputs": [
    {
     "data": {
      "text/plain": [
       "[]"
      ]
     },
     "execution_count": 21,
     "metadata": {},
     "output_type": "execute_result"
    }
   ],
   "source": [
    "house.part_holonyms()"
   ]
  },
  {
   "cell_type": "markdown",
   "id": "ed521bbe",
   "metadata": {},
   "source": [
    "**Antonyms**: oppostite of something.\n",
    "\n",
    "The code below output the house's antonyms.\n",
    "\n",
    "The list is empty even we try it the lemmas() function. \n",
    "\n",
    "This mostly happen with nouns. We can easily find the antonyms with verbs or adjectives"
   ]
  },
  {
   "cell_type": "code",
   "execution_count": 27,
   "id": "b6bd4dab",
   "metadata": {
    "scrolled": true
   },
   "outputs": [
    {
     "data": {
      "text/plain": [
       "[[]]"
      ]
     },
     "execution_count": 27,
     "metadata": {},
     "output_type": "execute_result"
    }
   ],
   "source": [
    "[lemma.antonyms() for lemma in house.lemmas()]"
   ]
  }
 ],
 "metadata": {
  "kernelspec": {
   "display_name": "Python 3 (ipykernel)",
   "language": "python",
   "name": "python3"
  },
  "language_info": {
   "codemirror_mode": {
    "name": "ipython",
    "version": 3
   },
   "file_extension": ".py",
   "mimetype": "text/x-python",
   "name": "python",
   "nbconvert_exporter": "python",
   "pygments_lexer": "ipython3",
   "version": "3.10.4"
  }
 },
 "nbformat": 4,
 "nbformat_minor": 5
}
